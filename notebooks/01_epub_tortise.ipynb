{
 "cells": [
  {
   "cell_type": "code",
   "execution_count": 1,
   "metadata": {},
   "outputs": [
    {
     "name": "stderr",
     "output_type": "stream",
     "text": [
      "/home/wassname/miniforge3/envs/tts/lib/python3.10/site-packages/tqdm/auto.py:21: TqdmWarning: IProgress not found. Please update jupyter and ipywidgets. See https://ipywidgets.readthedocs.io/en/stable/user_install.html\n",
      "  from .autonotebook import tqdm as notebook_tqdm\n"
     ]
    }
   ],
   "source": [
    "\"\"\"modified from https://gist.github.com/endes0/0967d7c5bb1877559c4ae84be05e036c\"\"\"\n",
    "from tika import parser\n",
    "\n",
    "import torchaudio\n",
    "import argparse\n",
    "from sanitize_filename import sanitize\n",
    "import re\n",
    "from pathlib import Path\n",
    "from tqdm.auto import tqdm\n",
    "from tortoise.api import TextToSpeech\n",
    "from tortoise.utils.audio import load_audio, load_voice, load_voices\n",
    "from tortoise.utils.tokenizer import VoiceBpeTokenizer\n",
    "\n",
    "import torch\n",
    "import json\n",
    "from dataclasses import dataclass\n",
    "# import pysbd\n",
    "from typing import List\n",
    "from loguru import logger\n",
    "from langchain.text_splitter import CharacterTextSplitter, RecursiveCharacterTextSplitter\n"
   ]
  },
  {
   "cell_type": "code",
   "execution_count": 2,
   "metadata": {},
   "outputs": [],
   "source": [
    "\n",
    "@dataclass\n",
    "class Writer:\n",
    "    out_dir: Path\n",
    "    # tts: TTS\n",
    "    \n",
    "    def __post_init__(self):\n",
    "        self.m3u = open(self.out_dir / 'playlist.m3u', 'w')\n",
    "        self.m3u.write('#EXTM3U\\n')\n",
    "        self.chapter = 1\n",
    "\n",
    "    def write_chapter(self, waveforms: torch.tensor, SAMPLE_RATE=24000):\n",
    "        wav_f = self.out_dir / f'{self.chapter:03g}.ogg'\n",
    "        torchaudio.save(wav_f, waveforms.cpu(), SAMPLE_RATE)\n",
    "        self.m3u.write(f'{wav_f}\\n')\n",
    "        self.chapter += 1\n",
    "        return wav_f\n",
    "\n",
    "\n",
    "    def close(self):\n",
    "        self.m3u.close()\n",
    "\n",
    "def split_into_sentences(text, tokenizer) -> List[str]:        \n",
    "    limit = 200\n",
    "    chunk_limit = limit\n",
    "    splitter = RecursiveCharacterTextSplitter(\n",
    "        length_function=lambda x: len(tokenizer.encode(x)),\n",
    "        chunk_size=chunk_limit,\n",
    "        chunk_overlap=0,\n",
    "        keep_separator=True,\n",
    "        strip_whitespace=True,\n",
    "        separators=[\n",
    "            \"\\n\\n\", \"\\n\", \"\\xa0\", '<div>', '<p>', '<br>', \"\\r\", \".\",  \"!\", \"?\", \n",
    "            '\"', \"'\", \"‘\", \"’\", \"“\", \"”\", \"„\", \"‟\",  \n",
    "            \"(\", \")\", \"[\", \"]\", \"{\", \"}\", \n",
    "            \"…\", \":\", \";\", \"—\", \"   \"\n",
    "            \" \", '' # these ensure that there is always something to split by so chunks are always at limit\n",
    "    ],\n",
    "    )\n",
    "    texts = splitter.split_text(text)\n",
    "    ls = [splitter._length_function(x) for x in texts]\n",
    "    logger.debug(f'split lengths {ls}. max={max(ls)} chunk_limit={chunk_limit}')\n",
    "    assert all([l<=limit for l in ls]), 'all senteces should be below limit'\n",
    "    return texts\n"
   ]
  },
  {
   "cell_type": "code",
   "execution_count": null,
   "metadata": {},
   "outputs": [],
   "source": []
  },
  {
   "cell_type": "code",
   "execution_count": 3,
   "metadata": {},
   "outputs": [
    {
     "data": {
      "text/plain": [
       "PosixPath('/media/wassname/SGIronWolf/projects5/tts-ai/use-tts-mjc')"
      ]
     },
     "execution_count": 3,
     "metadata": {},
     "output_type": "execute_result"
    }
   ],
   "source": [
    "__file__ = '../01_epub_tortise.ipynb'\n",
    "root_dir = Path(__file__).resolve().absolute().parent\n",
    "root_dir\n"
   ]
  },
  {
   "cell_type": "code",
   "execution_count": null,
   "metadata": {},
   "outputs": [],
   "source": []
  },
  {
   "cell_type": "code",
   "execution_count": 4,
   "metadata": {},
   "outputs": [
    {
     "name": "stderr",
     "output_type": "stream",
     "text": [
      "\u001b[32m2023-10-08 11:19:11.630\u001b[0m | \u001b[1mINFO    \u001b[0m | \u001b[36m__main__\u001b[0m:\u001b[36m<module>\u001b[0m:\u001b[36m43\u001b[0m - \u001b[1mOutput folder: /media/wassname/SGIronWolf/projects5/tts-ai/use-tts-mjc/out/a_short_guide_to_the_inner_citadel_-_massimo_pigliucci20231008_03-19-11\u001b[0m\n"
     ]
    }
   ],
   "source": [
    "# Get the command line arguments\n",
    "parser2 = argparse.ArgumentParser()\n",
    "parser2.add_argument('--epub', type=Path, \n",
    "                     default=root_dir/'data/A Short Guide to the Inner Citadel - Massimo Pigliucci.epub',\n",
    "                    #  default=root_dir/'data/golden_saying_of_epictetus.epub',\n",
    "                    help='PDF file to read')\n",
    "parser2.add_argument('-o', '--out', type=Path, default=None, help='Output folder')\n",
    "parser2.add_argument('-f', '--force', action='store_true', default=False, help='Overwrite')\n",
    "parser2.add_argument('-t', '--test', action='store_true', default=False, help='Overwrite')\n",
    "parser2.add_argument('-l', '--limit', type=int, default=400,\n",
    "                    help='Maximum number of characters to synthesize at once')\n",
    "parser2.add_argument('-m', '--model', type=str, \n",
    "                    default=\"tts_models/multilingual/multi-dataset/xtts_v1\",\n",
    "                    # default='facebook/fastspeech2-en-ljspeech',\n",
    "                    help='fairseq model to use from HuggingFace Hub')\n",
    "parser2.add_argument('-s', '--speaker', type=Path, default=root_dir / \"data/speakers/donaldrobertson.wav\",\n",
    "                    help='Speaker wav to use from the model')\n",
    "args = parser2.parse_args([])\n",
    "\n",
    "if args.out is None:\n",
    "    from datetime import datetime\n",
    "    timestamp = datetime.utcnow().strftime('%Y%m%d_%H-%M-%S')\n",
    "    args.out = root_dir / 'out' / (sanitize(args.epub.stem).replace(' ', '_').lower() + ' ' + timestamp)\n",
    "\n",
    "# load epib\n",
    "parsed = parser.from_file(str(args.epub))\n",
    "text = parsed[\"content\"]\n",
    "if args.test:\n",
    "    text = text[:1000]\n",
    "\n",
    "\n",
    "# make output directory\n",
    "out_dir = Path(args.out)\n",
    "if out_dir.exists():\n",
    "    if not args.force:\n",
    "        logger.warning('Output folder already exists. Use -f to overwrite.')\n",
    "        exit(1)\n",
    "    else:\n",
    "        for f in out_dir.glob('*'):\n",
    "            f.unlink()\n",
    "        out_dir.rmdir()\n",
    "out_dir.mkdir()\n",
    "logger.info(f'Output folder: {out_dir}')\n"
   ]
  },
  {
   "cell_type": "code",
   "execution_count": 5,
   "metadata": {},
   "outputs": [
    {
     "name": "stderr",
     "output_type": "stream",
     "text": [
      "\u001b[32m2023-10-08 11:19:11.774\u001b[0m | \u001b[1mINFO    \u001b[0m | \u001b[36m__main__\u001b[0m:\u001b[36m<module>\u001b[0m:\u001b[36m18\u001b[0m - \u001b[1muse_cuda True\u001b[0m\n"
     ]
    },
    {
     "name": "stdout",
     "output_type": "stream",
     "text": [
      "[2023-10-08 11:19:20,690] [INFO] [logging.py:93:log_dist] [Rank -1] DeepSpeed info: version=0.8.3, git-hash=unknown, git-branch=unknown\n",
      "[2023-10-08 11:19:20,691] [WARNING] [config_utils.py:75:_process_deprecated_field] Config parameter mp_size is deprecated use tensor_parallel.tp_size instead\n",
      "[2023-10-08 11:19:20,692] [INFO] [logging.py:93:log_dist] [Rank -1] quantize_bits = 8 mlp_extra_grouping = False, quantize_groups = 1\n",
      "Installed CUDA version 11.5 does not match the version torch was compiled with 11.7 but since the APIs are compatible, accepting this combination\n"
     ]
    },
    {
     "name": "stderr",
     "output_type": "stream",
     "text": [
      "Using /home/wassname/.cache/torch_extensions/py310_cu117 as PyTorch extensions root...\n",
      "Detected CUDA files, patching ldflags\n",
      "Emitting ninja build file /home/wassname/.cache/torch_extensions/py310_cu117/transformer_inference/build.ninja...\n",
      "Building extension module transformer_inference...\n",
      "Allowing ninja to set a default number of workers... (overridable by setting the environment variable MAX_JOBS=N)\n"
     ]
    },
    {
     "name": "stdout",
     "output_type": "stream",
     "text": [
      "ninja: no work to do.\n",
      "Time to load transformer_inference op: 0.051093101501464844 seconds\n",
      "[2023-10-08 11:19:21,249] [INFO] [logging.py:93:log_dist] [Rank -1] DeepSpeed-Inference config: {'layer_id': 0, 'hidden_size': 1024, 'intermediate_size': 4096, 'heads': 16, 'num_hidden_layers': -1, 'fp16': True, 'pre_layer_norm': True, 'local_rank': -1, 'stochastic_mode': False, 'epsilon': 1e-05, 'mp_size': 1, 'q_int8': False, 'scale_attention': True, 'triangular_masking': True, 'local_attention': False, 'window_size': 1, 'rotary_dim': -1, 'rotate_half': False, 'rotate_every_two': True, 'return_tuple': True, 'mlp_after_attn': True, 'mlp_act_func_type': <ActivationFuncType.GELU: 1>, 'specialized_mode': False, 'training_mp_size': 1, 'bigscience_bloom': False, 'max_out_tokens': 1024, 'scale_attn_by_inverse_layer_idx': False, 'enable_qkv_quantization': False, 'use_mup': False, 'return_single_tuple': False}\n",
      "Installed CUDA version 11.5 does not match the version torch was compiled with 11.7 but since the APIs are compatible, accepting this combination\n",
      "Time to load transformer_inference op: 0.0019137859344482422 seconds\n"
     ]
    },
    {
     "name": "stderr",
     "output_type": "stream",
     "text": [
      "Loading extension module transformer_inference...\n",
      "Using /home/wassname/.cache/torch_extensions/py310_cu117 as PyTorch extensions root...\n",
      "No modifications detected for re-loaded extension module transformer_inference, skipping build step...\n",
      "Loading extension module transformer_inference...\n"
     ]
    }
   ],
   "source": [
    "\n",
    "\n",
    "# write metadata to dir\n",
    "from json_tricks import dump, dumps, load, loads, strip_comments\n",
    "f_metadata = out_dir / 'metadata.json'\n",
    "with open(f_metadata, 'w') as fo:\n",
    "    dump(dict(\n",
    "        epub_metadata=parsed['metadata'],\n",
    "        args=args.__dict__,\n",
    "        \n",
    "    ), fo, indent=4)\n",
    "\n",
    "# should be torch tensors containing 22.05kHz waveform data.\n",
    "# see https://github.com/neonbjb/tortoise-tts/blob/5bbb0e0b97ea2f62c12e90402e8ad4faee55e697/tortoise/api.py#L365C82-L365C140\n",
    "ref, INPUT_SAMPLE_RATE = torchaudio.load(args.speaker)\n",
    "reference_clips = [ref[..., -400000:]] # take just the last ~12 seconds\n",
    "\n",
    "# load model\n",
    "use_cuda = False if args.test else torch.cuda.is_available()\n",
    "logger.info(f'use_cuda {use_cuda}')\n",
    "\n",
    "\n",
    "tts = TextToSpeech(use_deepspeed=True, kv_cache=True, half=True)\n"
   ]
  },
  {
   "cell_type": "code",
   "execution_count": 6,
   "metadata": {},
   "outputs": [],
   "source": [
    "INPUT_SAMPLE_RATE\n",
    "OUTPUT_SAMPLE_RATE = 24000\n"
   ]
  },
  {
   "cell_type": "code",
   "execution_count": 7,
   "metadata": {},
   "outputs": [
    {
     "name": "stderr",
     "output_type": "stream",
     "text": [
      "\u001b[32m2023-10-08 11:19:24.549\u001b[0m | \u001b[34m\u001b[1mDEBUG   \u001b[0m | \u001b[36m__main__\u001b[0m:\u001b[36msplit_into_sentences\u001b[0m:\u001b[36m41\u001b[0m - \u001b[34m\u001b[1msplit lengths [22, 185, 169, 140, 123, 147, 18, 172, 30, 137, 112, 157, 174, 157, 104, 124, 125, 138, 23, 194, 120, 171, 197, 5, 126, 124, 134, 129, 166, 135, 174, 186, 130, 75, 75, 115, 97, 73, 73, 163, 114, 93, 143, 94, 147, 130, 24, 169, 142, 133, 73, 192, 136, 134, 73, 131, 89, 31, 60, 165, 1, 175, 120, 162, 96, 1, 189, 174, 59, 92, 163, 46, 150, 86, 176, 25, 196, 18, 124, 177, 139, 143, 96, 170, 51, 175, 191, 156, 186, 171, 99, 108, 17, 189, 39, 20, 144, 140, 161, 96, 82, 123, 187, 106, 116, 84, 194, 191, 110, 117, 184, 104, 140, 102, 155, 1, 197, 80, 95, 198, 191, 129, 193, 177, 113, 116, 144, 143, 158, 118, 124, 32, 190, 171, 158, 78, 148, 58, 152, 102, 135, 55, 177, 136, 138, 182, 24, 76, 158, 121, 154, 165, 172, 67, 104, 119, 123, 157, 189, 105, 43, 170, 58, 168, 190, 137, 199, 163, 41, 111, 17, 186, 112, 199, 170, 183, 149, 156, 131, 88, 160, 163, 112, 107, 178, 179, 125, 159, 199, 12, 150, 133, 148, 181, 168, 138, 179, 186, 49, 68, 178, 74, 119, 98, 121, 172, 108, 95, 28, 193, 169, 145, 184, 78, 196, 22, 115, 97, 174, 179, 129, 117, 155, 197, 116, 92, 168, 146, 117, 177, 80, 165, 1, 172, 125, 124, 145, 105, 195, 166, 149, 166, 135, 150, 179, 63, 57, 143, 102, 186, 24, 187, 1, 103, 105, 166, 112, 191, 24, 187, 144, 112, 34, 65, 170, 62, 76, 144, 137, 15, 101, 157, 108, 137, 76, 152, 177, 167, 189, 13, 120, 163, 151, 172, 165, 88, 180, 80, 196, 165, 177, 65, 148, 147, 85, 67, 138, 160, 109, 47, 192, 62, 93, 174, 139, 75, 134, 173, 142, 187, 17, 49, 167, 123, 159, 111, 135, 123, 113, 168, 157, 126, 186, 35, 93, 132, 197, 25, 194, 157, 198, 134, 190, 167, 67, 114, 171, 139, 175, 171, 147, 39, 163, 102, 98, 26, 137, 99, 18, 128, 154, 141, 63, 127, 150, 116, 52, 84, 189, 17, 145, 168, 160, 173, 183, 191, 196, 128, 147, 142, 129, 71, 116, 124, 167, 196, 135, 160, 79, 154, 63, 9, 163, 193, 27, 10, 191, 69, 18]. max=199 chunk_limit=200\u001b[0m\n",
      "chunks:   0%|          | 0/389 [00:00<?, ?it/s]\u001b[32m2023-10-08 11:19:24.551\u001b[0m | \u001b[34m\u001b[1mDEBUG   \u001b[0m | \u001b[36m__main__\u001b[0m:\u001b[36m<module>\u001b[0m:\u001b[36m14\u001b[0m - \u001b[34m\u001b[1mcurrent sentence `A Short Guide to the Inner Citadel`\u001b[0m\n"
     ]
    },
    {
     "name": "stdout",
     "output_type": "stream",
     "text": [
      "Generating autoregressive samples..\n"
     ]
    },
    {
     "name": "stderr",
     "output_type": "stream",
     "text": []
    },
    {
     "name": "stdout",
     "output_type": "stream",
     "text": [
      "------------------------------------------------------\n",
      "Free memory : 8.120789 (GigaBytes)  \n",
      "Total memory: 10.731750 (GigaBytes)  \n",
      "Requested memory: 1.687500 (GigaBytes) \n",
      "Setting maximum total tokens (input + output) to 1024 \n",
      "------------------------------------------------------\n"
     ]
    },
    {
     "name": "stderr",
     "output_type": "stream",
     "text": [
      "100%|██████████| 12/12 [00:03<00:00,  3.42it/s]\n"
     ]
    },
    {
     "name": "stdout",
     "output_type": "stream",
     "text": [
      "Computing best candidates using CLVP\n"
     ]
    },
    {
     "name": "stderr",
     "output_type": "stream",
     "text": [
      "100%|██████████| 12/12 [00:01<00:00,  9.13it/s]\n"
     ]
    },
    {
     "name": "stdout",
     "output_type": "stream",
     "text": [
      "Transforming autoregressive outputs into audio..\n"
     ]
    },
    {
     "name": "stderr",
     "output_type": "stream",
     "text": [
      "100%|██████████| 80/80 [00:02<00:00, 27.28it/s]\n",
      "chunks:   0%|          | 1/389 [00:10<1:09:21, 10.72s/it]\u001b[32m2023-10-08 11:19:35.276\u001b[0m | \u001b[34m\u001b[1mDEBUG   \u001b[0m | \u001b[36m__main__\u001b[0m:\u001b[36m<module>\u001b[0m:\u001b[36m14\u001b[0m - \u001b[34m\u001b[1mcurrent sentence `A Short Guide to The Inner Citadel On Pierre Hadot’s Classic Analysis of Marcus Aurelius’ Meditations By Massimo Pigliucci   © Massimo Pigliucci, 2021   A Short Guide to The Inner Citadel — On Pierre Hadot’s Classic Analysis of Marcus Aurelius’ Meditations`\u001b[0m\n",
      "chunks:   1%|          | 2/389 [01:17<4:41:40, 43.67s/it]\u001b[32m2023-10-08 11:20:42.010\u001b[0m | \u001b[34m\u001b[1mDEBUG   \u001b[0m | \u001b[36m__main__\u001b[0m:\u001b[36m<module>\u001b[0m:\u001b[36m14\u001b[0m - \u001b[34m\u001b[1mcurrent sentence `By Massimo Pigliucci, K.D. Irani Professor of Philosophy, the City College of New York    Stoa Nova Publications   Cover: Pierre Hadot, Wikipedia   If you like this free booklet, please consider supporting my writings at Patreon or Medium figsinwinter.blog`\u001b[0m\n",
      "chunks:   1%|          | 3/389 [02:17<5:27:45, 50.95s/it]\u001b[32m2023-10-08 11:21:41.613\u001b[0m | \u001b[34m\u001b[1mDEBUG   \u001b[0m | \u001b[36m__main__\u001b[0m:\u001b[36m<module>\u001b[0m:\u001b[36m14\u001b[0m - \u001b[34m\u001b[1mcurrent sentence `Introduction   Pierre Hadot’s The Inner Citadel is a classic of modern Stoicism and a must read for anyone seriously interested in the philosophies of Marcus Aurelius and of the thinker who influenced him the most, Epictetus.`\u001b[0m\n",
      "chunks:   1%|          | 4/389 [03:05<5:21:03, 50.04s/it]\u001b[32m2023-10-08 11:22:30.252\u001b[0m | \u001b[34m\u001b[1mDEBUG   \u001b[0m | \u001b[36m__main__\u001b[0m:\u001b[36m<module>\u001b[0m:\u001b[36m14\u001b[0m - \u001b[34m\u001b[1mcurrent sentence `This publication emerged out of an intensive three-day workshop I taught on Hadot’s book and represents an attempt to introduce readers to what is otherwise a fairly technical and lengthy treatment.`\u001b[0m\n",
      "chunks:   1%|▏         | 5/389 [03:48<5:03:23, 47.40s/it]\u001b[32m2023-10-08 11:23:12.991\u001b[0m | \u001b[34m\u001b[1mDEBUG   \u001b[0m | \u001b[36m__main__\u001b[0m:\u001b[36m<module>\u001b[0m:\u001b[36m14\u001b[0m - \u001b[34m\u001b[1mcurrent sentence `Nevertheless, please take what you are about to read as an invitation and a guide to actually reading Hadot, not just as self-sufficient Cliffs Notes.   Enjoy, study, and practice.   —Massimo Pigliucci  Brooklyn, Summer 2021`\u001b[0m\n",
      "chunks:   2%|▏         | 6/389 [04:53<5:41:07, 53.44s/it]\u001b[32m2023-10-08 11:24:18.148\u001b[0m | \u001b[34m\u001b[1mDEBUG   \u001b[0m | \u001b[36m__main__\u001b[0m:\u001b[36m<module>\u001b[0m:\u001b[36m14\u001b[0m - \u001b[34m\u001b[1mcurrent sentence `1-Marcus Aurelius’ teachers`\u001b[0m\n",
      "chunks:   2%|▏         | 7/389 [05:04<4:10:47, 39.39s/it]\u001b[32m2023-10-08 11:24:28.613\u001b[0m | \u001b[34m\u001b[1mDEBUG   \u001b[0m | \u001b[36m__main__\u001b[0m:\u001b[36m<module>\u001b[0m:\u001b[36m14\u001b[0m - \u001b[34m\u001b[1mcurrent sentence `Pierre Hadot’s book, The Inner Citadel, is a classic, originally published in French in 1992, and translated into English by Michael Chase. It’s comprised of ten chapters, and depending on how my own reading goes, I may devote a post to each chapter`\u001b[0m\n",
      "chunks:   2%|▏         | 8/389 [06:04<4:51:44, 45.94s/it]\u001b[32m2023-10-08 11:25:28.585\u001b[0m | \u001b[34m\u001b[1mDEBUG   \u001b[0m | \u001b[36m__main__\u001b[0m:\u001b[36m<module>\u001b[0m:\u001b[36m14\u001b[0m - \u001b[34m\u001b[1mcurrent sentence `. Here we begin with 1: “The emperor-philosopher.”`\u001b[0m\n",
      "chunks:   2%|▏         | 9/389 [06:18<3:48:39, 36.10s/it]\u001b[32m2023-10-08 11:25:43.052\u001b[0m | \u001b[34m\u001b[1mDEBUG   \u001b[0m | \u001b[36m__main__\u001b[0m:\u001b[36m<module>\u001b[0m:\u001b[36m14\u001b[0m - \u001b[34m\u001b[1mcurrent sentence `As Hadot points out, Marcus had a happy youth, but a tormented reign. He was born in Rome in 121 CE to a wealthy family that owned a number of brick factories and had significant political influence`\u001b[0m\n",
      "\u001b[32m2023-10-08 11:26:34.581\u001b[0m | \u001b[33m\u001b[1mWARNING \u001b[0m | \u001b[36m__main__\u001b[0m:\u001b[36m<module>\u001b[0m:\u001b[36m24\u001b[0m - \u001b[33m\u001b[1mwrote chapter /media/wassname/SGIronWolf/projects5/tts-ai/use-tts-mjc/out/a_short_guide_to_the_inner_citadel_-_massimo_pigliucci20231008_03-19-11/1.ogg\u001b[0m\n",
      "chunks:   3%|▎         | 10/389 [07:10<4:18:08, 40.87s/it]\u001b[32m2023-10-08 11:26:34.582\u001b[0m | \u001b[34m\u001b[1mDEBUG   \u001b[0m | \u001b[36m__main__\u001b[0m:\u001b[36m<module>\u001b[0m:\u001b[36m14\u001b[0m - \u001b[34m\u001b[1mcurrent sentence `. He was noticed and protected by the emperor Hadrian, who instructed his chosen successor, Antoninus Pius, to adopt Marcus as well as Lucius Verus, and to groom them both for the throne`\u001b[0m\n",
      "chunks:   3%|▎         | 11/389 [07:49<4:15:24, 40.54s/it]\u001b[32m2023-10-08 11:27:14.383\u001b[0m | \u001b[34m\u001b[1mDEBUG   \u001b[0m | \u001b[36m__main__\u001b[0m:\u001b[36m<module>\u001b[0m:\u001b[36m14\u001b[0m - \u001b[34m\u001b[1mcurrent sentence `. Marcus did become emperor in 161 CE, at the death of Antoninus, and he immediately appointed the far less capable Lucius as co-emperor (Lucius died in 169 CE, probably of the plague, leaving Marcus sole emperor).`\u001b[0m\n",
      "chunks:   3%|▎         | 12/389 [08:47<4:46:41, 45.63s/it]\u001b[32m2023-10-08 11:28:11.646\u001b[0m | \u001b[34m\u001b[1mDEBUG   \u001b[0m | \u001b[36m__main__\u001b[0m:\u001b[36m<module>\u001b[0m:\u001b[36m14\u001b[0m - \u001b[34m\u001b[1mcurrent sentence `Marcus had married Faustina, daughter of Antoninus, in 145 CE, and the two had thirteen children, of whom only five daughters and one son survived into adulthood. Unfortunately for the Roman people, that son was the infamous Commodus, who eventually inherited the Empire.`\u001b[0m\n",
      "chunks:   3%|▎         | 13/389 [09:53<5:26:18, 52.07s/it]\u001b[32m2023-10-08 11:29:18.543\u001b[0m | \u001b[34m\u001b[1mDEBUG   \u001b[0m | \u001b[36m__main__\u001b[0m:\u001b[36m<module>\u001b[0m:\u001b[36m14\u001b[0m - \u001b[34m\u001b[1mcurrent sentence `Trouble began the very same year of Marcus and Verus’ ascent to the throne, when the Parthians invaded the eastern provinces of Rome. It took several years and the capable leadership of generals Statius Priscus and Avidius Cassius to push back the Parthians`\u001b[0m\n",
      "chunks:   4%|▎         | 14/389 [10:43<5:20:37, 51.30s/it]\u001b[32m2023-10-08 11:30:08.062\u001b[0m | \u001b[34m\u001b[1mDEBUG   \u001b[0m | \u001b[36m__main__\u001b[0m:\u001b[36m<module>\u001b[0m:\u001b[36m14\u001b[0m - \u001b[34m\u001b[1mcurrent sentence `. In 166 CE, as soon as the ceremonies for the victory had been held, the Marcomanni and the Quadi threatened the northern frontier with what today is Germany`\u001b[0m\n",
      "chunks:   4%|▍         | 15/389 [11:14<4:42:17, 45.29s/it]\u001b[32m2023-10-08 11:30:39.415\u001b[0m | \u001b[34m\u001b[1mDEBUG   \u001b[0m | \u001b[36m__main__\u001b[0m:\u001b[36m<module>\u001b[0m:\u001b[36m14\u001b[0m - \u001b[34m\u001b[1mcurrent sentence `. Consequently, Marcus had to carry out military campaigns in the Danube region from 169 to 175 CE, and it was during this time that he likely wrote the Meditations.`\u001b[0m\n",
      "chunks:   4%|▍         | 16/389 [11:53<4:28:43, 43.23s/it]\u001b[32m2023-10-08 11:31:17.855\u001b[0m | \u001b[34m\u001b[1mDEBUG   \u001b[0m | \u001b[36m__main__\u001b[0m:\u001b[36m<module>\u001b[0m:\u001b[36m14\u001b[0m - \u001b[34m\u001b[1mcurrent sentence `As soon as the Marcomanni and Quadi situation was under control, Avidius Cassius rebelled and declared himself emperor, but was subdued by Martius Verus, the loyal governor of Cappadocia (modern Turkey)`\u001b[0m\n",
      "chunks:   4%|▍         | 17/389 [12:33<4:21:55, 42.25s/it]\u001b[32m2023-10-08 11:31:57.824\u001b[0m | \u001b[34m\u001b[1mDEBUG   \u001b[0m | \u001b[36m__main__\u001b[0m:\u001b[36m<module>\u001b[0m:\u001b[36m14\u001b[0m - \u001b[34m\u001b[1mcurrent sentence `. Marcus at this point decided to embark on an extended trip east, together with Faustina, who however died en route and his remembered tenderly in the Meditations (I.17-18), despite her reputation as an adulteress.`\u001b[0m\n",
      "chunks:   5%|▍         | 18/389 [13:22<4:34:57, 44.47s/it]\u001b[32m2023-10-08 11:32:47.462\u001b[0m | \u001b[34m\u001b[1mDEBUG   \u001b[0m | \u001b[36m__main__\u001b[0m:\u001b[36m<module>\u001b[0m:\u001b[36m14\u001b[0m - \u001b[34m\u001b[1mcurrent sentence `During his period as emperor Marcus didn`\u001b[0m\n",
      "\u001b[32m2023-10-08 11:32:57.823\u001b[0m | \u001b[33m\u001b[1mWARNING \u001b[0m | \u001b[36m__main__\u001b[0m:\u001b[36m<module>\u001b[0m:\u001b[36m24\u001b[0m - \u001b[33m\u001b[1mwrote chapter /media/wassname/SGIronWolf/projects5/tts-ai/use-tts-mjc/out/a_short_guide_to_the_inner_citadel_-_massimo_pigliucci20231008_03-19-11/2.ogg\u001b[0m\n",
      "chunks:   5%|▍         | 19/389 [13:33<3:31:03, 34.22s/it]\u001b[32m2023-10-08 11:32:57.825\u001b[0m | \u001b[34m\u001b[1mDEBUG   \u001b[0m | \u001b[36m__main__\u001b[0m:\u001b[36m<module>\u001b[0m:\u001b[36m14\u001b[0m - \u001b[34m\u001b[1mcurrent sentence `’t just face war and rebellion, but also a number of other calamities, including major floodings of the Tiber river (161 CE), a gigantic earthquake in Smyrna (Turkey, 178 CE), and a plague (166 CE) that cost million of lives throughout the empire`\u001b[0m\n",
      "chunks:   5%|▌         | 20/389 [14:45<4:40:01, 45.53s/it]\u001b[32m2023-10-08 11:34:09.715\u001b[0m | \u001b[34m\u001b[1mDEBUG   \u001b[0m | \u001b[36m__main__\u001b[0m:\u001b[36m<module>\u001b[0m:\u001b[36m14\u001b[0m - \u001b[34m\u001b[1mcurrent sentence `. After his return to Rome, he had to leave again to engage on another northern campaign, and died most likely at Vienna in 180 CE. As commentator Cassius Dio aptly put it:`\u001b[0m\n",
      "chunks:   5%|▌         | 21/389 [15:21<4:22:49, 42.85s/it]\u001b[32m2023-10-08 11:34:46.317\u001b[0m | \u001b[34m\u001b[1mDEBUG   \u001b[0m | \u001b[36m__main__\u001b[0m:\u001b[36m<module>\u001b[0m:\u001b[36m14\u001b[0m - \u001b[34m\u001b[1mcurrent sentence `“He didn’t have the luck which he deserved … but was confronted, throughout his reign, by a multitude of disasters. That is why I admire him more than any other, for it was amidst these extraordinary and unparalleled difficulties that he was able to survive, and to save the Empire.”`\u001b[0m\n",
      "chunks:   6%|▌         | 22/389 [16:32<5:13:56, 51.32s/it]\u001b[32m2023-10-08 11:35:57.399\u001b[0m | \u001b[34m\u001b[1mDEBUG   \u001b[0m | \u001b[36m__main__\u001b[0m:\u001b[36m<module>\u001b[0m:\u001b[36m14\u001b[0m - \u001b[34m\u001b[1mcurrent sentence `Marcus was a philosopher, but not, of course, in the modern sense of an academic profession. As Hadot points out, in antiquity a philosopher could be a teacher, like Zeno or Musonius Rufus, but also anyone who actually practiced a chosen philosophy of life. As Epictetus puts it in Discourses III.21`\u001b[0m\n",
      "chunks:   6%|▌         | 23/389 [17:49<5:59:54, 59.00s/it]\u001b[32m2023-10-08 11:37:14.308\u001b[0m | \u001b[34m\u001b[1mDEBUG   \u001b[0m | \u001b[36m__main__\u001b[0m:\u001b[36m<module>\u001b[0m:\u001b[36m14\u001b[0m - \u001b[34m\u001b[1mcurrent sentence `.5:`\u001b[0m\n",
      "chunks:   6%|▌         | 24/389 [17:56<4:24:01, 43.40s/it]\u001b[32m2023-10-08 11:37:21.314\u001b[0m | \u001b[34m\u001b[1mDEBUG   \u001b[0m | \u001b[36m__main__\u001b[0m:\u001b[36m<module>\u001b[0m:\u001b[36m14\u001b[0m - \u001b[34m\u001b[1mcurrent sentence `“Eat like a man, drink like a man, get dressed, get married, have children, lead the life of a citizen. … Show us all this, so that we can see whether or not you have really learned something from the philosophers.”`\u001b[0m\n",
      "chunks:   6%|▋         | 25/389 [18:37<4:18:59, 42.69s/it]\u001b[32m2023-10-08 11:38:02.351\u001b[0m | \u001b[34m\u001b[1mDEBUG   \u001b[0m | \u001b[36m__main__\u001b[0m:\u001b[36m<module>\u001b[0m:\u001b[36m14\u001b[0m - \u001b[34m\u001b[1mcurrent sentence `(Needless to say, we would update the language to gender neutral nowadays, and wouldn’t assume that getting married or having children is a necessary part of a good life. But the concept remains the same.)`\u001b[0m\n",
      "chunks:   7%|▋         | 26/389 [19:12<4:03:29, 40.25s/it]\u001b[32m2023-10-08 11:38:36.896\u001b[0m | \u001b[34m\u001b[1mDEBUG   \u001b[0m | \u001b[36m__main__\u001b[0m:\u001b[36m<module>\u001b[0m:\u001b[36m14\u001b[0m - \u001b[34m\u001b[1mcurrent sentence `There are two documents that testify to Marcus’ interest in philosophy and to his adoption of Stoicism in particular: his correspondence with his teacher of rhetoric, Marcus Cornelius Fronto, and, of course, the Meditations`\u001b[0m\n",
      "\u001b[32m2023-10-08 11:39:33.170\u001b[0m | \u001b[33m\u001b[1mWARNING \u001b[0m | \u001b[36m__main__\u001b[0m:\u001b[36m<module>\u001b[0m:\u001b[36m24\u001b[0m - \u001b[33m\u001b[1mwrote chapter /media/wassname/SGIronWolf/projects5/tts-ai/use-tts-mjc/out/a_short_guide_to_the_inner_citadel_-_massimo_pigliucci20231008_03-19-11/3.ogg\u001b[0m\n",
      "chunks:   7%|▋         | 27/389 [20:08<4:31:50, 45.06s/it]\u001b[32m2023-10-08 11:39:33.171\u001b[0m | \u001b[34m\u001b[1mDEBUG   \u001b[0m | \u001b[36m__main__\u001b[0m:\u001b[36m<module>\u001b[0m:\u001b[36m14\u001b[0m - \u001b[34m\u001b[1mcurrent sentence `. It appears that the conversion to philosophy was due to the work of Junius Rusticus, a Stoic teacher who introduced Marcus to Epictetus, and who is accordingly thanked in the first book of the Meditations`\u001b[0m\n",
      "chunks:   7%|▋         | 28/389 [20:58<4:40:39, 46.65s/it]\u001b[32m2023-10-08 11:40:23.530\u001b[0m | \u001b[34m\u001b[1mDEBUG   \u001b[0m | \u001b[36m__main__\u001b[0m:\u001b[36m<module>\u001b[0m:\u001b[36m14\u001b[0m - \u001b[34m\u001b[1mcurrent sentence `. Marcus’ interest in philosophy dates back to when he was twelve, and it’s traceable to another teacher, Diognetus, who he said inspired in him “the desire to sleep on a cot and a simple animal-skin, and for things of this sort which belong to the Hellenic way of life.”`\u001b[0m\n",
      "chunks:   7%|▋         | 29/389 [22:07<5:18:54, 53.15s/it]\u001b[32m2023-10-08 11:41:31.855\u001b[0m | \u001b[34m\u001b[1mDEBUG   \u001b[0m | \u001b[36m__main__\u001b[0m:\u001b[36m<module>\u001b[0m:\u001b[36m14\u001b[0m - \u001b[34m\u001b[1mcurrent sentence `Rusticus, however, was Marcus’ favorite teacher, according to the Historia Augusta, and he consulted him on both private and public business. Rusticus was both Marcus’ friend and his spiritual guide, we would say today`\u001b[0m\n",
      "chunks:   8%|▊         | 30/389 [22:52<5:03:33, 50.73s/it]\u001b[32m2023-10-08 11:42:16.951\u001b[0m | \u001b[34m\u001b[1mDEBUG   \u001b[0m | \u001b[36m__main__\u001b[0m:\u001b[36m<module>\u001b[0m:\u001b[36m14\u001b[0m - \u001b[34m\u001b[1mcurrent sentence `. Interestingly, in the Meditations Marcus thanks Rusticus for having taught him not to get angry with people who irritated him, which apparently was in Marcus’ character to do. This is what good philosophy helps us with: becoming conscious of our own faults and constantly practicing their reduction.`\u001b[0m\n",
      "chunks:   8%|▊         | 31/389 [23:57<5:28:59, 55.14s/it]\u001b[32m2023-10-08 11:43:22.368\u001b[0m | \u001b[34m\u001b[1mDEBUG   \u001b[0m | \u001b[36m__main__\u001b[0m:\u001b[36m<module>\u001b[0m:\u001b[36m14\u001b[0m - \u001b[34m\u001b[1mcurrent sentence `At one point Marcus wrote to Fronto that he had been absorbed by the reading of Aristo, who - to Fronto’s horror, as a rhetorician - had reminded him that those who conduct advanced studies of dialectics are like people eating crayfish: they struggle with a lot of shell for very little nourishment`\u001b[0m\n",
      "chunks:   8%|▊         | 32/389 [25:02<5:44:53, 57.96s/it]\u001b[32m2023-10-08 11:44:26.926\u001b[0m | \u001b[34m\u001b[1mDEBUG   \u001b[0m | \u001b[36m__main__\u001b[0m:\u001b[36m<module>\u001b[0m:\u001b[36m14\u001b[0m - \u001b[34m\u001b[1mcurrent sentence `. I love the analogy, and the warning is in line with the Stoic attitude toward studying theoretical matters: it’s okay up to a point, so long as such theory is then useful in practice, to live a good life`\u001b[0m\n",
      "chunks:   8%|▊         | 33/389 [25:54<5:33:29, 56.21s/it]\u001b[32m2023-10-08 11:45:19.033\u001b[0m | \u001b[34m\u001b[1mDEBUG   \u001b[0m | \u001b[36m__main__\u001b[0m:\u001b[36m<module>\u001b[0m:\u001b[36m14\u001b[0m - \u001b[34m\u001b[1mcurrent sentence `. But beyond a certain point it becomes logic chopping or studying for erudition’s sake, something they considered unvirtuous.`\u001b[0m\n",
      "chunks:   9%|▊         | 34/389 [26:21<4:40:09, 47.35s/it]\u001b[32m2023-10-08 11:45:45.715\u001b[0m | \u001b[34m\u001b[1mDEBUG   \u001b[0m | \u001b[36m__main__\u001b[0m:\u001b[36m<module>\u001b[0m:\u001b[36m14\u001b[0m - \u001b[34m\u001b[1mcurrent sentence `Marcus also went to formal school, particularly attending the lessons of Apollonius of Chalcedon and Sextus of Chaeronea`\u001b[0m\n",
      "\u001b[32m2023-10-08 11:46:08.618\u001b[0m | \u001b[33m\u001b[1mWARNING \u001b[0m | \u001b[36m__main__\u001b[0m:\u001b[36m<module>\u001b[0m:\u001b[36m24\u001b[0m - \u001b[33m\u001b[1mwrote chapter /media/wassname/SGIronWolf/projects5/tts-ai/use-tts-mjc/out/a_short_guide_to_the_inner_citadel_-_massimo_pigliucci20231008_03-19-11/4.ogg\u001b[0m\n",
      "chunks:   9%|▉         | 35/389 [26:44<3:56:05, 40.02s/it]\u001b[32m2023-10-08 11:46:08.619\u001b[0m | \u001b[34m\u001b[1mDEBUG   \u001b[0m | \u001b[36m__main__\u001b[0m:\u001b[36m<module>\u001b[0m:\u001b[36m14\u001b[0m - \u001b[34m\u001b[1mcurrent sentence `. Apollonius insisted that Marcus should go to him, the teacher, and not him to the palace where Marcus lived, prompting the emperor Antoninus Pius to comment that he brought Apollonius from far away`\u001b[0m\n",
      "chunks:   9%|▉         | 36/389 [27:23<3:53:54, 39.76s/it]\u001b[32m2023-10-08 11:46:47.776\u001b[0m | \u001b[34m\u001b[1mDEBUG   \u001b[0m | \u001b[36m__main__\u001b[0m:\u001b[36m<module>\u001b[0m:\u001b[36m14\u001b[0m - \u001b[34m\u001b[1mcurrent sentence `at great expense to teach Marcus Stoicism, but that it was easier to get the philosopher to move from Chalcedon to Rome than from his house to the imperial palace`\u001b[0m\n",
      "chunks:  10%|▉         | 37/389 [27:59<3:47:24, 38.76s/it]\u001b[32m2023-10-08 11:47:24.218\u001b[0m | \u001b[34m\u001b[1mDEBUG   \u001b[0m | \u001b[36m__main__\u001b[0m:\u001b[36m<module>\u001b[0m:\u001b[36m14\u001b[0m - \u001b[34m\u001b[1mcurrent sentence `. Marcus attended Sextus’ school when he was old, and was criticized for this. In response to the criticism he said:`\u001b[0m\n",
      "chunks:  10%|▉         | 38/389 [28:22<3:19:20, 34.08s/it]\u001b[32m2023-10-08 11:47:47.354\u001b[0m | \u001b[34m\u001b[1mDEBUG   \u001b[0m | \u001b[36m__main__\u001b[0m:\u001b[36m<module>\u001b[0m:\u001b[36m14\u001b[0m - \u001b[34m\u001b[1mcurrent sentence `“Learning is a good thing, even for one who is growing old. From Sextus the philosopher I shall learn what I do not know yet.”`\u001b[0m\n",
      "chunks:  10%|█         | 39/389 [28:51<3:08:30, 32.32s/it]\u001b[32m2023-10-08 11:48:15.566\u001b[0m | \u001b[34m\u001b[1mDEBUG   \u001b[0m | \u001b[36m__main__\u001b[0m:\u001b[36m<module>\u001b[0m:\u001b[36m14\u001b[0m - \u001b[34m\u001b[1mcurrent sentence `Marcus probably learned not just ethics from his Stoic teachers - who were all influenced by Epictetus and his own teacher, Musonius Rufus - but also the other two standard topoi of Stoicism: “physics” (i.e., natural science and metaphysics) and “logic” (i.e`\u001b[0m\n",
      "chunks:  10%|█         | 40/389 [30:16<4:40:06, 48.16s/it]\u001b[32m2023-10-08 11:49:40.680\u001b[0m | \u001b[34m\u001b[1mDEBUG   \u001b[0m | \u001b[36m__main__\u001b[0m:\u001b[36m<module>\u001b[0m:\u001b[36m14\u001b[0m - \u001b[34m\u001b[1mcurrent sentence `., logic, dialectic, and what we today call psychology). This comes out very clearly in William Stephens’ Marcus Aurelius: A Guide for the Perplexed, which I highly recommend.`\u001b[0m\n",
      "chunks:  11%|█         | 41/389 [31:12<4:53:19, 50.57s/it]\u001b[32m2023-10-08 11:50:36.898\u001b[0m | \u001b[34m\u001b[1mDEBUG   \u001b[0m | \u001b[36m__main__\u001b[0m:\u001b[36m<module>\u001b[0m:\u001b[36m14\u001b[0m - \u001b[34m\u001b[1mcurrent sentence `When Marcus became emperor on 7 March 161 CE, Fronto the rhetorician was not happy about the notion of governing in a philosophical manner`\u001b[0m\n",
      "chunks:  11%|█         | 42/389 [31:46<4:24:31, 45.74s/it]\u001b[32m2023-10-08 11:51:11.358\u001b[0m | \u001b[34m\u001b[1mDEBUG   \u001b[0m | \u001b[36m__main__\u001b[0m:\u001b[36m<module>\u001b[0m:\u001b[36m14\u001b[0m - \u001b[34m\u001b[1mcurrent sentence `. Rather sarcastically, he wrote to Marcus: “Even should you attain the wisdom of Cleanthes or of Zeno, you shall still be obliged, like it or not, to wear the purple pallium, and not that of the philosophers, made of coarse wool`\u001b[0m\n",
      "chunks:  11%|█         | 43/389 [32:41<4:39:29, 48.47s/it]\u001b[32m2023-10-08 11:52:06.188\u001b[0m | \u001b[34m\u001b[1mDEBUG   \u001b[0m | \u001b[36m__main__\u001b[0m:\u001b[36m<module>\u001b[0m:\u001b[36m14\u001b[0m - \u001b[34m\u001b[1mcurrent sentence `.” That is: you may be a philosopher, but as an emperor you’ll still need to deploy the rhetorical skills I taught you in order to govern effectively.`\u001b[0m\n",
      "\u001b[32m2023-10-08 11:52:53.229\u001b[0m | \u001b[33m\u001b[1mWARNING \u001b[0m | \u001b[36m__main__\u001b[0m:\u001b[36m<module>\u001b[0m:\u001b[36m24\u001b[0m - \u001b[33m\u001b[1mwrote chapter /media/wassname/SGIronWolf/projects5/tts-ai/use-tts-mjc/out/a_short_guide_to_the_inner_citadel_-_massimo_pigliucci20231008_03-19-11/5.ogg\u001b[0m\n",
      "chunks:  11%|█▏        | 44/389 [33:28<4:36:13, 48.04s/it]\u001b[32m2023-10-08 11:52:53.231\u001b[0m | \u001b[34m\u001b[1mDEBUG   \u001b[0m | \u001b[36m__main__\u001b[0m:\u001b[36m<module>\u001b[0m:\u001b[36m14\u001b[0m - \u001b[34m\u001b[1mcurrent sentence `Nevertheless, Marcus did govern as a philosopher, surrounded by philosophers as advisors, and apparently the people of Rome were well aware of this fact, and arguably benefited from it (he was, famously, the last of the five “good emperors”)`\u001b[0m\n",
      "chunks:  12%|█▏        | 45/389 [34:24<4:48:41, 50.35s/it]\u001b[32m2023-10-08 11:53:48.984\u001b[0m | \u001b[34m\u001b[1mDEBUG   \u001b[0m | \u001b[36m__main__\u001b[0m:\u001b[36m<module>\u001b[0m:\u001b[36m14\u001b[0m - \u001b[34m\u001b[1mcurrent sentence `. Indeed Galen, the most famous doctor of antiquity, who was Marcus’ personal physician, testifies to an intense philosophical activity during Marcus’ reign within the circles of the Roman aristocracy.`\u001b[0m\n",
      "chunks:  12%|█▏        | 46/389 [35:11<4:42:32, 49.42s/it]\u001b[32m2023-10-08 11:54:36.239\u001b[0m | \u001b[34m\u001b[1mDEBUG   \u001b[0m | \u001b[36m__main__\u001b[0m:\u001b[36m<module>\u001b[0m:\u001b[36m14\u001b[0m - \u001b[34m\u001b[1mcurrent sentence `2-A first glimpse of the Meditations`\u001b[0m\n",
      "chunks:  12%|█▏        | 47/389 [35:24<3:38:53, 38.40s/it]\u001b[32m2023-10-08 11:54:48.921\u001b[0m | \u001b[34m\u001b[1mDEBUG   \u001b[0m | \u001b[36m__main__\u001b[0m:\u001b[36m<module>\u001b[0m:\u001b[36m14\u001b[0m - \u001b[34m\u001b[1mcurrent sentence `Apparently, Marcus’ personal philosophical diary was known relatively soon after his death, as it is, for instance, mentioned by Themistius about two centuries after. But we have to wait until the 10th century to find solid testimonies to the widespread copying of the work`\u001b[0m\n",
      "chunks:  12%|█▏        | 48/389 [36:28<4:21:24, 46.00s/it]\u001b[32m2023-10-08 11:55:52.637\u001b[0m | \u001b[34m\u001b[1mDEBUG   \u001b[0m | \u001b[36m__main__\u001b[0m:\u001b[36m<module>\u001b[0m:\u001b[36m14\u001b[0m - \u001b[34m\u001b[1mcurrent sentence `. The Meditations quickly became a staple of the Byzantine world, yet the first quotation of it in the Western world is as recent as the 16th century, in De Arte Cabalistica, by Johannes Reuchlin, published in 1517`\u001b[0m\n",
      "chunks:  13%|█▎        | 49/389 [37:29<4:47:20, 50.71s/it]\u001b[32m2023-10-08 11:56:54.337\u001b[0m | \u001b[34m\u001b[1mDEBUG   \u001b[0m | \u001b[36m__main__\u001b[0m:\u001b[36m<module>\u001b[0m:\u001b[36m14\u001b[0m - \u001b[34m\u001b[1mcurrent sentence `. The first printed edition appeared in 1559 in Zurich, based on a now lost manuscript. The only complete manuscript surviving is the Vaticanus Graecus 1950, dating from the 14th century`\u001b[0m\n",
      "chunks:  13%|█▎        | 50/389 [38:23<4:52:02, 51.69s/it]\u001b[32m2023-10-08 11:57:48.318\u001b[0m | \u001b[34m\u001b[1mDEBUG   \u001b[0m | \u001b[36m__main__\u001b[0m:\u001b[36m<module>\u001b[0m:\u001b[36m14\u001b[0m - \u001b[34m\u001b[1mcurrent sentence `. In other words - just like for so many other works of antiquity - it is by mere happenstance that we have Marcus’ work at all.`\u001b[0m\n",
      "chunks:  13%|█▎        | 51/389 [38:59<4:24:29, 46.95s/it]\u001b[32m2023-10-08 11:58:24.218\u001b[0m | \u001b[34m\u001b[1mDEBUG   \u001b[0m | \u001b[36m__main__\u001b[0m:\u001b[36m<module>\u001b[0m:\u001b[36m14\u001b[0m - \u001b[34m\u001b[1mcurrent sentence `We are accustomed to the relatively convenient structure of the Meditations in modern editions, organized as it is in 12 books, but in fact neither the manuscripts nor the first edition are divided into chapters, the familiar layout dating to a Latin translation published in Cambridge in 1652.`\u001b[0m\n",
      "\u001b[32m2023-10-08 11:59:28.451\u001b[0m | \u001b[33m\u001b[1mWARNING \u001b[0m | \u001b[36m__main__\u001b[0m:\u001b[36m<module>\u001b[0m:\u001b[36m24\u001b[0m - \u001b[33m\u001b[1mwrote chapter /media/wassname/SGIronWolf/projects5/tts-ai/use-tts-mjc/out/a_short_guide_to_the_inner_citadel_-_massimo_pigliucci20231008_03-19-11/6.ogg\u001b[0m\n",
      "chunks:  13%|█▎        | 52/389 [40:03<4:52:50, 52.14s/it]\u001b[32m2023-10-08 11:59:28.453\u001b[0m | \u001b[34m\u001b[1mDEBUG   \u001b[0m | \u001b[36m__main__\u001b[0m:\u001b[36m<module>\u001b[0m:\u001b[36m14\u001b[0m - \u001b[34m\u001b[1mcurrent sentence `Marcus, of course, didn’t call the book the Meditations, and Arethas (9th to 10th centuries), who was probably responsible for the preservation of the work, simply referred to it as “the very profitable book of the Emperor Marcus`\u001b[0m\n",
      "chunks:  14%|█▎        | 53/389 [40:48<4:38:42, 49.77s/it]\u001b[32m2023-10-08 12:00:12.701\u001b[0m | \u001b[34m\u001b[1mDEBUG   \u001b[0m | \u001b[36m__main__\u001b[0m:\u001b[36m<module>\u001b[0m:\u001b[36m14\u001b[0m - \u001b[34m\u001b[1mcurrent sentence `.” It is still Arethas that elsewhere uses the phrase “the ethical writings addressed to himself,” while a Latin translation with accompanying Greek text dating from 1559 proposes the title “On Himself or on His Life`\u001b[0m\n",
      "chunks:  14%|█▍        | 54/389 [41:38<4:39:36, 50.08s/it]\u001b[32m2023-10-08 12:01:03.504\u001b[0m | \u001b[34m\u001b[1mDEBUG   \u001b[0m | \u001b[36m__main__\u001b[0m:\u001b[36m<module>\u001b[0m:\u001b[36m14\u001b[0m - \u001b[34m\u001b[1mcurrent sentence `.” By the time of the English translation in 1634 the title had been rendered as “Meditations Concerning Himselfe.”`\u001b[0m\n",
      "chunks:  14%|█▍        | 55/389 [42:01<3:53:36, 41.97s/it]\u001b[32m2023-10-08 12:01:26.540\u001b[0m | \u001b[34m\u001b[1mDEBUG   \u001b[0m | \u001b[36m__main__\u001b[0m:\u001b[36m<module>\u001b[0m:\u001b[36m14\u001b[0m - \u001b[34m\u001b[1mcurrent sentence `Despite its enduring popularity, the book is notoriously difficult, repetitious, and characterized by a “preachy” tone, which is no surprise, given that Marcus was writing for his own benefit, not for an audience`\u001b[0m\n",
      "chunks:  14%|█▍        | 56/389 [42:50<4:04:09, 43.99s/it]\u001b[32m2023-10-08 12:02:15.255\u001b[0m | \u001b[34m\u001b[1mDEBUG   \u001b[0m | \u001b[36m__main__\u001b[0m:\u001b[36m<module>\u001b[0m:\u001b[36m14\u001b[0m - \u001b[34m\u001b[1mcurrent sentence `. We should really think of it as a dialogue that Marcus had with himself, about himself - a spiritual diary, if you will. As Hadot puts it:`\u001b[0m\n",
      "chunks:  15%|█▍        | 57/389 [43:24<3:46:35, 40.95s/it]\u001b[32m2023-10-08 12:02:49.109\u001b[0m | \u001b[34m\u001b[1mDEBUG   \u001b[0m | \u001b[36m__main__\u001b[0m:\u001b[36m<module>\u001b[0m:\u001b[36m14\u001b[0m - \u001b[34m\u001b[1mcurrent sentence `“The contents of the work are rather disconcerting as well`\u001b[0m\n",
      "chunks:  15%|█▍        | 58/389 [43:36<2:58:27, 32.35s/it]\u001b[32m2023-10-08 12:03:01.389\u001b[0m | \u001b[34m\u001b[1mDEBUG   \u001b[0m | \u001b[36m__main__\u001b[0m:\u001b[36m<module>\u001b[0m:\u001b[36m14\u001b[0m - \u001b[34m\u001b[1mcurrent sentence `. After Book I, which presents an undeniable unity in its evocation of all those, gods and men`\u001b[0m\n",
      "chunks:  15%|█▌        | 59/389 [44:04<2:49:29, 30.82s/it]\u001b[32m2023-10-08 12:03:28.626\u001b[0m | \u001b[34m\u001b[1mDEBUG   \u001b[0m | \u001b[36m__main__\u001b[0m:\u001b[36m<module>\u001b[0m:\u001b[36m14\u001b[0m - \u001b[34m\u001b[1mcurrent sentence `[and women, since Marcus mentions his mother], to whom Marcus is expressing gratitude, the rest of the work is nothing but a completely incoherent series - at least in appearance - of reflections which are not even composed in accordance with the rules of the same literary genre`\u001b[0m\n",
      "chunks:  15%|█▌        | 60/389 [45:10<3:47:21, 41.46s/it]\u001b[32m2023-10-08 12:04:34.934\u001b[0m | \u001b[34m\u001b[1mDEBUG   \u001b[0m | \u001b[36m__main__\u001b[0m:\u001b[36m<module>\u001b[0m:\u001b[36m12\u001b[0m - \u001b[34m\u001b[1mSkipping text without words or numbers `.”`\u001b[0m\n",
      "\u001b[32m2023-10-08 12:04:34.934\u001b[0m | \u001b[34m\u001b[1mDEBUG   \u001b[0m | \u001b[36m__main__\u001b[0m:\u001b[36m<module>\u001b[0m:\u001b[36m14\u001b[0m - \u001b[34m\u001b[1mcurrent sentence `We gather from the Meditations that Marcus had been collecting a series of quotations from various authors, for use in his old age. But in the book itself, which was written late in life, he arrives at the conclusion that he no longer has time to continue gathering and reading other people’s works`\u001b[0m\n",
      "chunks:  16%|█▌        | 62/389 [46:07<3:13:44, 35.55s/it]\u001b[32m2023-10-08 12:05:32.229\u001b[0m | \u001b[34m\u001b[1mDEBUG   \u001b[0m | \u001b[36m__main__\u001b[0m:\u001b[36m<module>\u001b[0m:\u001b[36m14\u001b[0m - \u001b[34m\u001b[1mcurrent sentence `. The decision is made to write only with the objective of influencing himself, to become a better person while he still has time, by concentrating on fundamental principles. Hadot comments:`\u001b[0m\n",
      "\u001b[32m2023-10-08 12:06:13.456\u001b[0m | \u001b[33m\u001b[1mWARNING \u001b[0m | \u001b[36m__main__\u001b[0m:\u001b[36m<module>\u001b[0m:\u001b[36m24\u001b[0m - \u001b[33m\u001b[1mwrote chapter /media/wassname/SGIronWolf/projects5/tts-ai/use-tts-mjc/out/a_short_guide_to_the_inner_citadel_-_massimo_pigliucci20231008_03-19-11/7.ogg\u001b[0m\n",
      "chunks:  16%|█▌        | 63/389 [46:48<3:20:47, 36.96s/it]\u001b[32m2023-10-08 12:06:13.457\u001b[0m | \u001b[34m\u001b[1mDEBUG   \u001b[0m | \u001b[36m__main__\u001b[0m:\u001b[36m<module>\u001b[0m:\u001b[36m14\u001b[0m - \u001b[34m\u001b[1mcurrent sentence `“From the point of view of the imminence of death, one thing counts, and one alone: to strive always to have the essential rules of life present in one’s mind, and to keep placing oneself in the fundamental disposition of the philosopher, which consists essentially in controlling one`\u001b[0m\n",
      "chunks:  16%|█▋        | 64/389 [47:55<4:01:45, 44.63s/it]\u001b[32m2023-10-08 12:07:19.764\u001b[0m | \u001b[34m\u001b[1mDEBUG   \u001b[0m | \u001b[36m__main__\u001b[0m:\u001b[36m<module>\u001b[0m:\u001b[36m14\u001b[0m - \u001b[34m\u001b[1mcurrent sentence `’s inner discourse, in doing only that which is of benefit to the human community, and in accepting the event brought to us by the course of the Nature of the All`\u001b[0m\n",
      "chunks:  17%|█▋        | 65/389 [48:28<3:43:37, 41.41s/it]\u001b[32m2023-10-08 12:07:52.558\u001b[0m | \u001b[34m\u001b[1mDEBUG   \u001b[0m | \u001b[36m__main__\u001b[0m:\u001b[36m<module>\u001b[0m:\u001b[36m12\u001b[0m - \u001b[34m\u001b[1mSkipping text without words or numbers `.”`\u001b[0m\n",
      "\u001b[32m2023-10-08 12:07:52.558\u001b[0m | \u001b[34m\u001b[1mDEBUG   \u001b[0m | \u001b[36m__main__\u001b[0m:\u001b[36m<module>\u001b[0m:\u001b[36m14\u001b[0m - \u001b[34m\u001b[1mcurrent sentence `Marcus was not the only one to write notes to himself for the purpose of self improvement, so much so that there was a word in Greek to indicate the genre: hypomnemata. We know, for instance, of a woman named Pamphila, who lived in the 1st century, at the time of Nero, and wrote her own hypomnemata`\u001b[0m\n",
      "chunks:  17%|█▋        | 67/389 [49:41<3:30:48, 39.28s/it]\u001b[32m2023-10-08 12:09:05.634\u001b[0m | \u001b[34m\u001b[1mDEBUG   \u001b[0m | \u001b[36m__main__\u001b[0m:\u001b[36m<module>\u001b[0m:\u001b[36m14\u001b[0m - \u001b[34m\u001b[1mcurrent sentence `. They concerned whatever she had learned about philosophy, history, poetry, or other subjects from hosting visitors in her house, and she explains: “I wrote them down in the form of notes, in no special order, and without sorting them out and distinguishing them according to their subject matter`\u001b[0m\n"
     ]
    },
    {
     "name": "stdout",
     "output_type": "stream",
     "text": [
      "No stop tokens found in one of the generated voice clips. This typically means the spoken audio is too long. In some cases, the output will still be good, though. Listen to it and if it is missing words, try breaking up your input text.\n"
     ]
    },
    {
     "name": "stderr",
     "output_type": "stream",
     "text": [
      "chunks:  17%|█▋        | 68/389 [50:42<3:58:49, 44.64s/it]\u001b[32m2023-10-08 12:10:07.428\u001b[0m | \u001b[34m\u001b[1mDEBUG   \u001b[0m | \u001b[36m__main__\u001b[0m:\u001b[36m<module>\u001b[0m:\u001b[36m14\u001b[0m - \u001b[34m\u001b[1mcurrent sentence `. Rather, I wrote them down at random, in the order in which each matter presented itself to me.”`\u001b[0m\n",
      "chunks:  18%|█▊        | 69/389 [51:02<3:23:40, 38.19s/it]\u001b[32m2023-10-08 12:10:26.649\u001b[0m | \u001b[34m\u001b[1mDEBUG   \u001b[0m | \u001b[36m__main__\u001b[0m:\u001b[36m<module>\u001b[0m:\u001b[36m14\u001b[0m - \u001b[34m\u001b[1mcurrent sentence `In the following century it was the turn of the Latin author Aulus Gellius to write his hypomnemata, which became known with the title of Attic Nights`\u001b[0m\n",
      "chunks:  18%|█▊        | 70/389 [51:32<3:12:15, 36.16s/it]\u001b[32m2023-10-08 12:10:57.221\u001b[0m | \u001b[34m\u001b[1mDEBUG   \u001b[0m | \u001b[36m__main__\u001b[0m:\u001b[36m<module>\u001b[0m:\u001b[36m14\u001b[0m - \u001b[34m\u001b[1mcurrent sentence `. In the preface he explains: “Whether I was reading a Greek or Latin book, or whether I had heard someone say something worthy of being remembered, I jotted down what interested me, of whatever kind it was, without any order, and I then set it aside, in order to support my memory`\u001b[0m\n",
      "chunks:  18%|█▊        | 71/389 [52:28<3:40:11, 41.55s/it]\u001b[32m2023-10-08 12:11:52.928\u001b[0m | \u001b[34m\u001b[1mDEBUG   \u001b[0m | \u001b[36m__main__\u001b[0m:\u001b[36m<module>\u001b[0m:\u001b[36m14\u001b[0m - \u001b[34m\u001b[1mcurrent sentence `.” That, then, is the spirit of the Meditations, and the way it should be understood.`\u001b[0m\n",
      "chunks:  19%|█▊        | 72/389 [52:48<3:07:05, 35.41s/it]\u001b[32m2023-10-08 12:12:12.745\u001b[0m | \u001b[34m\u001b[1mDEBUG   \u001b[0m | \u001b[36m__main__\u001b[0m:\u001b[36m<module>\u001b[0m:\u001b[36m14\u001b[0m - \u001b[34m\u001b[1mcurrent sentence `Another important example of a similar type of inner dialogue is Augustine’s Soliloquies. He thought it a valuable exercise because only when we are in the presence of ourselves we are capable of reflecting on the issues that are most intimate for us`\u001b[0m\n",
      "\u001b[32m2023-10-08 12:13:00.403\u001b[0m | \u001b[33m\u001b[1mWARNING \u001b[0m | \u001b[36m__main__\u001b[0m:\u001b[36m<module>\u001b[0m:\u001b[36m24\u001b[0m - \u001b[33m\u001b[1mwrote chapter /media/wassname/SGIronWolf/projects5/tts-ai/use-tts-mjc/out/a_short_guide_to_the_inner_citadel_-_massimo_pigliucci20231008_03-19-11/8.ogg\u001b[0m\n",
      "chunks:  19%|█▉        | 73/389 [53:35<3:25:02, 38.93s/it]\u001b[32m2023-10-08 12:13:00.405\u001b[0m | \u001b[34m\u001b[1mDEBUG   \u001b[0m | \u001b[36m__main__\u001b[0m:\u001b[36m<module>\u001b[0m:\u001b[36m14\u001b[0m - \u001b[34m\u001b[1mcurrent sentence `. Of course, in Augustine’s case it is his soul that is listening to his reason, rather that - as in Marcus - reason exhorting the soul.`\u001b[0m\n",
      "chunks:  19%|█▉        | 74/389 [54:15<3:25:03, 39.06s/it]\u001b[32m2023-10-08 12:13:39.773\u001b[0m | \u001b[34m\u001b[1mDEBUG   \u001b[0m | \u001b[36m__main__\u001b[0m:\u001b[36m<module>\u001b[0m:\u001b[36m14\u001b[0m - \u001b[34m\u001b[1mcurrent sentence `But there is a major difference between the Meditations and most other examples of hypomnemata: the book was written as a set of spiritual exercises practiced in agreement with a particular method. Which is the topic of the third chapter of The Inner Citadel, to which we will turn next.`\u001b[0m\n",
      "chunks:  19%|█▉        | 75/389 [55:07<3:45:16, 43.05s/it]\u001b[32m2023-10-08 12:14:32.413\u001b[0m | \u001b[34m\u001b[1mDEBUG   \u001b[0m | \u001b[36m__main__\u001b[0m:\u001b[36m<module>\u001b[0m:\u001b[36m14\u001b[0m - \u001b[34m\u001b[1mcurrent sentence `3-The Meditations as spiritual exercises`\u001b[0m\n",
      "chunks:  20%|█▉        | 76/389 [55:20<2:57:11, 33.97s/it]\u001b[32m2023-10-08 12:14:44.732\u001b[0m | \u001b[34m\u001b[1mDEBUG   \u001b[0m | \u001b[36m__main__\u001b[0m:\u001b[36m<module>\u001b[0m:\u001b[36m14\u001b[0m - \u001b[34m\u001b[1mcurrent sentence `For the ancient Greco-Romans, and particularly for the Stoics, philosophy was not an academic pursuit, but a way of life. So says Pierre Hadot at the onset of the third chapter of his landmark The Inner Citadel. In order to make his point, he frames the whole of Marcus’ Meditations as a set of “spiritual” exercises`\u001b[0m\n",
      "chunks:  20%|█▉        | 77/389 [56:34<3:59:38, 46.09s/it]\u001b[32m2023-10-08 12:15:59.526\u001b[0m | \u001b[34m\u001b[1mDEBUG   \u001b[0m | \u001b[36m__main__\u001b[0m:\u001b[36m<module>\u001b[0m:\u001b[36m14\u001b[0m - \u001b[34m\u001b[1mcurrent sentence `. But what does that mean, really?`\u001b[0m\n",
      "chunks:  20%|██        | 78/389 [56:44<3:02:36, 35.23s/it]\u001b[32m2023-10-08 12:16:09.153\u001b[0m | \u001b[34m\u001b[1mDEBUG   \u001b[0m | \u001b[36m__main__\u001b[0m:\u001b[36m<module>\u001b[0m:\u001b[36m14\u001b[0m - \u001b[34m\u001b[1mcurrent sentence `Hadot argues that throughout the book Marcus reminds himself of three fundamental rules of life (more on this in a moment), which are themselves derived from a small set of general principles, or “dogmas`\u001b[0m\n",
      "chunks:  20%|██        | 79/389 [57:22<3:05:59, 36.00s/it]\u001b[32m2023-10-08 12:16:46.960\u001b[0m | \u001b[34m\u001b[1mDEBUG   \u001b[0m | \u001b[36m__main__\u001b[0m:\u001b[36m<module>\u001b[0m:\u001b[36m14\u001b[0m - \u001b[34m\u001b[1mcurrent sentence `.” The word, which today indicates stubborn attachment to unquestionable rules, in Greek simply meant a universal principle, an axiom (which one could criticize and reject) from which one derives specific precepts for practical conduct. Here is an example of a Stoic dogma:`\u001b[0m\n",
      "chunks:  21%|██        | 80/389 [58:42<4:13:41, 49.26s/it]\u001b[32m2023-10-08 12:18:07.321\u001b[0m | \u001b[34m\u001b[1mDEBUG   \u001b[0m | \u001b[36m__main__\u001b[0m:\u001b[36m<module>\u001b[0m:\u001b[36m14\u001b[0m - \u001b[34m\u001b[1mcurrent sentence `“On the occasion of everything that causes you sadness, remember to use this ‘dogma’: not only is this not misfortune, but it is a piece of good fortune for you to bear up under it courageously.” (Meditations, IV.49.6)`\u001b[0m\n",
      "chunks:  21%|██        | 81/389 [59:36<4:19:38, 50.58s/it]\u001b[32m2023-10-08 12:19:00.988\u001b[0m | \u001b[34m\u001b[1mDEBUG   \u001b[0m | \u001b[36m__main__\u001b[0m:\u001b[36m<module>\u001b[0m:\u001b[36m14\u001b[0m - \u001b[34m\u001b[1mcurrent sentence `As Hadot points out, this particular dogma itself is derived from a more general Stoic dogma, the notion that the only truly bad things for us are our own bad judgments, and that the only truly good things for us are our own good judgments`\u001b[0m\n",
      "\u001b[32m2023-10-08 12:19:56.568\u001b[0m | \u001b[33m\u001b[1mWARNING \u001b[0m | \u001b[36m__main__\u001b[0m:\u001b[36m<module>\u001b[0m:\u001b[36m24\u001b[0m - \u001b[33m\u001b[1mwrote chapter /media/wassname/SGIronWolf/projects5/tts-ai/use-tts-mjc/out/a_short_guide_to_the_inner_citadel_-_massimo_pigliucci20231008_03-19-11/9.ogg\u001b[0m\n",
      "chunks:  21%|██        | 82/389 [1:00:32<4:26:27, 52.08s/it]\u001b[32m2023-10-08 12:19:56.569\u001b[0m | \u001b[34m\u001b[1mDEBUG   \u001b[0m | \u001b[36m__main__\u001b[0m:\u001b[36m<module>\u001b[0m:\u001b[36m14\u001b[0m - \u001b[34m\u001b[1mcurrent sentence `. That, in turn, derives from an even higher level dogma: the dichotomy of control, according to which the only things that are up to us are our judgments`\u001b[0m\n",
      "chunks:  21%|██▏       | 83/389 [1:01:02<3:53:07, 45.71s/it]\u001b[32m2023-10-08 12:20:27.398\u001b[0m | \u001b[34m\u001b[1mDEBUG   \u001b[0m | \u001b[36m__main__\u001b[0m:\u001b[36m<module>\u001b[0m:\u001b[36m14\u001b[0m - \u001b[34m\u001b[1mcurrent sentence `. In fact, we could push things one more level up and argue that the dichotomy itself is derived from the highest Stoic dogma of them all: live according to nature, which means live by taking seriously both the nature of the cosmos in general, and human nature in particular`\u001b[0m\n",
      "chunks:  22%|██▏       | 84/389 [1:02:09<4:24:57, 52.12s/it]\u001b[32m2023-10-08 12:21:34.507\u001b[0m | \u001b[34m\u001b[1mDEBUG   \u001b[0m | \u001b[36m__main__\u001b[0m:\u001b[36m<module>\u001b[0m:\u001b[36m14\u001b[0m - \u001b[34m\u001b[1mcurrent sentence `. It is in the nature of things that we only have complete control on our judgments.`\u001b[0m\n",
      "chunks:  22%|██▏       | 85/389 [1:02:29<3:35:15, 42.48s/it]\u001b[32m2023-10-08 12:21:54.478\u001b[0m | \u001b[34m\u001b[1mDEBUG   \u001b[0m | \u001b[36m__main__\u001b[0m:\u001b[36m<module>\u001b[0m:\u001b[36m14\u001b[0m - \u001b[34m\u001b[1mcurrent sentence `In what sense, though, is the Meditations a book of spiritual exercises? Because Marcus realizes that one has to keep recalling one’s dogmas and precepts in order to internalize them and act accordingly, and a very good way to do that is to write and rewrite them, using one’s own formulations.`\u001b[0m\n",
      "chunks:  22%|██▏       | 86/389 [1:03:36<4:10:54, 49.68s/it]\u001b[32m2023-10-08 12:23:00.970\u001b[0m | \u001b[34m\u001b[1mDEBUG   \u001b[0m | \u001b[36m__main__\u001b[0m:\u001b[36m<module>\u001b[0m:\u001b[36m14\u001b[0m - \u001b[34m\u001b[1mcurrent sentence `I mentioned above three rules of life that Marcus kept reminding himself of. What are these?   (i) Try to express things with objectivity, so to arrive at correct judgments. (ii) Consent to “fate,” or whatever the cosmic web of cause-effect brings about. (iii) Always pursue justice and act altruistically.`\u001b[0m\n"
     ]
    },
    {
     "name": "stdout",
     "output_type": "stream",
     "text": [
      "No stop tokens found in one of the generated voice clips. This typically means the spoken audio is too long. In some cases, the output will still be good, though. Listen to it and if it is missing words, try breaking up your input text.\n"
     ]
    },
    {
     "name": "stderr",
     "output_type": "stream",
     "text": [
      "chunks:  22%|██▏       | 87/389 [1:04:54<4:53:27, 58.30s/it]\u001b[32m2023-10-08 12:24:19.398\u001b[0m | \u001b[34m\u001b[1mDEBUG   \u001b[0m | \u001b[36m__main__\u001b[0m:\u001b[36m<module>\u001b[0m:\u001b[36m14\u001b[0m - \u001b[34m\u001b[1mcurrent sentence `Hadot interestingly connects these rules to three distinct domains of reality (respectively: our faculty of judgment, universal nature, and human nature), as well as to three types of activity (respectively: judgment, desire, and impulse to action)`\u001b[0m\n",
      "chunks:  23%|██▎       | 88/389 [1:05:54<4:53:53, 58.58s/it]\u001b[32m2023-10-08 12:25:18.630\u001b[0m | \u001b[34m\u001b[1mDEBUG   \u001b[0m | \u001b[36m__main__\u001b[0m:\u001b[36m<module>\u001b[0m:\u001b[36m14\u001b[0m - \u001b[34m\u001b[1mcurrent sentence `. So, for instance, consenting to “fate” is logically connected to the Stoic understanding of universal nature, since the cosmos is a material ensemble governed by relations of cause and effect. This in turn is linked to desire, because such realization ought to affect what is proper or not proper for us to desire`\u001b[0m\n",
      "chunks:  23%|██▎       | 89/389 [1:07:17<5:30:54, 66.18s/it]\u001b[32m2023-10-08 12:26:42.548\u001b[0m | \u001b[34m\u001b[1mDEBUG   \u001b[0m | \u001b[36m__main__\u001b[0m:\u001b[36m<module>\u001b[0m:\u001b[36m14\u001b[0m - \u001b[34m\u001b[1mcurrent sentence `. To wish for a dead loved one to be alive is, in Epictetus’ words, to wish for a fig in winter time. Figs are not to be found in the winter, nor are dead people seen to come back to life. It is, therefore, understandable and yet foolish to desire that to be the case.`\u001b[0m\n",
      "\u001b[32m2023-10-08 12:27:55.389\u001b[0m | \u001b[33m\u001b[1mWARNING \u001b[0m | \u001b[36m__main__\u001b[0m:\u001b[36m<module>\u001b[0m:\u001b[36m24\u001b[0m - \u001b[33m\u001b[1mwrote chapter /media/wassname/SGIronWolf/projects5/tts-ai/use-tts-mjc/out/a_short_guide_to_the_inner_citadel_-_massimo_pigliucci20231008_03-19-11/10.ogg\u001b[0m\n",
      "chunks:  23%|██▎       | 90/389 [1:08:30<5:39:45, 68.18s/it]\u001b[32m2023-10-08 12:27:55.390\u001b[0m | \u001b[34m\u001b[1mDEBUG   \u001b[0m | \u001b[36m__main__\u001b[0m:\u001b[36m<module>\u001b[0m:\u001b[36m14\u001b[0m - \u001b[34m\u001b[1mcurrent sentence `According to Hadot’s interpretation, the Meditations also features other kinds of practices, for instance imaginative ones, what modern Stoics call “visualization exercises`\u001b[0m\n",
      "chunks:  23%|██▎       | 91/389 [1:09:09<4:54:18, 59.26s/it]\u001b[32m2023-10-08 12:28:33.825\u001b[0m | \u001b[34m\u001b[1mDEBUG   \u001b[0m | \u001b[36m__main__\u001b[0m:\u001b[36m<module>\u001b[0m:\u001b[36m14\u001b[0m - \u001b[34m\u001b[1mcurrent sentence `.” For instance, Marcus vividly brings up to his mind certain situations or people, in order to reflect on what we can learn about the human condition and apply to our own predicament:`\u001b[0m\n",
      "chunks:  24%|██▎       | 92/389 [1:09:48<4:23:12, 53.17s/it]\u001b[32m2023-10-08 12:29:12.801\u001b[0m | \u001b[34m\u001b[1mDEBUG   \u001b[0m | \u001b[36m__main__\u001b[0m:\u001b[36m<module>\u001b[0m:\u001b[36m14\u001b[0m - \u001b[34m\u001b[1mcurrent sentence `“Imagine the time of Vespasian`\u001b[0m\n",
      "chunks:  24%|██▍       | 93/389 [1:09:58<3:18:18, 40.20s/it]\u001b[32m2023-10-08 12:29:22.717\u001b[0m | \u001b[34m\u001b[1mDEBUG   \u001b[0m | \u001b[36m__main__\u001b[0m:\u001b[36m<module>\u001b[0m:\u001b[36m14\u001b[0m - \u001b[34m\u001b[1mcurrent sentence `. You’ll see all of that: people getting married, raising a family, falling ill, dying, going to war, celebrating festivals, doing business, working the fields; there’ll be flatterers, arrogant or suspicious people, conspirators; there’ll be people who desire the death of others; others who grumble about present events; there`\u001b[0m\n"
     ]
    },
    {
     "name": "stdout",
     "output_type": "stream",
     "text": [
      "No stop tokens found in one of the generated voice clips. This typically means the spoken audio is too long. In some cases, the output will still be good, though. Listen to it and if it is missing words, try breaking up your input text.\n",
      "No stop tokens found in one of the generated voice clips. This typically means the spoken audio is too long. In some cases, the output will still be good, though. Listen to it and if it is missing words, try breaking up your input text.\n",
      "No stop tokens found in one of the generated voice clips. This typically means the spoken audio is too long. In some cases, the output will still be good, though. Listen to it and if it is missing words, try breaking up your input text.\n",
      "No stop tokens found in one of the generated voice clips. This typically means the spoken audio is too long. In some cases, the output will still be good, though. Listen to it and if it is missing words, try breaking up your input text.\n",
      "No stop tokens found in one of the generated voice clips. This typically means the spoken audio is too long. In some cases, the output will still be good, though. Listen to it and if it is missing words, try breaking up your input text.\n",
      "No stop tokens found in one of the generated voice clips. This typically means the spoken audio is too long. In some cases, the output will still be good, though. Listen to it and if it is missing words, try breaking up your input text.\n",
      "No stop tokens found in one of the generated voice clips. This typically means the spoken audio is too long. In some cases, the output will still be good, though. Listen to it and if it is missing words, try breaking up your input text.\n",
      "No stop tokens found in one of the generated voice clips. This typically means the spoken audio is too long. In some cases, the output will still be good, though. Listen to it and if it is missing words, try breaking up your input text.\n",
      "No stop tokens found in one of the generated voice clips. This typically means the spoken audio is too long. In some cases, the output will still be good, though. Listen to it and if it is missing words, try breaking up your input text.\n",
      "No stop tokens found in one of the generated voice clips. This typically means the spoken audio is too long. In some cases, the output will still be good, though. Listen to it and if it is missing words, try breaking up your input text.\n",
      "No stop tokens found in one of the generated voice clips. This typically means the spoken audio is too long. In some cases, the output will still be good, though. Listen to it and if it is missing words, try breaking up your input text.\n",
      "No stop tokens found in one of the generated voice clips. This typically means the spoken audio is too long. In some cases, the output will still be good, though. Listen to it and if it is missing words, try breaking up your input text.\n",
      "No stop tokens found in one of the generated voice clips. This typically means the spoken audio is too long. In some cases, the output will still be good, though. Listen to it and if it is missing words, try breaking up your input text.\n"
     ]
    },
    {
     "name": "stderr",
     "output_type": "stream",
     "text": [
      "chunks:  24%|██▍       | 94/389 [1:11:37<4:45:24, 58.05s/it]\u001b[32m2023-10-08 12:31:02.428\u001b[0m | \u001b[34m\u001b[1mDEBUG   \u001b[0m | \u001b[36m__main__\u001b[0m:\u001b[36m<module>\u001b[0m:\u001b[36m14\u001b[0m - \u001b[34m\u001b[1mcurrent sentence `’ll be lovers, misers, others who lust after consulate or kingship`\u001b[0m\n",
      "chunks:  24%|██▍       | 95/389 [1:11:55<3:44:35, 45.83s/it]\u001b[32m2023-10-08 12:31:19.758\u001b[0m | \u001b[34m\u001b[1mDEBUG   \u001b[0m | \u001b[36m__main__\u001b[0m:\u001b[36m<module>\u001b[0m:\u001b[36m14\u001b[0m - \u001b[34m\u001b[1mcurrent sentence `.” (Meditations, IV.32)`\u001b[0m\n",
      "chunks:  25%|██▍       | 96/389 [1:12:08<2:56:24, 36.12s/it]\u001b[32m2023-10-08 12:31:33.222\u001b[0m | \u001b[34m\u001b[1mDEBUG   \u001b[0m | \u001b[36m__main__\u001b[0m:\u001b[36m<module>\u001b[0m:\u001b[36m14\u001b[0m - \u001b[34m\u001b[1mcurrent sentence `The point here is that there is nothing new under the Sun. Not in the sense that the specifics aren’t different, of course they are. But human nature has remained pretty much the same. We still go after the same things and recoil from the same others`\u001b[0m\n",
      "chunks:  25%|██▍       | 97/389 [1:12:58<3:16:20, 40.34s/it]\u001b[32m2023-10-08 12:32:23.413\u001b[0m | \u001b[34m\u001b[1mDEBUG   \u001b[0m | \u001b[36m__main__\u001b[0m:\u001b[36m<module>\u001b[0m:\u001b[36m14\u001b[0m - \u001b[34m\u001b[1mcurrent sentence `. Which is why Stoicism is still very relevant two millennia later: we carry iPhones and have developed nuclear weapons, but our desires and fears have remained unchanged, and just as misguided, from before the time of Socrates.`\u001b[0m\n",
      "chunks:  25%|██▌       | 98/389 [1:13:52<3:34:49, 44.29s/it]\u001b[32m2023-10-08 12:33:16.922\u001b[0m | \u001b[34m\u001b[1mDEBUG   \u001b[0m | \u001b[36m__main__\u001b[0m:\u001b[36m<module>\u001b[0m:\u001b[36m14\u001b[0m - \u001b[34m\u001b[1mcurrent sentence `Hadot’s approach also explains very nicely why the Meditations appears redundant and “preachy.” Marcus is not writing for an audience, but for himself. That is why the book hinges on a small number of themes, to which Marcus keeps coming back. He says so himself:`\u001b[0m\n",
      "chunks:  25%|██▌       | 99/389 [1:14:43<3:44:43, 46.49s/it]\u001b[32m2023-10-08 12:34:08.549\u001b[0m | \u001b[34m\u001b[1mDEBUG   \u001b[0m | \u001b[36m__main__\u001b[0m:\u001b[36m<module>\u001b[0m:\u001b[36m14\u001b[0m - \u001b[34m\u001b[1mcurrent sentence `“You must have these principles at hand both night and day; you must write them down; you must read them.” (Meditations, III.24.103)`\u001b[0m\n",
      "\u001b[32m2023-10-08 12:34:39.852\u001b[0m | \u001b[33m\u001b[1mWARNING \u001b[0m | \u001b[36m__main__\u001b[0m:\u001b[36m<module>\u001b[0m:\u001b[36m24\u001b[0m - \u001b[33m\u001b[1mwrote chapter /media/wassname/SGIronWolf/projects5/tts-ai/use-tts-mjc/out/a_short_guide_to_the_inner_citadel_-_massimo_pigliucci20231008_03-19-11/11.ogg\u001b[0m\n",
      "chunks:  26%|██▌       | 100/389 [1:15:15<3:21:59, 41.94s/it]\u001b[32m2023-10-08 12:34:39.853\u001b[0m | \u001b[34m\u001b[1mDEBUG   \u001b[0m | \u001b[36m__main__\u001b[0m:\u001b[36m<module>\u001b[0m:\u001b[36m14\u001b[0m - \u001b[34m\u001b[1mcurrent sentence `Why does Marcus do this? Because, as Hadot explains, “dogmas are not mathematical rules, learned once and for all and then mechanically applied`\u001b[0m\n",
      "chunks:  26%|██▌       | 101/389 [1:15:48<3:08:48, 39.34s/it]\u001b[32m2023-10-08 12:35:13.119\u001b[0m | \u001b[34m\u001b[1mDEBUG   \u001b[0m | \u001b[36m__main__\u001b[0m:\u001b[36m<module>\u001b[0m:\u001b[36m14\u001b[0m - \u001b[34m\u001b[1mcurrent sentence `. Rather, they must somehow become achievement of awareness, intuitions, emotions, and moral experiences … it is not enough to reread what has already been written … what counts is the reformulation.” (p`\u001b[0m\n",
      "chunks:  26%|██▌       | 102/389 [1:16:43<3:29:59, 43.90s/it]\u001b[32m2023-10-08 12:36:07.678\u001b[0m | \u001b[34m\u001b[1mDEBUG   \u001b[0m | \u001b[36m__main__\u001b[0m:\u001b[36m<module>\u001b[0m:\u001b[36m14\u001b[0m - \u001b[34m\u001b[1mcurrent sentence `. 51) And that is why, in part, I myself write essays on Stoicism, or produce an almost daily podcast of Stoic meditations. I hope, of course, that it will help others. But, mostly, it helps myself. In order to explain Stoic philosophy to others I have to better understand it myself`\u001b[0m\n"
     ]
    },
    {
     "name": "stdout",
     "output_type": "stream",
     "text": [
      "No stop tokens found in one of the generated voice clips. This typically means the spoken audio is too long. In some cases, the output will still be good, though. Listen to it and if it is missing words, try breaking up your input text.\n",
      "No stop tokens found in one of the generated voice clips. This typically means the spoken audio is too long. In some cases, the output will still be good, though. Listen to it and if it is missing words, try breaking up your input text.\n",
      "No stop tokens found in one of the generated voice clips. This typically means the spoken audio is too long. In some cases, the output will still be good, though. Listen to it and if it is missing words, try breaking up your input text.\n",
      "No stop tokens found in one of the generated voice clips. This typically means the spoken audio is too long. In some cases, the output will still be good, though. Listen to it and if it is missing words, try breaking up your input text.\n"
     ]
    },
    {
     "name": "stderr",
     "output_type": "stream",
     "text": [
      "chunks:  26%|██▋       | 103/389 [1:17:57<4:12:15, 52.92s/it]\u001b[32m2023-10-08 12:37:21.648\u001b[0m | \u001b[34m\u001b[1mDEBUG   \u001b[0m | \u001b[36m__main__\u001b[0m:\u001b[36m<module>\u001b[0m:\u001b[36m14\u001b[0m - \u001b[34m\u001b[1mcurrent sentence `. I have to constantly reformulate ideas, come up with new metaphors and analogies. All of which helps me to internalize Stoic wisdom and, hopefully, live a better life.`\u001b[0m\n",
      "chunks:  27%|██▋       | 104/389 [1:18:36<3:52:04, 48.86s/it]\u001b[32m2023-10-08 12:38:01.025\u001b[0m | \u001b[34m\u001b[1mDEBUG   \u001b[0m | \u001b[36m__main__\u001b[0m:\u001b[36m<module>\u001b[0m:\u001b[36m14\u001b[0m - \u001b[34m\u001b[1mcurrent sentence `4-The philosopher-slave and the emperor-philosopher       How many men - like Chrysippus, like Socrates, like Epictetus - has Eternity swallowed up! (Meditations, VII.19.2)`\u001b[0m\n",
      "chunks:  27%|██▋       | 105/389 [1:19:25<3:51:33, 48.92s/it]\u001b[32m2023-10-08 12:38:50.095\u001b[0m | \u001b[34m\u001b[1mDEBUG   \u001b[0m | \u001b[36m__main__\u001b[0m:\u001b[36m<module>\u001b[0m:\u001b[36m14\u001b[0m - \u001b[34m\u001b[1mcurrent sentence `Eternity may have swallowed these men up, as Marcus Aurelius says here, but they sure left a mark on his own famous book, the Meditations`\u001b[0m\n",
      "chunks:  27%|██▋       | 106/389 [1:19:58<3:27:39, 44.03s/it]\u001b[32m2023-10-08 12:39:22.695\u001b[0m | \u001b[34m\u001b[1mDEBUG   \u001b[0m | \u001b[36m__main__\u001b[0m:\u001b[36m<module>\u001b[0m:\u001b[36m14\u001b[0m - \u001b[34m\u001b[1mcurrent sentence `. As Hadot points out in chapter 4 of his book, we see direct or paraphrased quotes in the Meditations by Heraclitus, Empedocles, Democritus, Plato, Pythagoras, and Epicurus, among others. But arguably the strongest influence on Marcus, the person that shaped his whole philosophy of life, was Epictetus.`\u001b[0m\n"
     ]
    },
    {
     "name": "stdout",
     "output_type": "stream",
     "text": [
      "No stop tokens found in one of the generated voice clips. This typically means the spoken audio is too long. In some cases, the output will still be good, though. Listen to it and if it is missing words, try breaking up your input text.\n",
      "No stop tokens found in one of the generated voice clips. This typically means the spoken audio is too long. In some cases, the output will still be good, though. Listen to it and if it is missing words, try breaking up your input text.\n",
      "No stop tokens found in one of the generated voice clips. This typically means the spoken audio is too long. In some cases, the output will still be good, though. Listen to it and if it is missing words, try breaking up your input text.\n",
      "No stop tokens found in one of the generated voice clips. This typically means the spoken audio is too long. In some cases, the output will still be good, though. Listen to it and if it is missing words, try breaking up your input text.\n",
      "No stop tokens found in one of the generated voice clips. This typically means the spoken audio is too long. In some cases, the output will still be good, though. Listen to it and if it is missing words, try breaking up your input text.\n",
      "No stop tokens found in one of the generated voice clips. This typically means the spoken audio is too long. In some cases, the output will still be good, though. Listen to it and if it is missing words, try breaking up your input text.\n",
      "No stop tokens found in one of the generated voice clips. This typically means the spoken audio is too long. In some cases, the output will still be good, though. Listen to it and if it is missing words, try breaking up your input text.\n",
      "No stop tokens found in one of the generated voice clips. This typically means the spoken audio is too long. In some cases, the output will still be good, though. Listen to it and if it is missing words, try breaking up your input text.\n",
      "No stop tokens found in one of the generated voice clips. This typically means the spoken audio is too long. In some cases, the output will still be good, though. Listen to it and if it is missing words, try breaking up your input text.\n",
      "No stop tokens found in one of the generated voice clips. This typically means the spoken audio is too long. In some cases, the output will still be good, though. Listen to it and if it is missing words, try breaking up your input text.\n",
      "No stop tokens found in one of the generated voice clips. This typically means the spoken audio is too long. In some cases, the output will still be good, though. Listen to it and if it is missing words, try breaking up your input text.\n",
      "No stop tokens found in one of the generated voice clips. This typically means the spoken audio is too long. In some cases, the output will still be good, though. Listen to it and if it is missing words, try breaking up your input text.\n",
      "No stop tokens found in one of the generated voice clips. This typically means the spoken audio is too long. In some cases, the output will still be good, though. Listen to it and if it is missing words, try breaking up your input text.\n",
      "No stop tokens found in one of the generated voice clips. This typically means the spoken audio is too long. In some cases, the output will still be good, though. Listen to it and if it is missing words, try breaking up your input text.\n",
      "No stop tokens found in one of the generated voice clips. This typically means the spoken audio is too long. In some cases, the output will still be good, though. Listen to it and if it is missing words, try breaking up your input text.\n",
      "No stop tokens found in one of the generated voice clips. This typically means the spoken audio is too long. In some cases, the output will still be good, though. Listen to it and if it is missing words, try breaking up your input text.\n",
      "No stop tokens found in one of the generated voice clips. This typically means the spoken audio is too long. In some cases, the output will still be good, though. Listen to it and if it is missing words, try breaking up your input text.\n",
      "No stop tokens found in one of the generated voice clips. This typically means the spoken audio is too long. In some cases, the output will still be good, though. Listen to it and if it is missing words, try breaking up your input text.\n",
      "No stop tokens found in one of the generated voice clips. This typically means the spoken audio is too long. In some cases, the output will still be good, though. Listen to it and if it is missing words, try breaking up your input text.\n",
      "No stop tokens found in one of the generated voice clips. This typically means the spoken audio is too long. In some cases, the output will still be good, though. Listen to it and if it is missing words, try breaking up your input text.\n",
      "No stop tokens found in one of the generated voice clips. This typically means the spoken audio is too long. In some cases, the output will still be good, though. Listen to it and if it is missing words, try breaking up your input text.\n",
      "No stop tokens found in one of the generated voice clips. This typically means the spoken audio is too long. In some cases, the output will still be good, though. Listen to it and if it is missing words, try breaking up your input text.\n",
      "No stop tokens found in one of the generated voice clips. This typically means the spoken audio is too long. In some cases, the output will still be good, though. Listen to it and if it is missing words, try breaking up your input text.\n",
      "No stop tokens found in one of the generated voice clips. This typically means the spoken audio is too long. In some cases, the output will still be good, though. Listen to it and if it is missing words, try breaking up your input text.\n",
      "No stop tokens found in one of the generated voice clips. This typically means the spoken audio is too long. In some cases, the output will still be good, though. Listen to it and if it is missing words, try breaking up your input text.\n",
      "No stop tokens found in one of the generated voice clips. This typically means the spoken audio is too long. In some cases, the output will still be good, though. Listen to it and if it is missing words, try breaking up your input text.\n",
      "No stop tokens found in one of the generated voice clips. This typically means the spoken audio is too long. In some cases, the output will still be good, though. Listen to it and if it is missing words, try breaking up your input text.\n",
      "No stop tokens found in one of the generated voice clips. This typically means the spoken audio is too long. In some cases, the output will still be good, though. Listen to it and if it is missing words, try breaking up your input text.\n",
      "No stop tokens found in one of the generated voice clips. This typically means the spoken audio is too long. In some cases, the output will still be good, though. Listen to it and if it is missing words, try breaking up your input text.\n",
      "No stop tokens found in one of the generated voice clips. This typically means the spoken audio is too long. In some cases, the output will still be good, though. Listen to it and if it is missing words, try breaking up your input text.\n",
      "No stop tokens found in one of the generated voice clips. This typically means the spoken audio is too long. In some cases, the output will still be good, though. Listen to it and if it is missing words, try breaking up your input text.\n",
      "No stop tokens found in one of the generated voice clips. This typically means the spoken audio is too long. In some cases, the output will still be good, though. Listen to it and if it is missing words, try breaking up your input text.\n",
      "No stop tokens found in one of the generated voice clips. This typically means the spoken audio is too long. In some cases, the output will still be good, though. Listen to it and if it is missing words, try breaking up your input text.\n",
      "No stop tokens found in one of the generated voice clips. This typically means the spoken audio is too long. In some cases, the output will still be good, though. Listen to it and if it is missing words, try breaking up your input text.\n",
      "No stop tokens found in one of the generated voice clips. This typically means the spoken audio is too long. In some cases, the output will still be good, though. Listen to it and if it is missing words, try breaking up your input text.\n",
      "No stop tokens found in one of the generated voice clips. This typically means the spoken audio is too long. In some cases, the output will still be good, though. Listen to it and if it is missing words, try breaking up your input text.\n",
      "No stop tokens found in one of the generated voice clips. This typically means the spoken audio is too long. In some cases, the output will still be good, though. Listen to it and if it is missing words, try breaking up your input text.\n",
      "No stop tokens found in one of the generated voice clips. This typically means the spoken audio is too long. In some cases, the output will still be good, though. Listen to it and if it is missing words, try breaking up your input text.\n",
      "No stop tokens found in one of the generated voice clips. This typically means the spoken audio is too long. In some cases, the output will still be good, though. Listen to it and if it is missing words, try breaking up your input text.\n",
      "No stop tokens found in one of the generated voice clips. This typically means the spoken audio is too long. In some cases, the output will still be good, though. Listen to it and if it is missing words, try breaking up your input text.\n",
      "No stop tokens found in one of the generated voice clips. This typically means the spoken audio is too long. In some cases, the output will still be good, though. Listen to it and if it is missing words, try breaking up your input text.\n",
      "No stop tokens found in one of the generated voice clips. This typically means the spoken audio is too long. In some cases, the output will still be good, though. Listen to it and if it is missing words, try breaking up your input text.\n",
      "No stop tokens found in one of the generated voice clips. This typically means the spoken audio is too long. In some cases, the output will still be good, though. Listen to it and if it is missing words, try breaking up your input text.\n",
      "No stop tokens found in one of the generated voice clips. This typically means the spoken audio is too long. In some cases, the output will still be good, though. Listen to it and if it is missing words, try breaking up your input text.\n",
      "No stop tokens found in one of the generated voice clips. This typically means the spoken audio is too long. In some cases, the output will still be good, though. Listen to it and if it is missing words, try breaking up your input text.\n",
      "No stop tokens found in one of the generated voice clips. This typically means the spoken audio is too long. In some cases, the output will still be good, though. Listen to it and if it is missing words, try breaking up your input text.\n",
      "No stop tokens found in one of the generated voice clips. This typically means the spoken audio is too long. In some cases, the output will still be good, though. Listen to it and if it is missing words, try breaking up your input text.\n",
      "No stop tokens found in one of the generated voice clips. This typically means the spoken audio is too long. In some cases, the output will still be good, though. Listen to it and if it is missing words, try breaking up your input text.\n",
      "No stop tokens found in one of the generated voice clips. This typically means the spoken audio is too long. In some cases, the output will still be good, though. Listen to it and if it is missing words, try breaking up your input text.\n",
      "No stop tokens found in one of the generated voice clips. This typically means the spoken audio is too long. In some cases, the output will still be good, though. Listen to it and if it is missing words, try breaking up your input text.\n"
     ]
    },
    {
     "name": "stderr",
     "output_type": "stream",
     "text": [
      "chunks:  28%|██▊       | 107/389 [1:21:36<4:43:21, 60.29s/it]\u001b[32m2023-10-08 12:41:00.937\u001b[0m | \u001b[34m\u001b[1mDEBUG   \u001b[0m | \u001b[36m__main__\u001b[0m:\u001b[36m<module>\u001b[0m:\u001b[36m14\u001b[0m - \u001b[34m\u001b[1mcurrent sentence `Epictetus is hardly known these days, except for the very recent resurgence of Stoicism. But he was one of the most appreciated philosophers of antiquity up until the 19th century, and in his own time he was the great philosopher. He influenced early and later Christian thought, from Origen to Thomas Aquinas`\u001b[0m\n",
      "\u001b[32m2023-10-08 12:42:28.427\u001b[0m | \u001b[33m\u001b[1mWARNING \u001b[0m | \u001b[36m__main__\u001b[0m:\u001b[36m<module>\u001b[0m:\u001b[36m24\u001b[0m - \u001b[33m\u001b[1mwrote chapter /media/wassname/SGIronWolf/projects5/tts-ai/use-tts-mjc/out/a_short_guide_to_the_inner_citadel_-_massimo_pigliucci20231008_03-19-11/12.ogg\u001b[0m\n",
      "chunks:  28%|██▊       | 108/389 [1:23:03<5:20:34, 68.45s/it]\u001b[32m2023-10-08 12:42:28.428\u001b[0m | \u001b[34m\u001b[1mDEBUG   \u001b[0m | \u001b[36m__main__\u001b[0m:\u001b[36m<module>\u001b[0m:\u001b[36m14\u001b[0m - \u001b[34m\u001b[1mcurrent sentence `. As is well known, he began his life as a slave in Hierapolis (modern day Pamukkale, Turkey), was acquired by Nero’s secretary, Epaphroditus, and brought to Rome`\u001b[0m\n",
      "chunks:  28%|██▊       | 109/389 [1:23:40<4:34:15, 58.77s/it]\u001b[32m2023-10-08 12:43:04.607\u001b[0m | \u001b[34m\u001b[1mDEBUG   \u001b[0m | \u001b[36m__main__\u001b[0m:\u001b[36m<module>\u001b[0m:\u001b[36m14\u001b[0m - \u001b[34m\u001b[1mcurrent sentence `. There he was allowed to attend the lectures of the most famous Stoic philosopher of the time, Musonius Rufus, and when he was freed began to teach philosophy in the capital of the empire`\u001b[0m\n",
      "chunks:  28%|██▊       | 110/389 [1:24:31<4:22:27, 56.44s/it]\u001b[32m2023-10-08 12:43:55.616\u001b[0m | \u001b[34m\u001b[1mDEBUG   \u001b[0m | \u001b[36m__main__\u001b[0m:\u001b[36m<module>\u001b[0m:\u001b[36m14\u001b[0m - \u001b[34m\u001b[1mcurrent sentence `. In 93-94 CE he was kicked out of Italy by the emperor Domitian, who did no suffer Stoics to speak truth to power, and re-established his school in Nicopolis, in northwestern Greece, where his fame grew to the point that he received personal visits from the emperor Hadrian.`\u001b[0m\n",
      "chunks:  29%|██▊       | 111/389 [1:25:33<4:30:00, 58.28s/it]\u001b[32m2023-10-08 12:44:58.175\u001b[0m | \u001b[34m\u001b[1mDEBUG   \u001b[0m | \u001b[36m__main__\u001b[0m:\u001b[36m<module>\u001b[0m:\u001b[36m14\u001b[0m - \u001b[34m\u001b[1mcurrent sentence `Epictetus did not write anything down, so far as we know, and what we have from him are four volumes of Discourses (four more are, unfortunately, lost) and the Enchiridion, or Manual`\u001b[0m\n",
      "chunks:  29%|██▉       | 112/389 [1:26:28<4:24:14, 57.24s/it]\u001b[32m2023-10-08 12:45:52.991\u001b[0m | \u001b[34m\u001b[1mDEBUG   \u001b[0m | \u001b[36m__main__\u001b[0m:\u001b[36m<module>\u001b[0m:\u001b[36m14\u001b[0m - \u001b[34m\u001b[1mcurrent sentence `. Both of these are due to one of Epictetus’ most prominent students, Arrian of Nicomedia, who went on to become a philosopher and historian in his own right (as well as Governor of the province of Cappadocia, for a time)`\u001b[0m\n",
      "chunks:  29%|██▉       | 113/389 [1:27:20<4:16:08, 55.68s/it]\u001b[32m2023-10-08 12:46:45.041\u001b[0m | \u001b[34m\u001b[1mDEBUG   \u001b[0m | \u001b[36m__main__\u001b[0m:\u001b[36m<module>\u001b[0m:\u001b[36m14\u001b[0m - \u001b[34m\u001b[1mcurrent sentence `. Hadot goes into some detail to explain why scholars think that Arrian’s Epictetus is likely very close to the real Epictetus, most probably far more, say, than Plato`\u001b[0m\n",
      "chunks:  29%|██▉       | 114/389 [1:28:19<4:20:01, 56.73s/it]\u001b[32m2023-10-08 12:47:44.221\u001b[0m | \u001b[34m\u001b[1mDEBUG   \u001b[0m | \u001b[36m__main__\u001b[0m:\u001b[36m<module>\u001b[0m:\u001b[36m14\u001b[0m - \u001b[34m\u001b[1mcurrent sentence `’s Socrates is close to the real Socrates (incidentally, Arrian consciously styled himself after the other great student of Socrates, Xenophon, whose Memorabilia was the book that turned Zeno of Citium, the founder of Stoicism, on to philosophy)`\u001b[0m\n",
      "chunks:  30%|██▉       | 115/389 [1:29:17<4:20:54, 57.13s/it]\u001b[32m2023-10-08 12:48:42.288\u001b[0m | \u001b[34m\u001b[1mDEBUG   \u001b[0m | \u001b[36m__main__\u001b[0m:\u001b[36m<module>\u001b[0m:\u001b[36m12\u001b[0m - \u001b[34m\u001b[1mSkipping text without words or numbers `.`\u001b[0m\n",
      "\u001b[32m2023-10-08 12:48:42.288\u001b[0m | \u001b[34m\u001b[1mDEBUG   \u001b[0m | \u001b[36m__main__\u001b[0m:\u001b[36m<module>\u001b[0m:\u001b[36m14\u001b[0m - \u001b[34m\u001b[1mcurrent sentence `There are several explicit quotations of Epictetus in the Meditations, and several implicit or rephrased ones. Interestingly, it is through some of these quotes that we have recovered fragments of the lost four volumes of the Discourses, since several sentences that Marcus cites from Epictetus are not found in the extant material by Arrian`\u001b[0m\n",
      "\u001b[32m2023-10-08 12:50:00.153\u001b[0m | \u001b[33m\u001b[1mWARNING \u001b[0m | \u001b[36m__main__\u001b[0m:\u001b[36m<module>\u001b[0m:\u001b[36m24\u001b[0m - \u001b[33m\u001b[1mwrote chapter /media/wassname/SGIronWolf/projects5/tts-ai/use-tts-mjc/out/a_short_guide_to_the_inner_citadel_-_massimo_pigliucci20231008_03-19-11/13.ogg\u001b[0m\n",
      "chunks:  30%|███       | 117/389 [1:30:35<3:40:55, 48.73s/it]\u001b[32m2023-10-08 12:50:00.155\u001b[0m | \u001b[34m\u001b[1mDEBUG   \u001b[0m | \u001b[36m__main__\u001b[0m:\u001b[36m<module>\u001b[0m:\u001b[36m14\u001b[0m - \u001b[34m\u001b[1mcurrent sentence `. Here is an interesting example of Marcus’ paraphrasing Epictetus (in this case, from Discourses, III.3.14):`\u001b[0m\n",
      "chunks:  30%|███       | 118/389 [1:31:16<3:31:22, 46.80s/it]\u001b[32m2023-10-08 12:50:41.085\u001b[0m | \u001b[34m\u001b[1mDEBUG   \u001b[0m | \u001b[36m__main__\u001b[0m:\u001b[36m<module>\u001b[0m:\u001b[36m14\u001b[0m - \u001b[34m\u001b[1mcurrent sentence `“That which does not harm the State does not harm its citizen either. Each time you imagine you have been injured, apply this rule.” (Meditations, V.22)`\u001b[0m\n",
      "chunks:  31%|███       | 119/389 [1:31:49<3:13:53, 43.09s/it]\u001b[32m2023-10-08 12:51:13.692\u001b[0m | \u001b[34m\u001b[1mDEBUG   \u001b[0m | \u001b[36m__main__\u001b[0m:\u001b[36m<module>\u001b[0m:\u001b[36m14\u001b[0m - \u001b[34m\u001b[1mcurrent sentence `Hadot points out that here we see a typical structure used by Marcus. The quote begins by stating a “dogma,” i.e., a theoretical proposition that is part of the Stoic system, in this case that there is a coincidence of interests between society and the individual (a consequence, in turn, of Stoic cosmopolitanism)`\u001b[0m\n"
     ]
    },
    {
     "name": "stdout",
     "output_type": "stream",
     "text": [
      "No stop tokens found in one of the generated voice clips. This typically means the spoken audio is too long. In some cases, the output will still be good, though. Listen to it and if it is missing words, try breaking up your input text.\n",
      "No stop tokens found in one of the generated voice clips. This typically means the spoken audio is too long. In some cases, the output will still be good, though. Listen to it and if it is missing words, try breaking up your input text.\n",
      "No stop tokens found in one of the generated voice clips. This typically means the spoken audio is too long. In some cases, the output will still be good, though. Listen to it and if it is missing words, try breaking up your input text.\n"
     ]
    },
    {
     "name": "stderr",
     "output_type": "stream",
     "text": [
      "chunks:  31%|███       | 120/389 [1:33:15<4:06:21, 54.95s/it]\u001b[32m2023-10-08 12:52:40.398\u001b[0m | \u001b[34m\u001b[1mDEBUG   \u001b[0m | \u001b[36m__main__\u001b[0m:\u001b[36m<module>\u001b[0m:\u001b[36m14\u001b[0m - \u001b[34m\u001b[1mcurrent sentence `. Then follows a rule that needs to be applied in specific cases, here the notion that if we imagine that we have been injured by an external, we are, in fact, mistaken (which also agrees with another dogma, that the only things that can truly injure us are our own bad judgments, since only those are under our control).`\u001b[0m\n"
     ]
    },
    {
     "name": "stdout",
     "output_type": "stream",
     "text": [
      "No stop tokens found in one of the generated voice clips. This typically means the spoken audio is too long. In some cases, the output will still be good, though. Listen to it and if it is missing words, try breaking up your input text.\n",
      "No stop tokens found in one of the generated voice clips. This typically means the spoken audio is too long. In some cases, the output will still be good, though. Listen to it and if it is missing words, try breaking up your input text.\n",
      "No stop tokens found in one of the generated voice clips. This typically means the spoken audio is too long. In some cases, the output will still be good, though. Listen to it and if it is missing words, try breaking up your input text.\n",
      "No stop tokens found in one of the generated voice clips. This typically means the spoken audio is too long. In some cases, the output will still be good, though. Listen to it and if it is missing words, try breaking up your input text.\n",
      "No stop tokens found in one of the generated voice clips. This typically means the spoken audio is too long. In some cases, the output will still be good, though. Listen to it and if it is missing words, try breaking up your input text.\n",
      "No stop tokens found in one of the generated voice clips. This typically means the spoken audio is too long. In some cases, the output will still be good, though. Listen to it and if it is missing words, try breaking up your input text.\n",
      "No stop tokens found in one of the generated voice clips. This typically means the spoken audio is too long. In some cases, the output will still be good, though. Listen to it and if it is missing words, try breaking up your input text.\n",
      "No stop tokens found in one of the generated voice clips. This typically means the spoken audio is too long. In some cases, the output will still be good, though. Listen to it and if it is missing words, try breaking up your input text.\n",
      "No stop tokens found in one of the generated voice clips. This typically means the spoken audio is too long. In some cases, the output will still be good, though. Listen to it and if it is missing words, try breaking up your input text.\n",
      "No stop tokens found in one of the generated voice clips. This typically means the spoken audio is too long. In some cases, the output will still be good, though. Listen to it and if it is missing words, try breaking up your input text.\n",
      "No stop tokens found in one of the generated voice clips. This typically means the spoken audio is too long. In some cases, the output will still be good, though. Listen to it and if it is missing words, try breaking up your input text.\n",
      "No stop tokens found in one of the generated voice clips. This typically means the spoken audio is too long. In some cases, the output will still be good, though. Listen to it and if it is missing words, try breaking up your input text.\n",
      "No stop tokens found in one of the generated voice clips. This typically means the spoken audio is too long. In some cases, the output will still be good, though. Listen to it and if it is missing words, try breaking up your input text.\n",
      "No stop tokens found in one of the generated voice clips. This typically means the spoken audio is too long. In some cases, the output will still be good, though. Listen to it and if it is missing words, try breaking up your input text.\n",
      "No stop tokens found in one of the generated voice clips. This typically means the spoken audio is too long. In some cases, the output will still be good, though. Listen to it and if it is missing words, try breaking up your input text.\n",
      "No stop tokens found in one of the generated voice clips. This typically means the spoken audio is too long. In some cases, the output will still be good, though. Listen to it and if it is missing words, try breaking up your input text.\n",
      "No stop tokens found in one of the generated voice clips. This typically means the spoken audio is too long. In some cases, the output will still be good, though. Listen to it and if it is missing words, try breaking up your input text.\n",
      "No stop tokens found in one of the generated voice clips. This typically means the spoken audio is too long. In some cases, the output will still be good, though. Listen to it and if it is missing words, try breaking up your input text.\n",
      "No stop tokens found in one of the generated voice clips. This typically means the spoken audio is too long. In some cases, the output will still be good, though. Listen to it and if it is missing words, try breaking up your input text.\n"
     ]
    },
    {
     "name": "stderr",
     "output_type": "stream",
     "text": [
      "chunks:  31%|███       | 121/389 [1:34:40<4:42:43, 63.30s/it]\u001b[32m2023-10-08 12:54:05.165\u001b[0m | \u001b[34m\u001b[1mDEBUG   \u001b[0m | \u001b[36m__main__\u001b[0m:\u001b[36m<module>\u001b[0m:\u001b[36m14\u001b[0m - \u001b[34m\u001b[1mcurrent sentence `The most crucial bit in chapter 4 of The Inner Citadel arrives when Hadot explains how Epictetus’ famous three disciplines (desire and aversion, action, and assent) are the key to reading the entire Meditations`\u001b[0m\n",
      "chunks:  31%|███▏      | 122/389 [1:35:31<4:25:41, 59.71s/it]\u001b[32m2023-10-08 12:54:55.893\u001b[0m | \u001b[34m\u001b[1mDEBUG   \u001b[0m | \u001b[36m__main__\u001b[0m:\u001b[36m<module>\u001b[0m:\u001b[36m14\u001b[0m - \u001b[34m\u001b[1mcurrent sentence `. We will talk about these in detail when we’ll get to chapters 6, 7, and 8, which are dedicated to each of the disciplines in turn. For now it is worth noting that the three disciplines are not found in any other Stoic writing, and appear therefore to be one of Epictetus’ original contributions to the philosophy`\u001b[0m\n",
      "chunks:  32%|███▏      | 123/389 [1:36:35<4:30:27, 61.01s/it]\u001b[32m2023-10-08 12:56:00.089\u001b[0m | \u001b[34m\u001b[1mDEBUG   \u001b[0m | \u001b[36m__main__\u001b[0m:\u001b[36m<module>\u001b[0m:\u001b[36m14\u001b[0m - \u001b[34m\u001b[1mcurrent sentence `. Epictetus also completely reshaped Panaetius’ so-called role ethics, which makes him the greatest Stoic innovator since Chrysippus, and arguably even more important in terms of lasting effect throughout the centuries (in part, to be fair, because we lost all of Chrysippus’ works).`\u001b[0m\n",
      "\u001b[32m2023-10-08 12:57:22.788\u001b[0m | \u001b[33m\u001b[1mWARNING \u001b[0m | \u001b[36m__main__\u001b[0m:\u001b[36m<module>\u001b[0m:\u001b[36m24\u001b[0m - \u001b[33m\u001b[1mwrote chapter /media/wassname/SGIronWolf/projects5/tts-ai/use-tts-mjc/out/a_short_guide_to_the_inner_citadel_-_massimo_pigliucci20231008_03-19-11/14.ogg\u001b[0m\n",
      "chunks:  32%|███▏      | 124/389 [1:37:58<4:57:29, 67.36s/it]\u001b[32m2023-10-08 12:57:22.789\u001b[0m | \u001b[34m\u001b[1mDEBUG   \u001b[0m | \u001b[36m__main__\u001b[0m:\u001b[36m<module>\u001b[0m:\u001b[36m14\u001b[0m - \u001b[34m\u001b[1mcurrent sentence `To give you a taste, Marcus often draws the Epictetean distinction among impressions (phantasiai), desires (orexeis), and impulses to action (hormai), for instance here:`\u001b[0m\n",
      "chunks:  32%|███▏      | 125/389 [1:38:50<4:36:36, 62.86s/it]\u001b[32m2023-10-08 12:58:14.910\u001b[0m | \u001b[34m\u001b[1mDEBUG   \u001b[0m | \u001b[36m__main__\u001b[0m:\u001b[36m<module>\u001b[0m:\u001b[36m14\u001b[0m - \u001b[34m\u001b[1mcurrent sentence `“Erase your impressions (phantasia), check your impulse to action (horme), extinguish your desire (orexis). Keep your ruling faculty (hegemonikon) within your power.” (Meditations, IX.7)`\u001b[0m\n",
      "chunks:  32%|███▏      | 126/389 [1:39:46<4:27:15, 60.97s/it]\u001b[32m2023-10-08 12:59:11.394\u001b[0m | \u001b[34m\u001b[1mDEBUG   \u001b[0m | \u001b[36m__main__\u001b[0m:\u001b[36m<module>\u001b[0m:\u001b[36m14\u001b[0m - \u001b[34m\u001b[1mcurrent sentence `Consider that impressions are a combination of sense data (that we receive from the environment) and initial, pre-reflective judgments. Desires are passive psychological states that result from the fact that we “assent” to certain impressions`\u001b[0m\n",
      "chunks:  33%|███▎      | 127/389 [1:40:37<4:13:21, 58.02s/it]\u001b[32m2023-10-08 13:00:02.441\u001b[0m | \u001b[34m\u001b[1mDEBUG   \u001b[0m | \u001b[36m__main__\u001b[0m:\u001b[36m<module>\u001b[0m:\u001b[36m14\u001b[0m - \u001b[34m\u001b[1mcurrent sentence `. Impulses are psychological states that lead us to act on such desires, also the result of assenting to impressions. And the ruling faculty is precisely the part of our mind that leads us to assent (or not) to certain impressions.`\u001b[0m\n",
      "chunks:  33%|███▎      | 128/389 [1:41:32<4:07:19, 56.85s/it]\u001b[32m2023-10-08 13:00:56.552\u001b[0m | \u001b[34m\u001b[1mDEBUG   \u001b[0m | \u001b[36m__main__\u001b[0m:\u001b[36m<module>\u001b[0m:\u001b[36m14\u001b[0m - \u001b[34m\u001b[1mcurrent sentence `For instance: I may see an attractive woman walking down the street, and automatically think that it would be good to get in bed with her (impression = sense data, I see an attractive woman + pre-reflective judgment, it would be pleasant to have sex with her)`\u001b[0m\n",
      "chunks:  33%|███▎      | 129/389 [1:42:27<4:04:10, 56.35s/it]\u001b[32m2023-10-08 13:01:51.716\u001b[0m | \u001b[34m\u001b[1mDEBUG   \u001b[0m | \u001b[36m__main__\u001b[0m:\u001b[36m<module>\u001b[0m:\u001b[36m14\u001b[0m - \u001b[34m\u001b[1mcurrent sentence `. This may lead to the development of a desire and potentially to act on it, which would imply that my ruling faculty has given assent to that combination of sense data and pre-reflective judgment`\u001b[0m\n",
      "chunks:  33%|███▎      | 130/389 [1:43:20<3:59:09, 55.40s/it]\u001b[32m2023-10-08 13:02:44.901\u001b[0m | \u001b[34m\u001b[1mDEBUG   \u001b[0m | \u001b[36m__main__\u001b[0m:\u001b[36m<module>\u001b[0m:\u001b[36m14\u001b[0m - \u001b[34m\u001b[1mcurrent sentence `. Or, if my hegemonikon is better trained in Stoic philosophy, I will deny assent to the impression, thus at the very least not acting on, and possibly - with practice - even eliminating the desire.`\u001b[0m\n",
      "chunks:  34%|███▎      | 131/389 [1:44:11<3:52:28, 54.06s/it]\u001b[32m2023-10-08 13:03:35.828\u001b[0m | \u001b[34m\u001b[1mDEBUG   \u001b[0m | \u001b[36m__main__\u001b[0m:\u001b[36m<module>\u001b[0m:\u001b[36m14\u001b[0m - \u001b[34m\u001b[1mcurrent sentence `5-The beautifully coherent Stoicism of Epictetus`\u001b[0m\n",
      "\u001b[32m2023-10-08 13:03:52.307\u001b[0m | \u001b[33m\u001b[1mWARNING \u001b[0m | \u001b[36m__main__\u001b[0m:\u001b[36m<module>\u001b[0m:\u001b[36m24\u001b[0m - \u001b[33m\u001b[1mwrote chapter /media/wassname/SGIronWolf/projects5/tts-ai/use-tts-mjc/out/a_short_guide_to_the_inner_citadel_-_massimo_pigliucci20231008_03-19-11/15.ogg\u001b[0m\n",
      "chunks:  34%|███▍      | 132/389 [1:44:27<3:03:20, 42.80s/it]\u001b[32m2023-10-08 13:03:52.308\u001b[0m | \u001b[34m\u001b[1mDEBUG   \u001b[0m | \u001b[36m__main__\u001b[0m:\u001b[36m<module>\u001b[0m:\u001b[36m14\u001b[0m - \u001b[34m\u001b[1mcurrent sentence `The fifth chapter of Hadot’s book is devoted to an overview of Epictetus’ philosophy, which is followed by three more chapters each dedicated to one of the three Epictetean disciplines: desire & aversion, action, and assent. Let’s take a look at the overview first.   Hadot begins without mincing words:`\u001b[0m\n",
      "chunks:  34%|███▍      | 133/389 [1:45:33<3:32:14, 49.74s/it]\u001b[32m2023-10-08 13:04:58.266\u001b[0m | \u001b[34m\u001b[1mDEBUG   \u001b[0m | \u001b[36m__main__\u001b[0m:\u001b[36m<module>\u001b[0m:\u001b[36m14\u001b[0m - \u001b[34m\u001b[1mcurrent sentence `“Ancient philosophy had nothing in common with our contemporary philosophers, who imagine that philosophy consists, for each philosopher, in inventing a ‘new discourse’ or new language, all the more original the more it is incomprehensible and artificial.” (p. 73)`\u001b[0m\n",
      "chunks:  34%|███▍      | 134/389 [1:46:38<3:51:10, 54.39s/it]\u001b[32m2023-10-08 13:06:03.521\u001b[0m | \u001b[34m\u001b[1mDEBUG   \u001b[0m | \u001b[36m__main__\u001b[0m:\u001b[36m<module>\u001b[0m:\u001b[36m14\u001b[0m - \u001b[34m\u001b[1mcurrent sentence `Although he has a point, this isn’t quite fair. Yes, modern academic philosophy has gotten carried away doing precisely what Hadot is charging it with, and moreover has pointedly ignored any practical application of philosophy for real people in real life`\u001b[0m\n",
      "chunks:  35%|███▍      | 135/389 [1:47:36<3:53:59, 55.27s/it]\u001b[32m2023-10-08 13:07:00.853\u001b[0m | \u001b[34m\u001b[1mDEBUG   \u001b[0m | \u001b[36m__main__\u001b[0m:\u001b[36m<module>\u001b[0m:\u001b[36m14\u001b[0m - \u001b[34m\u001b[1mcurrent sentence `. But most of the Pre-Socratics also invented new discourses and new language, and they too were fairly incomprehensible…`\u001b[0m\n",
      "chunks:  35%|███▍      | 136/389 [1:48:02<3:16:27, 46.59s/it]\u001b[32m2023-10-08 13:07:27.167\u001b[0m | \u001b[34m\u001b[1mDEBUG   \u001b[0m | \u001b[36m__main__\u001b[0m:\u001b[36m<module>\u001b[0m:\u001b[36m14\u001b[0m - \u001b[34m\u001b[1mcurrent sentence `A very important point made by Hadot, however, is that Stoicism was born out of the confluence of three preceding traditions: the Socratic one, as far as ethics is concerned; the Heraclitean one, regarding metaphysics; and the Megarean one`\u001b[0m\n",
      "chunks:  35%|███▌      | 137/389 [1:48:56<3:24:56, 48.80s/it]\u001b[32m2023-10-08 13:08:21.113\u001b[0m | \u001b[34m\u001b[1mDEBUG   \u001b[0m | \u001b[36m__main__\u001b[0m:\u001b[36m<module>\u001b[0m:\u001b[36m14\u001b[0m - \u001b[34m\u001b[1mcurrent sentence `(named after Euclides of Megara, a student of Socrates) in terms of logical discourse`\u001b[0m\n",
      "chunks:  35%|███▌      | 138/389 [1:49:17<2:48:59, 40.40s/it]\u001b[32m2023-10-08 13:08:41.904\u001b[0m | \u001b[34m\u001b[1mDEBUG   \u001b[0m | \u001b[36m__main__\u001b[0m:\u001b[36m<module>\u001b[0m:\u001b[36m14\u001b[0m - \u001b[34m\u001b[1mcurrent sentence `. (It’s interesting to know that Zeno of Citium, the founder of Stoicism, studied with the Megarean philosophers Stilpo and Diodorus Cronus.) These traditions got merged and adapted to yield the three areas of study of the standard Stoic curriculum.`\u001b[0m\n",
      "chunks:  36%|███▌      | 139/389 [1:50:24<3:21:48, 48.43s/it]\u001b[32m2023-10-08 13:09:49.093\u001b[0m | \u001b[34m\u001b[1mDEBUG   \u001b[0m | \u001b[36m__main__\u001b[0m:\u001b[36m<module>\u001b[0m:\u001b[36m14\u001b[0m - \u001b[34m\u001b[1mcurrent sentence `As is well known, the Logos is a crucial concept in Stoic philosophy, and Hadot does a good job at interpreting it in three distinct, yet related, ways`\u001b[0m\n",
      "chunks:  36%|███▌      | 140/389 [1:50:57<3:02:02, 43.86s/it]\u001b[32m2023-10-08 13:10:22.294\u001b[0m | \u001b[34m\u001b[1mDEBUG   \u001b[0m | \u001b[36m__main__\u001b[0m:\u001b[36m<module>\u001b[0m:\u001b[36m14\u001b[0m - \u001b[34m\u001b[1mcurrent sentence `: the logos of the Socratic approach, which uses reason to arrive at ethical truths; the logos of Heraclitus, in the sense of the rational principle by which the cosmos is organized; and the logos of the Megarians, i`\u001b[0m\n",
      "\u001b[32m2023-10-08 13:11:18.937\u001b[0m | \u001b[33m\u001b[1mWARNING \u001b[0m | \u001b[36m__main__\u001b[0m:\u001b[36m<module>\u001b[0m:\u001b[36m24\u001b[0m - \u001b[33m\u001b[1mwrote chapter /media/wassname/SGIronWolf/projects5/tts-ai/use-tts-mjc/out/a_short_guide_to_the_inner_citadel_-_massimo_pigliucci20231008_03-19-11/16.ogg\u001b[0m\n",
      "chunks:  36%|███▌      | 141/389 [1:51:54<3:17:09, 47.70s/it]\u001b[32m2023-10-08 13:11:18.938\u001b[0m | \u001b[34m\u001b[1mDEBUG   \u001b[0m | \u001b[36m__main__\u001b[0m:\u001b[36m<module>\u001b[0m:\u001b[36m14\u001b[0m - \u001b[34m\u001b[1mcurrent sentence `.e., the notion that we can arrive at an understanding of reality of the cosmos by way of reason.`\u001b[0m\n",
      "chunks:  37%|███▋      | 142/389 [1:52:19<2:47:58, 40.80s/it]\u001b[32m2023-10-08 13:11:43.649\u001b[0m | \u001b[34m\u001b[1mDEBUG   \u001b[0m | \u001b[36m__main__\u001b[0m:\u001b[36m<module>\u001b[0m:\u001b[36m14\u001b[0m - \u001b[34m\u001b[1mcurrent sentence `It is in this sense of confluence of the three logos that we want to understand the famous Stoic notion that we need to live “according to nature”: when we apply reason to understand the world and how to live in it we are resonating with the cosmic principle, we are in harmony, so to speak, with it.`\u001b[0m\n",
      "chunks:  37%|███▋      | 143/389 [1:53:34<3:30:26, 51.33s/it]\u001b[32m2023-10-08 13:12:59.541\u001b[0m | \u001b[34m\u001b[1mDEBUG   \u001b[0m | \u001b[36m__main__\u001b[0m:\u001b[36m<module>\u001b[0m:\u001b[36m14\u001b[0m - \u001b[34m\u001b[1mcurrent sentence `Hadot suggests, not at all unreasonably, that Stoic practice needs to be a seamless mix of “physics” (i.e., metaphysics and natural science), “logic” (broadly construed) and “ethics” (how to live one’s life)`\u001b[0m\n",
      "chunks:  37%|███▋      | 144/389 [1:54:27<3:31:25, 51.78s/it]\u001b[32m2023-10-08 13:13:52.362\u001b[0m | \u001b[34m\u001b[1mDEBUG   \u001b[0m | \u001b[36m__main__\u001b[0m:\u001b[36m<module>\u001b[0m:\u001b[36m14\u001b[0m - \u001b[34m\u001b[1mcurrent sentence `. At the same time, however, when these disciplines need to be taught to students it must be done in some kind of order, and the ancient Stoics themselves famously disagreed on whether to put, say, logic or physics first`\u001b[0m\n",
      "chunks:  37%|███▋      | 145/389 [1:55:10<3:19:31, 49.07s/it]\u001b[32m2023-10-08 13:14:35.102\u001b[0m | \u001b[34m\u001b[1mDEBUG   \u001b[0m | \u001b[36m__main__\u001b[0m:\u001b[36m<module>\u001b[0m:\u001b[36m14\u001b[0m - \u001b[34m\u001b[1mcurrent sentence `. If one follows the famous metaphor of the garden, where the fence is the logic, the fertile soil the physics, and the fruits of the trees the ethics, then the pedagogical sequence is: logic > physics > ethics. This happens to be my preferred structure for the Stoic curriculum as well`\u001b[0m\n",
      "chunks:  38%|███▊      | 146/389 [1:56:20<3:44:39, 55.47s/it]\u001b[32m2023-10-08 13:15:45.514\u001b[0m | \u001b[34m\u001b[1mDEBUG   \u001b[0m | \u001b[36m__main__\u001b[0m:\u001b[36m<module>\u001b[0m:\u001b[36m14\u001b[0m - \u001b[34m\u001b[1mcurrent sentence `. To put it as Hadot does, however:`\u001b[0m\n",
      "chunks:  38%|███▊      | 147/389 [1:56:35<2:53:52, 43.11s/it]\u001b[32m2023-10-08 13:15:59.781\u001b[0m | \u001b[34m\u001b[1mDEBUG   \u001b[0m | \u001b[36m__main__\u001b[0m:\u001b[36m<module>\u001b[0m:\u001b[36m14\u001b[0m - \u001b[34m\u001b[1mcurrent sentence `“Logic, physics, and ethics are distinguishable when we talk about philosophy, but not when we live it.” (p. 82)`\u001b[0m\n",
      "chunks:  38%|███▊      | 148/389 [1:57:02<2:34:25, 38.44s/it]\u001b[32m2023-10-08 13:16:27.342\u001b[0m | \u001b[34m\u001b[1mDEBUG   \u001b[0m | \u001b[36m__main__\u001b[0m:\u001b[36m<module>\u001b[0m:\u001b[36m14\u001b[0m - \u001b[34m\u001b[1mcurrent sentence `All of this is a preliminary to Epictetus, who was in some sense an innovator in Stoic philosophy (e.g., his conception of role ethics), and yet in other respects was closer than any other late Stoic to the original Stoa of Zeno and especially Chrysippus`\u001b[0m\n",
      "chunks:  38%|███▊      | 149/389 [1:58:22<3:23:26, 50.86s/it]\u001b[32m2023-10-08 13:17:47.177\u001b[0m | \u001b[34m\u001b[1mDEBUG   \u001b[0m | \u001b[36m__main__\u001b[0m:\u001b[36m<module>\u001b[0m:\u001b[36m14\u001b[0m - \u001b[34m\u001b[1mcurrent sentence `. For instance, Epictetus’ famous insistence on what we today call the dichotomy of control, harks back to the initial Stoic distinction between things that we can control and things that we cannot control`\u001b[0m\n",
      "\u001b[32m2023-10-08 13:18:41.599\u001b[0m | \u001b[33m\u001b[1mWARNING \u001b[0m | \u001b[36m__main__\u001b[0m:\u001b[36m<module>\u001b[0m:\u001b[36m24\u001b[0m - \u001b[33m\u001b[1mwrote chapter /media/wassname/SGIronWolf/projects5/tts-ai/use-tts-mjc/out/a_short_guide_to_the_inner_citadel_-_massimo_pigliucci20231008_03-19-11/17.ogg\u001b[0m\n",
      "chunks:  39%|███▊      | 150/389 [1:59:17<3:26:51, 51.93s/it]\u001b[32m2023-10-08 13:18:41.601\u001b[0m | \u001b[34m\u001b[1mDEBUG   \u001b[0m | \u001b[36m__main__\u001b[0m:\u001b[36m<module>\u001b[0m:\u001b[36m14\u001b[0m - \u001b[34m\u001b[1mcurrent sentence `. Epictetus uses the classic Stoic words to enumerate the things that are under our control: value judgments (hypolepseis), impulses toward action (horme), and desire (orexis). (See here for a brief introduction to Stoic psychology.)`\u001b[0m\n",
      "chunks:  39%|███▉      | 151/389 [2:00:16<3:34:37, 54.11s/it]\u001b[32m2023-10-08 13:19:40.782\u001b[0m | \u001b[34m\u001b[1mDEBUG   \u001b[0m | \u001b[36m__main__\u001b[0m:\u001b[36m<module>\u001b[0m:\u001b[36m14\u001b[0m - \u001b[34m\u001b[1mcurrent sentence `It is this insistence by Epictetus on improving our faculty of judgment (prohairesis) that leads Marcus to emphasize the role of our “ruling faculty,” the hegemonikon, the one exercising judgment. (See here for more on the relationship between the two.) Hadot comments:`\u001b[0m\n"
     ]
    },
    {
     "name": "stdout",
     "output_type": "stream",
     "text": [
      "No stop tokens found in one of the generated voice clips. This typically means the spoken audio is too long. In some cases, the output will still be good, though. Listen to it and if it is missing words, try breaking up your input text.\n",
      "No stop tokens found in one of the generated voice clips. This typically means the spoken audio is too long. In some cases, the output will still be good, though. Listen to it and if it is missing words, try breaking up your input text.\n",
      "No stop tokens found in one of the generated voice clips. This typically means the spoken audio is too long. In some cases, the output will still be good, though. Listen to it and if it is missing words, try breaking up your input text.\n"
     ]
    },
    {
     "name": "stderr",
     "output_type": "stream",
     "text": [
      "chunks:  39%|███▉      | 152/389 [2:01:47<4:17:32, 65.20s/it]\u001b[32m2023-10-08 13:21:11.864\u001b[0m | \u001b[34m\u001b[1mDEBUG   \u001b[0m | \u001b[36m__main__\u001b[0m:\u001b[36m<module>\u001b[0m:\u001b[36m14\u001b[0m - \u001b[34m\u001b[1mcurrent sentence `“It is quite remarkable that Epictetus is representing the moral life as a dialectical exercise, in which we engage in a dialogue with events, as they ask us questions. [quoting Epictetus:] ‘His ship sank.’ ‘What happened?’ ‘His ship sank.’ ‘He was sent to prison`\u001b[0m\n"
     ]
    },
    {
     "name": "stdout",
     "output_type": "stream",
     "text": [
      "No stop tokens found in one of the generated voice clips. This typically means the spoken audio is too long. In some cases, the output will still be good, though. Listen to it and if it is missing words, try breaking up your input text.\n"
     ]
    },
    {
     "name": "stderr",
     "output_type": "stream",
     "text": [
      "chunks:  39%|███▉      | 153/389 [2:03:07<4:33:38, 69.57s/it]\u001b[32m2023-10-08 13:22:31.636\u001b[0m | \u001b[34m\u001b[1mDEBUG   \u001b[0m | \u001b[36m__main__\u001b[0m:\u001b[36m<module>\u001b[0m:\u001b[36m14\u001b[0m - \u001b[34m\u001b[1mcurrent sentence `.’ But if you add the proposition ‘a terrible thing happened to him,’ then that is coming from you.” (p. 85)`\u001b[0m\n",
      "chunks:  40%|███▉      | 154/389 [2:03:31<3:39:26, 56.03s/it]\u001b[32m2023-10-08 13:22:56.063\u001b[0m | \u001b[34m\u001b[1mDEBUG   \u001b[0m | \u001b[36m__main__\u001b[0m:\u001b[36m<module>\u001b[0m:\u001b[36m14\u001b[0m - \u001b[34m\u001b[1mcurrent sentence `At this point Hadot introduces the classical distinction among the three topoi that Epictetus uses as foundational for his philosophy: desire and aversion, action, and assent`\u001b[0m\n",
      "chunks:  40%|███▉      | 155/389 [2:04:14<3:22:42, 51.98s/it]\u001b[32m2023-10-08 13:23:38.594\u001b[0m | \u001b[34m\u001b[1mDEBUG   \u001b[0m | \u001b[36m__main__\u001b[0m:\u001b[36m<module>\u001b[0m:\u001b[36m14\u001b[0m - \u001b[34m\u001b[1mcurrent sentence `. The first one has to do with developing the right desires (and aversions), that is with training ourselves to desire things under our control (good judgments), not those we cannot control (externals)`\u001b[0m\n",
      "chunks:  40%|████      | 156/389 [2:05:14<3:32:04, 54.61s/it]\u001b[32m2023-10-08 13:24:39.352\u001b[0m | \u001b[34m\u001b[1mDEBUG   \u001b[0m | \u001b[36m__main__\u001b[0m:\u001b[36m<module>\u001b[0m:\u001b[36m14\u001b[0m - \u001b[34m\u001b[1mcurrent sentence `. Action deals with how to behave with other people, keeping in mind of course that decisions to act in one way or another are up to us, but the outcomes of those decisions aren’t (they depend in part on externals)`\u001b[0m\n",
      "chunks:  40%|████      | 157/389 [2:06:06<3:27:21, 53.63s/it]\u001b[32m2023-10-08 13:25:30.687\u001b[0m | \u001b[34m\u001b[1mDEBUG   \u001b[0m | \u001b[36m__main__\u001b[0m:\u001b[36m<module>\u001b[0m:\u001b[36m14\u001b[0m - \u001b[34m\u001b[1mcurrent sentence `. Assent is about arriving at increasingly correct analyses of our impressions, for instance realizing that the impression that to sleep with an attractive stranger is a good thing is, in fact, incorrect, if we are already married or in a committed relationship.`\u001b[0m\n",
      "\u001b[32m2023-10-08 13:26:23.590\u001b[0m | \u001b[33m\u001b[1mWARNING \u001b[0m | \u001b[36m__main__\u001b[0m:\u001b[36m<module>\u001b[0m:\u001b[36m24\u001b[0m - \u001b[33m\u001b[1mwrote chapter /media/wassname/SGIronWolf/projects5/tts-ai/use-tts-mjc/out/a_short_guide_to_the_inner_citadel_-_massimo_pigliucci20231008_03-19-11/18.ogg\u001b[0m\n",
      "chunks:  41%|████      | 158/389 [2:06:59<3:25:38, 53.41s/it]\u001b[32m2023-10-08 13:26:23.592\u001b[0m | \u001b[34m\u001b[1mDEBUG   \u001b[0m | \u001b[36m__main__\u001b[0m:\u001b[36m<module>\u001b[0m:\u001b[36m14\u001b[0m - \u001b[34m\u001b[1mcurrent sentence `Hadot also makes an interesting point which at the same time clears up a possible source of confusion: Epictetus uses the word topoi (singular topos) to refer to the three disciplines. That’s the same word that early Stoics used when talking about the three fields of study of logic, physics, and ethics`\u001b[0m\n"
     ]
    },
    {
     "name": "stdout",
     "output_type": "stream",
     "text": [
      "No stop tokens found in one of the generated voice clips. This typically means the spoken audio is too long. In some cases, the output will still be good, though. Listen to it and if it is missing words, try breaking up your input text.\n"
     ]
    },
    {
     "name": "stderr",
     "output_type": "stream",
     "text": [
      "chunks:  41%|████      | 159/389 [2:08:00<3:34:28, 55.95s/it]\u001b[32m2023-10-08 13:27:25.458\u001b[0m | \u001b[34m\u001b[1mDEBUG   \u001b[0m | \u001b[36m__main__\u001b[0m:\u001b[36m<module>\u001b[0m:\u001b[36m14\u001b[0m - \u001b[34m\u001b[1mcurrent sentence `. From there it’s but a small step to directly connect the fields of studies and the disciplines, in this way, which has become standard in modern Stoicism after Hadot:`\u001b[0m\n",
      "chunks:  41%|████      | 160/389 [2:08:45<3:20:05, 52.43s/it]\u001b[32m2023-10-08 13:28:09.671\u001b[0m | \u001b[34m\u001b[1mDEBUG   \u001b[0m | \u001b[36m__main__\u001b[0m:\u001b[36m<module>\u001b[0m:\u001b[36m14\u001b[0m - \u001b[34m\u001b[1mcurrent sentence `Physics <> Desire / Aversion Ethics <> Action Logic <> Assent`\u001b[0m\n",
      "chunks:  41%|████▏     | 161/389 [2:09:01<2:38:36, 41.74s/it]\u001b[32m2023-10-08 13:28:26.477\u001b[0m | \u001b[34m\u001b[1mDEBUG   \u001b[0m | \u001b[36m__main__\u001b[0m:\u001b[36m<module>\u001b[0m:\u001b[36m14\u001b[0m - \u001b[34m\u001b[1mcurrent sentence `The idea is that an understanding of how the world works (physics) informs us about what is proper for us to desire (things under our control) or not (things not under our control). Ethics, quite properly, tells us how to act in the world, particularly when it comes to our interactions with others`\u001b[0m\n",
      "chunks:  42%|████▏     | 162/389 [2:10:12<3:10:25, 50.33s/it]\u001b[32m2023-10-08 13:29:36.859\u001b[0m | \u001b[34m\u001b[1mDEBUG   \u001b[0m | \u001b[36m__main__\u001b[0m:\u001b[36m<module>\u001b[0m:\u001b[36m14\u001b[0m - \u001b[34m\u001b[1mcurrent sentence `. And logic is what we use whenever we inquire into impressions and decide to assent to them (or not).`\u001b[0m\n",
      "chunks:  42%|████▏     | 163/389 [2:10:33<2:36:15, 41.48s/it]\u001b[32m2023-10-08 13:29:57.693\u001b[0m | \u001b[34m\u001b[1mDEBUG   \u001b[0m | \u001b[36m__main__\u001b[0m:\u001b[36m<module>\u001b[0m:\u001b[36m14\u001b[0m - \u001b[34m\u001b[1mcurrent sentence `Hadot then deploys the same approach we have seen above when talking about the fact that lived philosophy needs to be based on a fluid mix of the three fields of study, while talked philosophy (i.e., when we teach it) requires a specific curricular sequence`\u001b[0m\n",
      "chunks:  42%|████▏     | 164/389 [2:11:28<2:51:41, 45.78s/it]\u001b[32m2023-10-08 13:30:53.506\u001b[0m | \u001b[34m\u001b[1mDEBUG   \u001b[0m | \u001b[36m__main__\u001b[0m:\u001b[36m<module>\u001b[0m:\u001b[36m14\u001b[0m - \u001b[34m\u001b[1mcurrent sentence `. The same thing, he maintains, is true for the three disciplines. While Epictetus is explicit that desire / aversion comes first, action next, and, especially, assent last, Hadot thinks this is true in the context of teaching. But in terms of living our lives, we again need a dynamic presence of all three`\u001b[0m\n"
     ]
    },
    {
     "name": "stdout",
     "output_type": "stream",
     "text": [
      "No stop tokens found in one of the generated voice clips. This typically means the spoken audio is too long. In some cases, the output will still be good, though. Listen to it and if it is missing words, try breaking up your input text.\n"
     ]
    },
    {
     "name": "stderr",
     "output_type": "stream",
     "text": [
      "chunks:  42%|████▏     | 165/389 [2:12:43<3:23:18, 54.46s/it]\u001b[32m2023-10-08 13:32:08.205\u001b[0m | \u001b[34m\u001b[1mDEBUG   \u001b[0m | \u001b[36m__main__\u001b[0m:\u001b[36m<module>\u001b[0m:\u001b[36m14\u001b[0m - \u001b[34m\u001b[1mcurrent sentence `. This point is controversial among modern Stoics -- particularly because Epictetus is so clear about assent coming last. But in reading Hadot, I’m inclined to agree with him: teaching philosophy is one thing, living it is another`\u001b[0m\n",
      "\u001b[32m2023-10-08 13:33:02.299\u001b[0m | \u001b[33m\u001b[1mWARNING \u001b[0m | \u001b[36m__main__\u001b[0m:\u001b[36m<module>\u001b[0m:\u001b[36m24\u001b[0m - \u001b[33m\u001b[1mwrote chapter /media/wassname/SGIronWolf/projects5/tts-ai/use-tts-mjc/out/a_short_guide_to_the_inner_citadel_-_massimo_pigliucci20231008_03-19-11/19.ogg\u001b[0m\n",
      "chunks:  43%|████▎     | 166/389 [2:13:37<3:21:59, 54.35s/it]\u001b[32m2023-10-08 13:33:02.301\u001b[0m | \u001b[34m\u001b[1mDEBUG   \u001b[0m | \u001b[36m__main__\u001b[0m:\u001b[36m<module>\u001b[0m:\u001b[36m14\u001b[0m - \u001b[34m\u001b[1mcurrent sentence `. While it is true that deploying logic to secure our assent only to propositions that are good for us to assent to is the most difficult and advanced task for the student of Stoicism, it’s not like we can live our lives for years before starting to use reason to assess impressions. Imperfectly, but we need to do it from the get go.`\u001b[0m\n",
      "chunks:  43%|████▎     | 167/389 [2:14:46<3:36:54, 58.63s/it]\u001b[32m2023-10-08 13:34:10.906\u001b[0m | \u001b[34m\u001b[1mDEBUG   \u001b[0m | \u001b[36m__main__\u001b[0m:\u001b[36m<module>\u001b[0m:\u001b[36m14\u001b[0m - \u001b[34m\u001b[1mcurrent sentence `The conclusion of all this is that Stoic philosophy, and particularly Epictetus’ version, forms a beautifully coherent system. It all hangs together: physics, ethics, logic, desire / aversion, action, and assent. Stoic metaphysics and Stoic psychology`\u001b[0m\n"
     ]
    },
    {
     "name": "stdout",
     "output_type": "stream",
     "text": [
      "No stop tokens found in one of the generated voice clips. This typically means the spoken audio is too long. In some cases, the output will still be good, though. Listen to it and if it is missing words, try breaking up your input text.\n"
     ]
    },
    {
     "name": "stderr",
     "output_type": "stream",
     "text": [
      "chunks:  43%|████▎     | 168/389 [2:15:57<3:49:54, 62.42s/it]\u001b[32m2023-10-08 13:35:22.170\u001b[0m | \u001b[34m\u001b[1mDEBUG   \u001b[0m | \u001b[36m__main__\u001b[0m:\u001b[36m<module>\u001b[0m:\u001b[36m14\u001b[0m - \u001b[34m\u001b[1mcurrent sentence `. All in the pursuit of a eudaimonic life, a life worth living:`\u001b[0m\n",
      "chunks:  43%|████▎     | 169/389 [2:16:12<2:57:01, 48.28s/it]\u001b[32m2023-10-08 13:35:37.467\u001b[0m | \u001b[34m\u001b[1mDEBUG   \u001b[0m | \u001b[36m__main__\u001b[0m:\u001b[36m<module>\u001b[0m:\u001b[36m14\u001b[0m - \u001b[34m\u001b[1mcurrent sentence `“The doctrine of the three exercises-themes, disciplines, or rules of life thus contains within itself the whole essence of Stoicism, recapitulated in a grandiose way.” (p. 100)`\u001b[0m\n",
      "chunks:  44%|████▎     | 170/389 [2:16:56<2:50:52, 46.82s/it]\u001b[32m2023-10-08 13:36:20.863\u001b[0m | \u001b[34m\u001b[1mDEBUG   \u001b[0m | \u001b[36m__main__\u001b[0m:\u001b[36m<module>\u001b[0m:\u001b[36m14\u001b[0m - \u001b[34m\u001b[1mcurrent sentence `6-The discipline of assent`\u001b[0m\n",
      "chunks:  44%|████▍     | 171/389 [2:17:07<2:11:20, 36.15s/it]\u001b[32m2023-10-08 13:36:32.127\u001b[0m | \u001b[34m\u001b[1mDEBUG   \u001b[0m | \u001b[36m__main__\u001b[0m:\u001b[36m<module>\u001b[0m:\u001b[36m14\u001b[0m - \u001b[34m\u001b[1mcurrent sentence `One might be forgiven for beginning to suspect that The Inner Citadel, Pierre Hadot’s classic study of Marcus Aurelius’ Meditations, is in fact a study of the philosophy of Epictetus. We have seen that chapter 5, for instance, is devoted to “the beautifully coherent Stoicism of Epictetus`\u001b[0m\n",
      "chunks:  44%|████▍     | 172/389 [2:18:23<2:53:59, 48.11s/it]\u001b[32m2023-10-08 13:37:48.135\u001b[0m | \u001b[34m\u001b[1mDEBUG   \u001b[0m | \u001b[36m__main__\u001b[0m:\u001b[36m<module>\u001b[0m:\u001b[36m14\u001b[0m - \u001b[34m\u001b[1mcurrent sentence `.” And we are now beginning to look at three chapters devoted respectively to Epictetus’ disciplines of assent (this post), desire (next post), and action (two posts down the road)`\u001b[0m\n",
      "chunks:  44%|████▍     | 173/389 [2:19:11<2:53:01, 48.06s/it]\u001b[32m2023-10-08 13:38:36.089\u001b[0m | \u001b[34m\u001b[1mDEBUG   \u001b[0m | \u001b[36m__main__\u001b[0m:\u001b[36m<module>\u001b[0m:\u001b[36m14\u001b[0m - \u001b[34m\u001b[1mcurrent sentence `. Then again, other authors, for instance William Stephens, in his enlightening Marcus Aurelius: A Guide for the Perplexed, have remarked how Marcus’ philosophy is heavily influenced by the sage from Hierapolis. No matter, a better understanding of the three disciplines will do all of us some good, so let us proceed!`\u001b[0m\n",
      "\u001b[32m2023-10-08 13:40:03.005\u001b[0m | \u001b[33m\u001b[1mWARNING \u001b[0m | \u001b[36m__main__\u001b[0m:\u001b[36m<module>\u001b[0m:\u001b[36m24\u001b[0m - \u001b[33m\u001b[1mwrote chapter /media/wassname/SGIronWolf/projects5/tts-ai/use-tts-mjc/out/a_short_guide_to_the_inner_citadel_-_massimo_pigliucci20231008_03-19-11/20.ogg\u001b[0m\n",
      "chunks:  45%|████▍     | 174/389 [2:20:38<3:33:59, 59.72s/it]\u001b[32m2023-10-08 13:40:03.006\u001b[0m | \u001b[34m\u001b[1mDEBUG   \u001b[0m | \u001b[36m__main__\u001b[0m:\u001b[36m<module>\u001b[0m:\u001b[36m14\u001b[0m - \u001b[34m\u001b[1mcurrent sentence `The discipline of assent trains us to make better judgments about things. Hadot defines it concisely in the following manner:   “The discipline of assent consists essentially in refusing to accept within oneself all representations which are other than objective or adequate.” (p. 101)`\u001b[0m\n",
      "chunks:  45%|████▍     | 175/389 [2:21:54<3:50:19, 64.58s/it]\u001b[32m2023-10-08 13:41:18.916\u001b[0m | \u001b[34m\u001b[1mDEBUG   \u001b[0m | \u001b[36m__main__\u001b[0m:\u001b[36m<module>\u001b[0m:\u001b[36m14\u001b[0m - \u001b[34m\u001b[1mcurrent sentence `What are these “representations,” referred to in Greek as phantasia (which, interestingly, is the root of the English word phantasm, i.e., ghost)? Even though I have covered Stoic psychology 101 on this site, let us follow Hadot’s version of the theory. To begin with, we have sensation (Gr`\u001b[0m\n",
      "chunks:  45%|████▌     | 176/389 [2:23:05<3:56:31, 66.63s/it]\u001b[32m2023-10-08 13:42:30.324\u001b[0m | \u001b[34m\u001b[1mDEBUG   \u001b[0m | \u001b[36m__main__\u001b[0m:\u001b[36m<module>\u001b[0m:\u001b[36m14\u001b[0m - \u001b[34m\u001b[1mcurrent sentence `. aisthesis), a physiological process we share with other animals, and which generates images (phantasia) in the soul (i.e., in our minds). More specifically, the phantasia are produced in the ruling faculty of our mind, the hegemonikon.`\u001b[0m\n"
     ]
    },
    {
     "name": "stdout",
     "output_type": "stream",
     "text": [
      "No stop tokens found in one of the generated voice clips. This typically means the spoken audio is too long. In some cases, the output will still be good, though. Listen to it and if it is missing words, try breaking up your input text.\n"
     ]
    },
    {
     "name": "stderr",
     "output_type": "stream",
     "text": [
      "chunks:  46%|████▌     | 177/389 [2:24:15<3:59:08, 67.68s/it]\u001b[32m2023-10-08 13:43:40.473\u001b[0m | \u001b[34m\u001b[1mDEBUG   \u001b[0m | \u001b[36m__main__\u001b[0m:\u001b[36m<module>\u001b[0m:\u001b[36m14\u001b[0m - \u001b[34m\u001b[1mcurrent sentence `The important bit here is that these images in our mind are accompanied by an inner discourse, or a pre-judgment. Like: chocolate cake (from sensation) + “chocolate cake is good!” (inner discourse) = pre-reflective desire for chocolate cake (representation)`\u001b[0m\n"
     ]
    },
    {
     "name": "stdout",
     "output_type": "stream",
     "text": [
      "No stop tokens found in one of the generated voice clips. This typically means the spoken audio is too long. In some cases, the output will still be good, though. Listen to it and if it is missing words, try breaking up your input text.\n"
     ]
    },
    {
     "name": "stderr",
     "output_type": "stream",
     "text": [
      "chunks:  46%|████▌     | 178/389 [2:25:29<4:04:32, 69.54s/it]\u001b[32m2023-10-08 13:44:54.348\u001b[0m | \u001b[34m\u001b[1mDEBUG   \u001b[0m | \u001b[36m__main__\u001b[0m:\u001b[36m<module>\u001b[0m:\u001b[36m14\u001b[0m - \u001b[34m\u001b[1mcurrent sentence `. The notion, then, is that we can give or withhold assent to these representations, essentially by confirming or challenging the pre-reflective inner discourse. Like this: “no, chocolate cake is not good, because I’m diabetic.”`\u001b[0m\n",
      "chunks:  46%|████▌     | 179/389 [2:26:22<3:45:21, 64.39s/it]\u001b[32m2023-10-08 13:45:46.711\u001b[0m | \u001b[34m\u001b[1mDEBUG   \u001b[0m | \u001b[36m__main__\u001b[0m:\u001b[36m<module>\u001b[0m:\u001b[36m14\u001b[0m - \u001b[34m\u001b[1mcurrent sentence `That’s why Marcus often reminds himself of the difference between the row image (which is emotionally neutral) and the judgment (which is not):`\u001b[0m\n",
      "chunks:  46%|████▋     | 180/389 [2:26:47<3:03:09, 52.58s/it]\u001b[32m2023-10-08 13:46:11.747\u001b[0m | \u001b[34m\u001b[1mDEBUG   \u001b[0m | \u001b[36m__main__\u001b[0m:\u001b[36m<module>\u001b[0m:\u001b[36m14\u001b[0m - \u001b[34m\u001b[1mcurrent sentence `“Don’t tell yourself anything more than what your primary representations tell you. If you’ve been told, ‘so-and-so has been talking behind your back,’ then this is what you’ve been told. You have not, however, been told that ‘somebody has done a wrong to you.’” (Meditations VIII.9)`\u001b[0m\n",
      "\u001b[32m2023-10-08 13:47:10.937\u001b[0m | \u001b[33m\u001b[1mWARNING \u001b[0m | \u001b[36m__main__\u001b[0m:\u001b[36m<module>\u001b[0m:\u001b[36m24\u001b[0m - \u001b[33m\u001b[1mwrote chapter /media/wassname/SGIronWolf/projects5/tts-ai/use-tts-mjc/out/a_short_guide_to_the_inner_citadel_-_massimo_pigliucci20231008_03-19-11/21.ogg\u001b[0m\n",
      "chunks:  47%|████▋     | 181/389 [2:27:46<3:09:09, 54.56s/it]\u001b[32m2023-10-08 13:47:10.938\u001b[0m | \u001b[34m\u001b[1mDEBUG   \u001b[0m | \u001b[36m__main__\u001b[0m:\u001b[36m<module>\u001b[0m:\u001b[36m14\u001b[0m - \u001b[34m\u001b[1mcurrent sentence `Our pre-reflective judgments originate from our prejudices, or from social pressure, and it is not, therefore, wise to assent to them. It is in this sense that the hegemonikon, the ruling faculty, is the “inner citadel” of the title of Hadot’s book. As he puts it:`\u001b[0m\n",
      "chunks:  47%|████▋     | 182/389 [2:28:54<3:22:23, 58.66s/it]\u001b[32m2023-10-08 13:48:19.161\u001b[0m | \u001b[34m\u001b[1mDEBUG   \u001b[0m | \u001b[36m__main__\u001b[0m:\u001b[36m<module>\u001b[0m:\u001b[36m14\u001b[0m - \u001b[34m\u001b[1mcurrent sentence `“[The hegemonikon] alone is free, because it alone can give or refuse its assent to that inner discourse which enunciates what the object is which is represented by a given phantasia`\u001b[0m\n",
      "chunks:  47%|████▋     | 183/389 [2:29:33<3:01:02, 52.73s/it]\u001b[32m2023-10-08 13:48:58.052\u001b[0m | \u001b[34m\u001b[1mDEBUG   \u001b[0m | \u001b[36m__main__\u001b[0m:\u001b[36m<module>\u001b[0m:\u001b[36m14\u001b[0m - \u001b[34m\u001b[1mcurrent sentence `. This borderline which objects cannot cross, this inviolable stronghold of freedom, is the limit of what I shall refer to as the ‘inner citadel.’” (p. 107)`\u001b[0m\n",
      "chunks:  47%|████▋     | 184/389 [2:30:13<2:46:49, 48.83s/it]\u001b[32m2023-10-08 13:49:37.765\u001b[0m | \u001b[34m\u001b[1mDEBUG   \u001b[0m | \u001b[36m__main__\u001b[0m:\u001b[36m<module>\u001b[0m:\u001b[36m14\u001b[0m - \u001b[34m\u001b[1mcurrent sentence `Before you go heavily metaphysical on me and start objecting that there is no such thing as free will, slow down. This isn’t about that. The Stoics did have a theory of what we today (inaccurately) call free will, and by the lights of that theory they were what modern philosophers call compatibilists`\u001b[0m\n",
      "chunks:  48%|████▊     | 185/389 [2:31:27<3:11:48, 56.41s/it]\u001b[32m2023-10-08 13:50:51.888\u001b[0m | \u001b[34m\u001b[1mDEBUG   \u001b[0m | \u001b[36m__main__\u001b[0m:\u001b[36m<module>\u001b[0m:\u001b[36m14\u001b[0m - \u001b[34m\u001b[1mcurrent sentence `. But what we are talking about here is the commonsensical notion that, ultimately, my decisions are, in fact mine. They may be influenced by externals, such as other people’s opinions, but they are mine to the extent to which I reflected on them and confirmed to myself that that is what I want to assent to`\u001b[0m\n"
     ]
    },
    {
     "name": "stdout",
     "output_type": "stream",
     "text": [
      "No stop tokens found in one of the generated voice clips. This typically means the spoken audio is too long. In some cases, the output will still be good, though. Listen to it and if it is missing words, try breaking up your input text.\n"
     ]
    },
    {
     "name": "stderr",
     "output_type": "stream",
     "text": [
      "chunks:  48%|████▊     | 186/389 [2:32:44<3:31:36, 62.54s/it]\u001b[32m2023-10-08 13:52:08.727\u001b[0m | \u001b[34m\u001b[1mDEBUG   \u001b[0m | \u001b[36m__main__\u001b[0m:\u001b[36m<module>\u001b[0m:\u001b[36m14\u001b[0m - \u001b[34m\u001b[1mcurrent sentence `. Another way to say this is that for the Stoics our freedom is circumscribed to our freedom of thought. And nothing else, because everything else does not depend entirely on us. Accordingly, Epictetus famously says:`\u001b[0m\n",
      "chunks:  48%|████▊     | 187/389 [2:33:39<3:22:49, 60.25s/it]\u001b[32m2023-10-08 13:53:03.615\u001b[0m | \u001b[34m\u001b[1mDEBUG   \u001b[0m | \u001b[36m__main__\u001b[0m:\u001b[36m<module>\u001b[0m:\u001b[36m14\u001b[0m - \u001b[34m\u001b[1mcurrent sentence `“What troubles people is not things, but their judgments about things.” (Enchiridion 5)   Even modern critics of Stoicism often make the mistake to think that the Stoics artificially separated emotions and reason. Nope, that was Plato’s mistake, as Hadot makes very clear:`\u001b[0m\n"
     ]
    },
    {
     "name": "stdout",
     "output_type": "stream",
     "text": [
      "No stop tokens found in one of the generated voice clips. This typically means the spoken audio is too long. In some cases, the output will still be good, though. Listen to it and if it is missing words, try breaking up your input text.\n"
     ]
    },
    {
     "name": "stderr",
     "output_type": "stream",
     "text": [
      "\u001b[32m2023-10-08 13:53:59.719\u001b[0m | \u001b[33m\u001b[1mWARNING \u001b[0m | \u001b[36m__main__\u001b[0m:\u001b[36m<module>\u001b[0m:\u001b[36m24\u001b[0m - \u001b[33m\u001b[1mwrote chapter /media/wassname/SGIronWolf/projects5/tts-ai/use-tts-mjc/out/a_short_guide_to_the_inner_citadel_-_massimo_pigliucci20231008_03-19-11/22.ogg\u001b[0m\n",
      "chunks:  48%|████▊     | 188/389 [2:34:35<3:17:39, 59.00s/it]\u001b[32m2023-10-08 13:53:59.720\u001b[0m | \u001b[34m\u001b[1mDEBUG   \u001b[0m | \u001b[36m__main__\u001b[0m:\u001b[36m<module>\u001b[0m:\u001b[36m14\u001b[0m - \u001b[34m\u001b[1mcurrent sentence `“[For the Stoics] there is no opposition, as the Platonists had held, between one part of the soul which is rational and good in and of itself, and another part which is irrational and bad. Rather, it is reason -- and the ego itself -- which becomes either good or bad, as a function of the judgments which it forms about things.” (p`\u001b[0m\n"
     ]
    },
    {
     "name": "stdout",
     "output_type": "stream",
     "text": [
      "No stop tokens found in one of the generated voice clips. This typically means the spoken audio is too long. In some cases, the output will still be good, though. Listen to it and if it is missing words, try breaking up your input text.\n"
     ]
    },
    {
     "name": "stderr",
     "output_type": "stream",
     "text": [
      "chunks:  49%|████▊     | 189/389 [2:35:55<3:38:02, 65.41s/it]\u001b[32m2023-10-08 13:55:20.086\u001b[0m | \u001b[34m\u001b[1mDEBUG   \u001b[0m | \u001b[36m__main__\u001b[0m:\u001b[36m<module>\u001b[0m:\u001b[36m14\u001b[0m - \u001b[34m\u001b[1mcurrent sentence `. 109)`\u001b[0m\n",
      "chunks:  49%|████▉     | 190/389 [2:36:04<2:40:25, 48.37s/it]\u001b[32m2023-10-08 13:55:28.694\u001b[0m | \u001b[34m\u001b[1mDEBUG   \u001b[0m | \u001b[36m__main__\u001b[0m:\u001b[36m<module>\u001b[0m:\u001b[36m14\u001b[0m - \u001b[34m\u001b[1mcurrent sentence `Another warning not to go metaphysical here: “ego” doesn’t have to acquire the philosophically “thick” meaning of some kind of permanent essence. And we don’t need to consider the (questionable, in my mind) Buddhist notion that the ego (self) is an illusion`\u001b[0m\n",
      "chunks:  49%|████▉     | 191/389 [2:37:02<2:49:29, 51.36s/it]\u001b[32m2023-10-08 13:56:27.035\u001b[0m | \u001b[34m\u001b[1mDEBUG   \u001b[0m | \u001b[36m__main__\u001b[0m:\u001b[36m<module>\u001b[0m:\u001b[36m14\u001b[0m - \u001b[34m\u001b[1mcurrent sentence `. All we are saying here is that there is a dynamic set of mental executive processes that make decisions for the organism. The existence of such set is a scientific fact, not a metaphysically dubious construct.`\u001b[0m\n",
      "chunks:  49%|████▉     | 192/389 [2:37:57<2:52:39, 52.59s/it]\u001b[32m2023-10-08 13:57:22.485\u001b[0m | \u001b[34m\u001b[1mDEBUG   \u001b[0m | \u001b[36m__main__\u001b[0m:\u001b[36m<module>\u001b[0m:\u001b[36m14\u001b[0m - \u001b[34m\u001b[1mcurrent sentence `What is the point of practicing the discipline of assent? Hadot explains:   “Thanks to the discipline of assent, the transformation of our consciousness of the world brings about a transformation of our consciousness of ourselves.” (p. 112)`\u001b[0m\n",
      "chunks:  50%|████▉     | 193/389 [2:38:51<2:52:42, 52.87s/it]\u001b[32m2023-10-08 13:58:16.009\u001b[0m | \u001b[34m\u001b[1mDEBUG   \u001b[0m | \u001b[36m__main__\u001b[0m:\u001b[36m<module>\u001b[0m:\u001b[36m14\u001b[0m - \u001b[34m\u001b[1mcurrent sentence `Hadot spends quite some time examining a rather lengthy passage of the Meditations (XII.3) where Marcus identifies a number of “circles” surrounding the ego, and from which he is training himself to be separate, in order to more efficiently practice the discipline of assent. These circles are:`\u001b[0m\n",
      "chunks:  50%|████▉     | 194/389 [2:39:51<2:58:26, 54.91s/it]\u001b[32m2023-10-08 13:59:15.668\u001b[0m | \u001b[34m\u001b[1mDEBUG   \u001b[0m | \u001b[36m__main__\u001b[0m:\u001b[36m<module>\u001b[0m:\u001b[36m14\u001b[0m - \u001b[34m\u001b[1mcurrent sentence `I. The others. We don’t want to waste our time, Marcus says, in representations concerning other people, unless such representations are somehow helpful to the common good. In other words, what other people do or think or say is their business, unless they are involved in committing an injustice.`\u001b[0m\n",
      "chunks:  50%|█████     | 195/389 [2:40:55<3:07:02, 57.85s/it]\u001b[32m2023-10-08 14:00:20.373\u001b[0m | \u001b[34m\u001b[1mDEBUG   \u001b[0m | \u001b[36m__main__\u001b[0m:\u001b[36m<module>\u001b[0m:\u001b[36m14\u001b[0m - \u001b[34m\u001b[1mcurrent sentence `II. Past and future. They are both outside of our control, so we should not be concerned with them (except in learning from our past mistakes). Focus your energy on the here and now (which is the best way to deal with the future anyway).`\u001b[0m\n",
      "\u001b[32m2023-10-08 14:01:30.342\u001b[0m | \u001b[33m\u001b[1mWARNING \u001b[0m | \u001b[36m__main__\u001b[0m:\u001b[36m<module>\u001b[0m:\u001b[36m24\u001b[0m - \u001b[33m\u001b[1mwrote chapter /media/wassname/SGIronWolf/projects5/tts-ai/use-tts-mjc/out/a_short_guide_to_the_inner_citadel_-_massimo_pigliucci20231008_03-19-11/23.ogg\u001b[0m\n",
      "chunks:  50%|█████     | 196/389 [2:42:05<3:17:46, 61.48s/it]\u001b[32m2023-10-08 14:01:30.343\u001b[0m | \u001b[34m\u001b[1mDEBUG   \u001b[0m | \u001b[36m__main__\u001b[0m:\u001b[36m<module>\u001b[0m:\u001b[36m14\u001b[0m - \u001b[34m\u001b[1mcurrent sentence `III. Involuntary emotions. Things like our automatic reactions to sudden noises, or blushing, or the pain we feel in response to an injury, among many others. They are not under our control, therefore they are nothing to us (meaning nothing we should concern ourselves with, since there is nothing we can do about them).`\u001b[0m\n"
     ]
    },
    {
     "name": "stdout",
     "output_type": "stream",
     "text": [
      "No stop tokens found in one of the generated voice clips. This typically means the spoken audio is too long. In some cases, the output will still be good, though. Listen to it and if it is missing words, try breaking up your input text.\n",
      "No stop tokens found in one of the generated voice clips. This typically means the spoken audio is too long. In some cases, the output will still be good, though. Listen to it and if it is missing words, try breaking up your input text.\n",
      "No stop tokens found in one of the generated voice clips. This typically means the spoken audio is too long. In some cases, the output will still be good, though. Listen to it and if it is missing words, try breaking up your input text.\n",
      "No stop tokens found in one of the generated voice clips. This typically means the spoken audio is too long. In some cases, the output will still be good, though. Listen to it and if it is missing words, try breaking up your input text.\n",
      "No stop tokens found in one of the generated voice clips. This typically means the spoken audio is too long. In some cases, the output will still be good, though. Listen to it and if it is missing words, try breaking up your input text.\n",
      "No stop tokens found in one of the generated voice clips. This typically means the spoken audio is too long. In some cases, the output will still be good, though. Listen to it and if it is missing words, try breaking up your input text.\n",
      "No stop tokens found in one of the generated voice clips. This typically means the spoken audio is too long. In some cases, the output will still be good, though. Listen to it and if it is missing words, try breaking up your input text.\n",
      "No stop tokens found in one of the generated voice clips. This typically means the spoken audio is too long. In some cases, the output will still be good, though. Listen to it and if it is missing words, try breaking up your input text.\n",
      "No stop tokens found in one of the generated voice clips. This typically means the spoken audio is too long. In some cases, the output will still be good, though. Listen to it and if it is missing words, try breaking up your input text.\n",
      "No stop tokens found in one of the generated voice clips. This typically means the spoken audio is too long. In some cases, the output will still be good, though. Listen to it and if it is missing words, try breaking up your input text.\n"
     ]
    },
    {
     "name": "stderr",
     "output_type": "stream",
     "text": [
      "chunks:  51%|█████     | 197/389 [2:43:20<3:28:58, 65.30s/it]\u001b[32m2023-10-08 14:02:44.564\u001b[0m | \u001b[34m\u001b[1mDEBUG   \u001b[0m | \u001b[36m__main__\u001b[0m:\u001b[36m<module>\u001b[0m:\u001b[36m14\u001b[0m - \u001b[34m\u001b[1mcurrent sentence `IV. The course of events. The universe, for the Stoics (and for modern science), unfolds by way of a complex web of cause and effect, of which we are a part, but a tiny and rather uninfluential part. It then makes sense to focus on those parts we can actually influence and let the rest be`\u001b[0m\n"
     ]
    },
    {
     "name": "stdout",
     "output_type": "stream",
     "text": [
      "No stop tokens found in one of the generated voice clips. This typically means the spoken audio is too long. In some cases, the output will still be good, though. Listen to it and if it is missing words, try breaking up your input text.\n"
     ]
    },
    {
     "name": "stderr",
     "output_type": "stream",
     "text": [
      "chunks:  51%|█████     | 198/389 [2:44:34<3:36:14, 67.93s/it]\u001b[32m2023-10-08 14:03:58.611\u001b[0m | \u001b[34m\u001b[1mDEBUG   \u001b[0m | \u001b[36m__main__\u001b[0m:\u001b[36m<module>\u001b[0m:\u001b[36m14\u001b[0m - \u001b[34m\u001b[1mcurrent sentence `. Again, we don’t really have a choice, so what’s the point of complaining about it?`\u001b[0m\n",
      "chunks:  51%|█████     | 199/389 [2:44:49<2:45:03, 52.13s/it]\u001b[32m2023-10-08 14:04:13.867\u001b[0m | \u001b[34m\u001b[1mDEBUG   \u001b[0m | \u001b[36m__main__\u001b[0m:\u001b[36m<module>\u001b[0m:\u001b[36m14\u001b[0m - \u001b[34m\u001b[1mcurrent sentence `The last bit is where a famous passage from Epictetus, which has inspired the title of this site, comes into play:`\u001b[0m\n",
      "chunks:  51%|█████▏    | 200/389 [2:45:12<2:17:09, 43.54s/it]\u001b[32m2023-10-08 14:04:37.375\u001b[0m | \u001b[34m\u001b[1mDEBUG   \u001b[0m | \u001b[36m__main__\u001b[0m:\u001b[36m<module>\u001b[0m:\u001b[36m14\u001b[0m - \u001b[34m\u001b[1mcurrent sentence `“Remember that what you love is mortal, and that nothing of what you love belongs to you in the proper sense of the term. It has been given to you for the time being, not forever or in such a way that it cannot be taken away from you, but, like a fig or a bunch of grapes, at a particular season of the year`\u001b[0m\n",
      "chunks:  52%|█████▏    | 201/389 [2:46:26<2:44:51, 52.61s/it]\u001b[32m2023-10-08 14:05:51.157\u001b[0m | \u001b[34m\u001b[1mDEBUG   \u001b[0m | \u001b[36m__main__\u001b[0m:\u001b[36m<module>\u001b[0m:\u001b[36m14\u001b[0m - \u001b[34m\u001b[1mcurrent sentence `. If you get a craving for them during the winter, then you’re a fool.” (Discourses III.24.84)`\u001b[0m\n",
      "chunks:  52%|█████▏    | 202/389 [2:46:56<2:22:25, 45.70s/it]\u001b[32m2023-10-08 14:06:20.724\u001b[0m | \u001b[34m\u001b[1mDEBUG   \u001b[0m | \u001b[36m__main__\u001b[0m:\u001b[36m<module>\u001b[0m:\u001b[36m14\u001b[0m - \u001b[34m\u001b[1mcurrent sentence `The discipline of assent, remarks Hadot, in an important sense represents logic (one of the three classical fields of study of the Stoic curriculum) as it is lived and put into practice`\u001b[0m\n",
      "chunks:  52%|█████▏    | 203/389 [2:47:36<2:16:48, 44.13s/it]\u001b[32m2023-10-08 14:07:01.202\u001b[0m | \u001b[34m\u001b[1mDEBUG   \u001b[0m | \u001b[36m__main__\u001b[0m:\u001b[36m<module>\u001b[0m:\u001b[36m14\u001b[0m - \u001b[34m\u001b[1mcurrent sentence `. The discipline amounts to a sustained criticism of our own value judgments, something that, frankly, we could all use more of, especially in this era of “fake news.”`\u001b[0m\n",
      "chunks:  52%|█████▏    | 204/389 [2:48:15<2:10:54, 42.46s/it]\u001b[32m2023-10-08 14:07:39.756\u001b[0m | \u001b[34m\u001b[1mDEBUG   \u001b[0m | \u001b[36m__main__\u001b[0m:\u001b[36m<module>\u001b[0m:\u001b[36m14\u001b[0m - \u001b[34m\u001b[1mcurrent sentence `As Hadot correctly points out, when Marcus says that everything is a matter of value judgment (Meditations IV.3) he is not endorsing epistemic relativism, subjectivism, or skepticism`\u001b[0m\n",
      "\u001b[32m2023-10-08 14:08:27.146\u001b[0m | \u001b[33m\u001b[1mWARNING \u001b[0m | \u001b[36m__main__\u001b[0m:\u001b[36m<module>\u001b[0m:\u001b[36m24\u001b[0m - \u001b[33m\u001b[1mwrote chapter /media/wassname/SGIronWolf/projects5/tts-ai/use-tts-mjc/out/a_short_guide_to_the_inner_citadel_-_massimo_pigliucci20231008_03-19-11/24.ogg\u001b[0m\n",
      "chunks:  53%|█████▎    | 205/389 [2:49:02<2:14:44, 43.94s/it]\u001b[32m2023-10-08 14:08:27.147\u001b[0m | \u001b[34m\u001b[1mDEBUG   \u001b[0m | \u001b[36m__main__\u001b[0m:\u001b[36m<module>\u001b[0m:\u001b[36m14\u001b[0m - \u001b[34m\u001b[1mcurrent sentence `. What he is saying is that how we act in the world depends on our own judgment, a version of the famous Socratic notion that virtue is a kind of knowledge, and that people commit evil only out of a mistaken understanding (judgment) of what is virtuous. Or as Epictetus puts it:`\u001b[0m\n",
      "chunks:  53%|█████▎    | 206/389 [2:50:19<2:43:49, 53.71s/it]\u001b[32m2023-10-08 14:09:43.665\u001b[0m | \u001b[34m\u001b[1mDEBUG   \u001b[0m | \u001b[36m__main__\u001b[0m:\u001b[36m<module>\u001b[0m:\u001b[36m14\u001b[0m - \u001b[34m\u001b[1mcurrent sentence `“All errors imply a contradiction, for since he who errs does not wish to err, but to succeed, it is obvious that he is not doing what he wishes.” (Discourses II.26)`\u001b[0m\n",
      "chunks:  53%|█████▎    | 207/389 [2:51:13<2:43:08, 53.78s/it]\u001b[32m2023-10-08 14:10:37.617\u001b[0m | \u001b[34m\u001b[1mDEBUG   \u001b[0m | \u001b[36m__main__\u001b[0m:\u001b[36m<module>\u001b[0m:\u001b[36m14\u001b[0m - \u001b[34m\u001b[1mcurrent sentence `You can see, then, why developing a good faculty of judgment — which is the goal of the discipline of assent — is crucial to a life well lived.`\u001b[0m\n",
      "chunks:  53%|█████▎    | 208/389 [2:51:49<2:26:28, 48.55s/it]\u001b[32m2023-10-08 14:11:13.965\u001b[0m | \u001b[34m\u001b[1mDEBUG   \u001b[0m | \u001b[36m__main__\u001b[0m:\u001b[36m<module>\u001b[0m:\u001b[36m14\u001b[0m - \u001b[34m\u001b[1mcurrent sentence `7-The discipline of desire, or amor fati`\u001b[0m\n",
      "chunks:  54%|█████▎    | 209/389 [2:52:03<1:54:27, 38.15s/it]\u001b[32m2023-10-08 14:11:27.853\u001b[0m | \u001b[34m\u001b[1mDEBUG   \u001b[0m | \u001b[36m__main__\u001b[0m:\u001b[36m<module>\u001b[0m:\u001b[36m14\u001b[0m - \u001b[34m\u001b[1mcurrent sentence `Right at the beginning of the seventh chapter of The Inner citadel Hadot provides a good summary of what the discipline of desire is all about: what we feel vs what we should feel, which will struck non-Stoics as bizarre. What do you mean what I should feel?? If by “feeling” we mean what the Stoics called proto-emotions, i.e`\u001b[0m\n"
     ]
    },
    {
     "name": "stdout",
     "output_type": "stream",
     "text": [
      "No stop tokens found in one of the generated voice clips. This typically means the spoken audio is too long. In some cases, the output will still be good, though. Listen to it and if it is missing words, try breaking up your input text.\n",
      "No stop tokens found in one of the generated voice clips. This typically means the spoken audio is too long. In some cases, the output will still be good, though. Listen to it and if it is missing words, try breaking up your input text.\n",
      "No stop tokens found in one of the generated voice clips. This typically means the spoken audio is too long. In some cases, the output will still be good, though. Listen to it and if it is missing words, try breaking up your input text.\n"
     ]
    },
    {
     "name": "stderr",
     "output_type": "stream",
     "text": [
      "chunks:  54%|█████▍    | 210/389 [2:53:34<2:41:43, 54.21s/it]\u001b[32m2023-10-08 14:12:59.533\u001b[0m | \u001b[34m\u001b[1mDEBUG   \u001b[0m | \u001b[36m__main__\u001b[0m:\u001b[36m<module>\u001b[0m:\u001b[36m14\u001b[0m - \u001b[34m\u001b[1mcurrent sentence `., automatic, instinctive reactions to events, then they are what they are, and they are not going to change. But the focus here is on the “passions,” in Stoic lingo, i.e., on the fully formed emotions, which have a cognitive component, as confirmed by modern psychological research`\u001b[0m\n",
      "chunks:  54%|█████▍    | 211/389 [2:54:51<3:00:26, 60.82s/it]\u001b[32m2023-10-08 14:14:15.779\u001b[0m | \u001b[34m\u001b[1mDEBUG   \u001b[0m | \u001b[36m__main__\u001b[0m:\u001b[36m<module>\u001b[0m:\u001b[36m14\u001b[0m - \u001b[34m\u001b[1mcurrent sentence `. And if they have a cognitive component, then we can change them by altering that component. It is the same principle as cognitive behavioral therapy: change the way you think and that will change (over time, with repetition and effort) the way you feel.`\u001b[0m\n",
      "\u001b[32m2023-10-08 14:15:15.293\u001b[0m | \u001b[33m\u001b[1mWARNING \u001b[0m | \u001b[36m__main__\u001b[0m:\u001b[36m<module>\u001b[0m:\u001b[36m24\u001b[0m - \u001b[33m\u001b[1mwrote chapter /media/wassname/SGIronWolf/projects5/tts-ai/use-tts-mjc/out/a_short_guide_to_the_inner_citadel_-_massimo_pigliucci20231008_03-19-11/25.ogg\u001b[0m\n",
      "chunks:  54%|█████▍    | 212/389 [2:55:50<2:58:16, 60.43s/it]\u001b[32m2023-10-08 14:15:15.295\u001b[0m | \u001b[34m\u001b[1mDEBUG   \u001b[0m | \u001b[36m__main__\u001b[0m:\u001b[36m<module>\u001b[0m:\u001b[36m14\u001b[0m - \u001b[34m\u001b[1mcurrent sentence `Hadot rightly points out that the practice of all three disciplines, included that of desire, is focused on the present, as for the Stoic both the past and the future are outside of our sphere of action. We can only act in the here and now, so that’s where we should concentrate our efforts. As Marcus puts it:`\u001b[0m\n",
      "chunks:  55%|█████▍    | 213/389 [2:57:10<3:14:41, 66.37s/it]\u001b[32m2023-10-08 14:16:35.525\u001b[0m | \u001b[34m\u001b[1mDEBUG   \u001b[0m | \u001b[36m__main__\u001b[0m:\u001b[36m<module>\u001b[0m:\u001b[36m14\u001b[0m - \u001b[34m\u001b[1mcurrent sentence `“Don’t try to go over in your mind all the painful hardships, in all their varying intensity and number, which might possibly happen`\u001b[0m\n",
      "chunks:  55%|█████▌    | 214/389 [2:57:36<2:38:03, 54.19s/it]\u001b[32m2023-10-08 14:17:01.300\u001b[0m | \u001b[34m\u001b[1mDEBUG   \u001b[0m | \u001b[36m__main__\u001b[0m:\u001b[36m<module>\u001b[0m:\u001b[36m14\u001b[0m - \u001b[34m\u001b[1mcurrent sentence `. Rather, when each of them occurs, ask yourself: ‘What is there about this situation that is unbearable and intolerable?’ … This present will seem smaller to you if you circumscribe it by defining and isolating it, and if you make your reflective faculty ashamed of the fact that it cannot put up with such a small, isolated matter`\u001b[0m\n",
      "chunks:  55%|█████▌    | 215/389 [2:58:52<2:55:36, 60.56s/it]\u001b[32m2023-10-08 14:18:16.710\u001b[0m | \u001b[34m\u001b[1mDEBUG   \u001b[0m | \u001b[36m__main__\u001b[0m:\u001b[36m<module>\u001b[0m:\u001b[36m14\u001b[0m - \u001b[34m\u001b[1mcurrent sentence `.” (Meditations, VIII.36)`\u001b[0m\n",
      "chunks:  56%|█████▌    | 216/389 [2:59:05<2:13:30, 46.30s/it]\u001b[32m2023-10-08 14:18:29.750\u001b[0m | \u001b[34m\u001b[1mDEBUG   \u001b[0m | \u001b[36m__main__\u001b[0m:\u001b[36m<module>\u001b[0m:\u001b[36m14\u001b[0m - \u001b[34m\u001b[1mcurrent sentence `Perceptively, Hadot adds that most people are not truly alive precisely because they live constantly outside of themselves, not in the moment, but rather regretting their past or worrying about their future.`\u001b[0m\n",
      "chunks:  56%|█████▌    | 217/389 [2:59:58<2:18:53, 48.45s/it]\u001b[32m2023-10-08 14:19:23.206\u001b[0m | \u001b[34m\u001b[1mDEBUG   \u001b[0m | \u001b[36m__main__\u001b[0m:\u001b[36m<module>\u001b[0m:\u001b[36m14\u001b[0m - \u001b[34m\u001b[1mcurrent sentence `That said, Hadot also reminds us that the Stoics were determinists, so the past, the present, and the future are inextricably interconnected by a web of cause and effect`\u001b[0m\n",
      "chunks:  56%|█████▌    | 218/389 [3:00:34<2:07:13, 44.64s/it]\u001b[32m2023-10-08 14:19:58.952\u001b[0m | \u001b[34m\u001b[1mDEBUG   \u001b[0m | \u001b[36m__main__\u001b[0m:\u001b[36m<module>\u001b[0m:\u001b[36m14\u001b[0m - \u001b[34m\u001b[1mcurrent sentence `. Chrysippus, the second head of the Stoa, commented that only the present (unlike the past and the future) “belongs” to us, in the specific sense that we are part of the local web of cause-effect, with the import of our own actions not extending back into the past or far into the distant future.`\u001b[0m\n",
      "chunks:  56%|█████▋    | 219/389 [3:01:38<2:23:19, 50.59s/it]\u001b[32m2023-10-08 14:21:03.418\u001b[0m | \u001b[34m\u001b[1mDEBUG   \u001b[0m | \u001b[36m__main__\u001b[0m:\u001b[36m<module>\u001b[0m:\u001b[36m14\u001b[0m - \u001b[34m\u001b[1mcurrent sentence `Going to the core of the discipline of desire and aversion, Epictetus explicitly says that the point is to train ourselves to desire what is under our control and good for us (i.e., good judgments) and to become averse to what is under our control and bad for us (i.e., bad judgments)`\u001b[0m\n"
     ]
    },
    {
     "name": "stdout",
     "output_type": "stream",
     "text": [
      "No stop tokens found in one of the generated voice clips. This typically means the spoken audio is too long. In some cases, the output will still be good, though. Listen to it and if it is missing words, try breaking up your input text.\n",
      "No stop tokens found in one of the generated voice clips. This typically means the spoken audio is too long. In some cases, the output will still be good, though. Listen to it and if it is missing words, try breaking up your input text.\n",
      "No stop tokens found in one of the generated voice clips. This typically means the spoken audio is too long. In some cases, the output will still be good, though. Listen to it and if it is missing words, try breaking up your input text.\n"
     ]
    },
    {
     "name": "stderr",
     "output_type": "stream",
     "text": [
      "\u001b[32m2023-10-08 14:22:20.043\u001b[0m | \u001b[33m\u001b[1mWARNING \u001b[0m | \u001b[36m__main__\u001b[0m:\u001b[36m<module>\u001b[0m:\u001b[36m24\u001b[0m - \u001b[33m\u001b[1mwrote chapter /media/wassname/SGIronWolf/projects5/tts-ai/use-tts-mjc/out/a_short_guide_to_the_inner_citadel_-_massimo_pigliucci20231008_03-19-11/26.ogg\u001b[0m\n",
      "chunks:  57%|█████▋    | 220/389 [3:02:55<2:44:29, 58.40s/it]\u001b[32m2023-10-08 14:22:20.044\u001b[0m | \u001b[34m\u001b[1mDEBUG   \u001b[0m | \u001b[36m__main__\u001b[0m:\u001b[36m<module>\u001b[0m:\u001b[36m14\u001b[0m - \u001b[34m\u001b[1mcurrent sentence `. The mistake most of us normally make is to desire or be averse to things we don’t actually control (Yes, a new car! No, a disease!). Marcus puts this squarely in the context of Stoic determinism:`\u001b[0m\n",
      "chunks:  57%|█████▋    | 221/389 [3:03:50<2:40:16, 57.24s/it]\u001b[32m2023-10-08 14:23:14.589\u001b[0m | \u001b[34m\u001b[1mDEBUG   \u001b[0m | \u001b[36m__main__\u001b[0m:\u001b[36m<module>\u001b[0m:\u001b[36m14\u001b[0m - \u001b[34m\u001b[1mcurrent sentence `“So something has happened to you? Good! Every event that you encounter has been linked to you by Destiny, and has, since the beginning, been woven together with you from the All.” (Meditations, IV.26)`\u001b[0m\n",
      "chunks:  57%|█████▋    | 222/389 [3:05:00<2:50:03, 61.10s/it]\u001b[32m2023-10-08 14:24:24.687\u001b[0m | \u001b[34m\u001b[1mDEBUG   \u001b[0m | \u001b[36m__main__\u001b[0m:\u001b[36m<module>\u001b[0m:\u001b[36m14\u001b[0m - \u001b[34m\u001b[1mcurrent sentence `The “All,” the universal web of cause-effect, has been working since the beginning of the universe. Your choice — such as it is — is not to reject it, but rather to play your role within it. You are, after all, very much part and parcel of that very web`\u001b[0m\n",
      "chunks:  57%|█████▋    | 223/389 [3:06:11<2:57:51, 64.29s/it]\u001b[32m2023-10-08 14:25:36.415\u001b[0m | \u001b[34m\u001b[1mDEBUG   \u001b[0m | \u001b[36m__main__\u001b[0m:\u001b[36m<module>\u001b[0m:\u001b[36m14\u001b[0m - \u001b[34m\u001b[1mcurrent sentence `. Most importantly, for the Stoic, it all hinges on how you deal with whatever is happening to you, because that’s where you have local access to the web of cause-effect. This is why, Hadot suggests, the discipline of assent is closely linked with the study of Stoic “physics,” i.e., with our understanding of how the world works`\u001b[0m\n"
     ]
    },
    {
     "name": "stdout",
     "output_type": "stream",
     "text": [
      "No stop tokens found in one of the generated voice clips. This typically means the spoken audio is too long. In some cases, the output will still be good, though. Listen to it and if it is missing words, try breaking up your input text.\n"
     ]
    },
    {
     "name": "stderr",
     "output_type": "stream",
     "text": [
      "chunks:  58%|█████▊    | 224/389 [3:07:25<3:04:31, 67.10s/it]\u001b[32m2023-10-08 14:26:50.082\u001b[0m | \u001b[34m\u001b[1mDEBUG   \u001b[0m | \u001b[36m__main__\u001b[0m:\u001b[36m<module>\u001b[0m:\u001b[36m14\u001b[0m - \u001b[34m\u001b[1mcurrent sentence `. If we understand that we live in a deterministic cosmos regulated by universal laws, then we also understand what the proper attitude should be toward events. That’s also why Epictetus says:`\u001b[0m\n",
      "chunks:  58%|█████▊    | 225/389 [3:08:09<2:44:33, 60.20s/it]\u001b[32m2023-10-08 14:27:34.184\u001b[0m | \u001b[34m\u001b[1mDEBUG   \u001b[0m | \u001b[36m__main__\u001b[0m:\u001b[36m<module>\u001b[0m:\u001b[36m14\u001b[0m - \u001b[34m\u001b[1mcurrent sentence `“Do not seek for things to happen the way you want them to; rather, wish that what happens happen the way it happens: then you will be happy.” (Enchiridion, 8)`\u001b[0m\n",
      "chunks:  58%|█████▊    | 226/389 [3:08:43<2:21:49, 52.20s/it]\u001b[32m2023-10-08 14:28:07.723\u001b[0m | \u001b[34m\u001b[1mDEBUG   \u001b[0m | \u001b[36m__main__\u001b[0m:\u001b[36m<module>\u001b[0m:\u001b[36m14\u001b[0m - \u001b[34m\u001b[1mcurrent sentence `You can see why this sounds very much like Nietzsche’s famous concept of “amor fati,” love your fate. As Hadot correctly points out, for the ancient Stoics this really implied “loving” once destiny, because said destiny was in accordance with the Logos, the universal cosmic Providence`\u001b[0m\n",
      "\u001b[32m2023-10-08 14:29:07.133\u001b[0m | \u001b[33m\u001b[1mWARNING \u001b[0m | \u001b[36m__main__\u001b[0m:\u001b[36m<module>\u001b[0m:\u001b[36m24\u001b[0m - \u001b[33m\u001b[1mwrote chapter /media/wassname/SGIronWolf/projects5/tts-ai/use-tts-mjc/out/a_short_guide_to_the_inner_citadel_-_massimo_pigliucci20231008_03-19-11/27.ogg\u001b[0m\n",
      "chunks:  58%|█████▊    | 227/389 [3:09:42<2:26:47, 54.37s/it]\u001b[32m2023-10-08 14:29:07.135\u001b[0m | \u001b[34m\u001b[1mDEBUG   \u001b[0m | \u001b[36m__main__\u001b[0m:\u001b[36m<module>\u001b[0m:\u001b[36m14\u001b[0m - \u001b[34m\u001b[1mcurrent sentence `. Even though such Providence was nothing like the benevolent Christian variety, the notion still was that the universe does what it does for its own good. And since we are bits and pieces of that universe, in a broad sense it is for our own good as well`\u001b[0m\n",
      "chunks:  59%|█████▊    | 228/389 [3:10:52<2:38:26, 59.05s/it]\u001b[32m2023-10-08 14:30:17.108\u001b[0m | \u001b[34m\u001b[1mDEBUG   \u001b[0m | \u001b[36m__main__\u001b[0m:\u001b[36m<module>\u001b[0m:\u001b[36m14\u001b[0m - \u001b[34m\u001b[1mcurrent sentence `. Modern Stoics, of course, don’t think that the cosmos is a living organism doing its thing. We accept the scientific worldview and consider the universe to be purposeless and morally neutral`\u001b[0m\n",
      "chunks:  59%|█████▉    | 229/389 [3:11:39<2:27:29, 55.31s/it]\u001b[32m2023-10-08 14:31:03.687\u001b[0m | \u001b[34m\u001b[1mDEBUG   \u001b[0m | \u001b[36m__main__\u001b[0m:\u001b[36m<module>\u001b[0m:\u001b[36m14\u001b[0m - \u001b[34m\u001b[1mcurrent sentence `. But it is still governed by cause-effect, and it still follows that our only option is to accept the way it works and do our part in the best way we can. “Happiness,” then, becomes the knowledge that we are living a life worth living, because we are acting our part, however local and small, with integrity.`\u001b[0m\n",
      "chunks:  59%|█████▉    | 230/389 [3:13:00<2:47:11, 63.09s/it]\u001b[32m2023-10-08 14:32:24.931\u001b[0m | \u001b[34m\u001b[1mDEBUG   \u001b[0m | \u001b[36m__main__\u001b[0m:\u001b[36m<module>\u001b[0m:\u001b[36m14\u001b[0m - \u001b[34m\u001b[1mcurrent sentence `Here is a nice way, building on Hadot, to distinguish the ancient Stoic, Nietzschean, and modern Stoic takes on amor fati`\u001b[0m\n",
      "chunks:  59%|█████▉    | 231/389 [3:13:28<2:18:19, 52.53s/it]\u001b[32m2023-10-08 14:32:52.813\u001b[0m | \u001b[34m\u001b[1mDEBUG   \u001b[0m | \u001b[36m__main__\u001b[0m:\u001b[36m<module>\u001b[0m:\u001b[36m14\u001b[0m - \u001b[34m\u001b[1mcurrent sentence `: for the ancient Stoics, it was a matter of responding to a rationally ordered universe; for Nietzsche it was a question of responding to an irrational and blindly cruel world; for the modern Stoic it is a reasonable reaction to an amoral universe, neutral toward human concerns`\u001b[0m\n"
     ]
    },
    {
     "name": "stdout",
     "output_type": "stream",
     "text": [
      "No stop tokens found in one of the generated voice clips. This typically means the spoken audio is too long. In some cases, the output will still be good, though. Listen to it and if it is missing words, try breaking up your input text.\n"
     ]
    },
    {
     "name": "stderr",
     "output_type": "stream",
     "text": [
      "chunks:  60%|█████▉    | 232/389 [3:14:34<2:27:52, 56.51s/it]\u001b[32m2023-10-08 14:33:58.617\u001b[0m | \u001b[34m\u001b[1mDEBUG   \u001b[0m | \u001b[36m__main__\u001b[0m:\u001b[36m<module>\u001b[0m:\u001b[36m12\u001b[0m - \u001b[34m\u001b[1mSkipping text without words or numbers `.`\u001b[0m\n",
      "\u001b[32m2023-10-08 14:33:58.618\u001b[0m | \u001b[34m\u001b[1mDEBUG   \u001b[0m | \u001b[36m__main__\u001b[0m:\u001b[36m<module>\u001b[0m:\u001b[36m14\u001b[0m - \u001b[34m\u001b[1mcurrent sentence `This discussion is closely related to the famous “gods or atoms” moments that recur in the Meditations, where Marcus — who is definitely on board with Stoic metaphysics (i.e., with the “gods” option) — does nonetheless entertain the possibility that the Epicureans are correct (i.e`\u001b[0m\n",
      "chunks:  60%|██████    | 234/389 [3:15:42<1:59:18, 46.18s/it]\u001b[32m2023-10-08 14:35:06.886\u001b[0m | \u001b[34m\u001b[1mDEBUG   \u001b[0m | \u001b[36m__main__\u001b[0m:\u001b[36m<module>\u001b[0m:\u001b[36m14\u001b[0m - \u001b[34m\u001b[1mcurrent sentence `., the “atoms” alternative), and concludes that ultimately he still has to behave properly (i.e., virtuously) toward other human beings. I will not go into details here, except to note Hadot’s own comment:`\u001b[0m\n",
      "\u001b[32m2023-10-08 14:36:10.416\u001b[0m | \u001b[33m\u001b[1mWARNING \u001b[0m | \u001b[36m__main__\u001b[0m:\u001b[36m<module>\u001b[0m:\u001b[36m24\u001b[0m - \u001b[33m\u001b[1mwrote chapter /media/wassname/SGIronWolf/projects5/tts-ai/use-tts-mjc/out/a_short_guide_to_the_inner_citadel_-_massimo_pigliucci20231008_03-19-11/28.ogg\u001b[0m\n",
      "chunks:  60%|██████    | 235/389 [3:16:45<2:09:34, 50.48s/it]\u001b[32m2023-10-08 14:36:10.418\u001b[0m | \u001b[34m\u001b[1mDEBUG   \u001b[0m | \u001b[36m__main__\u001b[0m:\u001b[36m<module>\u001b[0m:\u001b[36m14\u001b[0m - \u001b[34m\u001b[1mcurrent sentence `“Our choice of a model of the universe thus changes nothing with regard to the fundamental Stoic disposition of consent to events, which is nothing other than the discipline of desire.” (p. 149)`\u001b[0m\n",
      "chunks:  61%|██████    | 236/389 [3:17:32<2:06:23, 49.57s/it]\u001b[32m2023-10-08 14:36:57.388\u001b[0m | \u001b[34m\u001b[1mDEBUG   \u001b[0m | \u001b[36m__main__\u001b[0m:\u001b[36m<module>\u001b[0m:\u001b[36m14\u001b[0m - \u001b[34m\u001b[1mcurrent sentence `But hold on a sec! Don’t we always say that Stoic “physics” informs Stoic ethics? Is Hadot here not contradicting this basic notion? Should we therefore focus on the ethics and forget the other areas of inquiry, or at least physics? Not at all`\u001b[0m\n",
      "chunks:  61%|██████    | 237/389 [3:18:27<2:09:07, 50.97s/it]\u001b[32m2023-10-08 14:37:52.126\u001b[0m | \u001b[34m\u001b[1mDEBUG   \u001b[0m | \u001b[36m__main__\u001b[0m:\u001b[36m<module>\u001b[0m:\u001b[36m14\u001b[0m - \u001b[34m\u001b[1mcurrent sentence `. As I’ve argued elsewhere, Stoic ethics is under-determined by metaphysical positions, meaning that more than one metaphysical account is compatible with it, but not just any`\u001b[0m\n",
      "chunks:  61%|██████    | 238/389 [3:19:04<1:58:32, 47.10s/it]\u001b[32m2023-10-08 14:38:29.278\u001b[0m | \u001b[34m\u001b[1mDEBUG   \u001b[0m | \u001b[36m__main__\u001b[0m:\u001b[36m<module>\u001b[0m:\u001b[36m14\u001b[0m - \u001b[34m\u001b[1mcurrent sentence `. What we still retain in modern Stoicism are the ideas that the universe is made of matter, and that such matter interacts by cause-effect in a way specified by the laws of physics. In this respect, Stoic metaphysics is not distinguishable from Epicurean metaphysics, as much as the two are otherwise distinct.`\u001b[0m\n",
      "chunks:  61%|██████▏   | 239/389 [3:20:14<2:14:14, 53.70s/it]\u001b[32m2023-10-08 14:39:39.463\u001b[0m | \u001b[34m\u001b[1mDEBUG   \u001b[0m | \u001b[36m__main__\u001b[0m:\u001b[36m<module>\u001b[0m:\u001b[36m14\u001b[0m - \u001b[34m\u001b[1mcurrent sentence `An interesting aspect of Hadot’s discussion of the discipline of desire is his tackling of the question of whether Marcus was a bit of a pessimist, perhaps even a misanthrope. This (superficial, as it turns out) reading of the Meditations is encouraged by passages like this:`\u001b[0m\n",
      "chunks:  62%|██████▏   | 240/389 [3:21:13<2:16:58, 55.16s/it]\u001b[32m2023-10-08 14:40:38.202\u001b[0m | \u001b[34m\u001b[1mDEBUG   \u001b[0m | \u001b[36m__main__\u001b[0m:\u001b[36m<module>\u001b[0m:\u001b[36m14\u001b[0m - \u001b[34m\u001b[1mcurrent sentence `“Everything by which people set so much store in life is emptiness, putrefaction, pettiness; little dogs nipping at one another; little children who laugh as they fight, and then suddenly burst into tears.” (V.33.2)   Or this one:`\u001b[0m\n"
     ]
    },
    {
     "name": "stdout",
     "output_type": "stream",
     "text": [
      "No stop tokens found in one of the generated voice clips. This typically means the spoken audio is too long. In some cases, the output will still be good, though. Listen to it and if it is missing words, try breaking up your input text.\n",
      "No stop tokens found in one of the generated voice clips. This typically means the spoken audio is too long. In some cases, the output will still be good, though. Listen to it and if it is missing words, try breaking up your input text.\n"
     ]
    },
    {
     "name": "stderr",
     "output_type": "stream",
     "text": [
      "chunks:  62%|██████▏   | 241/389 [3:22:35<2:35:33, 63.07s/it]\u001b[32m2023-10-08 14:42:00.378\u001b[0m | \u001b[34m\u001b[1mDEBUG   \u001b[0m | \u001b[36m__main__\u001b[0m:\u001b[36m<module>\u001b[0m:\u001b[36m14\u001b[0m - \u001b[34m\u001b[1mcurrent sentence `“Imagine them as they are when they are eating, when they are sleeping, when they are making love, or going to the bathroom. Then imagine them when they are putting on airs; when they make those haughty gestures, or when they get angry and upbraid people with such a superior air.” (Meditations, IX.9)`\u001b[0m\n",
      "\u001b[32m2023-10-08 14:43:05.387\u001b[0m | \u001b[33m\u001b[1mWARNING \u001b[0m | \u001b[36m__main__\u001b[0m:\u001b[36m<module>\u001b[0m:\u001b[36m24\u001b[0m - \u001b[33m\u001b[1mwrote chapter /media/wassname/SGIronWolf/projects5/tts-ai/use-tts-mjc/out/a_short_guide_to_the_inner_citadel_-_massimo_pigliucci20231008_03-19-11/29.ogg\u001b[0m\n",
      "chunks:  62%|██████▏   | 242/389 [3:23:40<2:35:55, 63.64s/it]\u001b[32m2023-10-08 14:43:05.388\u001b[0m | \u001b[34m\u001b[1mDEBUG   \u001b[0m | \u001b[36m__main__\u001b[0m:\u001b[36m<module>\u001b[0m:\u001b[36m14\u001b[0m - \u001b[34m\u001b[1mcurrent sentence `In reality, here and in several other passages, Marcus is simply deploying the standard Stoic technique of adopting a broader, more neutral perspective, forcing himself to redescribe things in a more objective, less emotional way`\u001b[0m\n",
      "chunks:  62%|██████▏   | 243/389 [3:24:30<2:24:29, 59.38s/it]\u001b[32m2023-10-08 14:43:54.660\u001b[0m | \u001b[34m\u001b[1mDEBUG   \u001b[0m | \u001b[36m__main__\u001b[0m:\u001b[36m<module>\u001b[0m:\u001b[36m14\u001b[0m - \u001b[34m\u001b[1mcurrent sentence `. Why? So that he can better deal with people and events that would otherwise be upsetting precisely because we look at them too closely, or in a manner that is too emotionally involved. Another reason to apply this strategy is explained in clear by Seneca:`\u001b[0m\n",
      "chunks:  63%|██████▎   | 244/389 [3:25:27<2:21:44, 58.65s/it]\u001b[32m2023-10-08 14:44:51.592\u001b[0m | \u001b[34m\u001b[1mDEBUG   \u001b[0m | \u001b[36m__main__\u001b[0m:\u001b[36m<module>\u001b[0m:\u001b[36m14\u001b[0m - \u001b[34m\u001b[1mcurrent sentence `“It is no less ridiculous to be shocked by these things than it is to complain because you get splashed in the baths, or shoved around in a public place, or that you get dirty in muddy places. What happens in life is exactly like what happens in the baths, in a crowd or on a muddy road`\u001b[0m\n",
      "chunks:  63%|██████▎   | 245/389 [3:26:25<2:20:17, 58.46s/it]\u001b[32m2023-10-08 14:45:49.587\u001b[0m | \u001b[34m\u001b[1mDEBUG   \u001b[0m | \u001b[36m__main__\u001b[0m:\u001b[36m<module>\u001b[0m:\u001b[36m14\u001b[0m - \u001b[34m\u001b[1mcurrent sentence `. … Life is not made for delicate souls.” (Letters to Lucilius, 107.2)`\u001b[0m\n",
      "chunks:  63%|██████▎   | 246/389 [3:26:48<1:54:26, 48.02s/it]\u001b[32m2023-10-08 14:46:13.103\u001b[0m | \u001b[34m\u001b[1mDEBUG   \u001b[0m | \u001b[36m__main__\u001b[0m:\u001b[36m<module>\u001b[0m:\u001b[36m14\u001b[0m - \u001b[34m\u001b[1mcurrent sentence `None of the above means that we should adopt a quietist attitude and just let life happen to us`\u001b[0m\n",
      "chunks:  63%|██████▎   | 247/389 [3:27:08<1:33:36, 39.55s/it]\u001b[32m2023-10-08 14:46:32.817\u001b[0m | \u001b[34m\u001b[1mDEBUG   \u001b[0m | \u001b[36m__main__\u001b[0m:\u001b[36m<module>\u001b[0m:\u001b[36m14\u001b[0m - \u001b[34m\u001b[1mcurrent sentence `. It only means that we should strive to tackle life’s problems with reason, rather than being overwhelmed by irrational emotional attachments, and that we should realize that if we decide to walk on mud we are going, inevitably, to get dirty`\u001b[0m\n",
      "chunks:  64%|██████▍   | 248/389 [3:28:00<1:42:04, 43.44s/it]\u001b[32m2023-10-08 14:47:25.344\u001b[0m | \u001b[34m\u001b[1mDEBUG   \u001b[0m | \u001b[36m__main__\u001b[0m:\u001b[36m<module>\u001b[0m:\u001b[36m14\u001b[0m - \u001b[34m\u001b[1mcurrent sentence `. That said, Marcus finds unexpected beauty in life precisely once he has accepted that the world works in certain ways, and not in the fashion Marcus himself would want:`\u001b[0m\n",
      "chunks:  64%|██████▍   | 249/389 [3:28:44<1:41:25, 43.47s/it]\u001b[32m2023-10-08 14:48:08.883\u001b[0m | \u001b[34m\u001b[1mDEBUG   \u001b[0m | \u001b[36m__main__\u001b[0m:\u001b[36m<module>\u001b[0m:\u001b[36m14\u001b[0m - \u001b[34m\u001b[1mcurrent sentence `“When bread is baked, some parts of it develop cracks in their surface. Now, it is precisely these small openings which, although they seem somehow to have escaped the intentions which presided over the making of the brad, somehow please us and stimulate our appetite in a quite particular way.” (Meditations, III.2)`\u001b[0m\n"
     ]
    },
    {
     "name": "stdout",
     "output_type": "stream",
     "text": [
      "No stop tokens found in one of the generated voice clips. This typically means the spoken audio is too long. In some cases, the output will still be good, though. Listen to it and if it is missing words, try breaking up your input text.\n"
     ]
    },
    {
     "name": "stderr",
     "output_type": "stream",
     "text": [
      "\u001b[32m2023-10-08 14:49:24.117\u001b[0m | \u001b[33m\u001b[1mWARNING \u001b[0m | \u001b[36m__main__\u001b[0m:\u001b[36m<module>\u001b[0m:\u001b[36m24\u001b[0m - \u001b[33m\u001b[1mwrote chapter /media/wassname/SGIronWolf/projects5/tts-ai/use-tts-mjc/out/a_short_guide_to_the_inner_citadel_-_massimo_pigliucci20231008_03-19-11/30.ogg\u001b[0m\n",
      "chunks:  64%|██████▍   | 250/389 [3:29:59<2:02:45, 52.99s/it]\u001b[32m2023-10-08 14:49:24.119\u001b[0m | \u001b[34m\u001b[1mDEBUG   \u001b[0m | \u001b[36m__main__\u001b[0m:\u001b[36m<module>\u001b[0m:\u001b[36m14\u001b[0m - \u001b[34m\u001b[1mcurrent sentence `It is the trained mind of the philosopher`\u001b[0m\n",
      "chunks:  65%|██████▍   | 251/389 [3:30:11<1:33:17, 40.56s/it]\u001b[32m2023-10-08 14:49:35.650\u001b[0m | \u001b[34m\u001b[1mDEBUG   \u001b[0m | \u001b[36m__main__\u001b[0m:\u001b[36m<module>\u001b[0m:\u001b[36m14\u001b[0m - \u001b[34m\u001b[1mcurrent sentence `(here, of course, in the broad sense of somehow who studies and practices philosophy, not in the technical sense of a professional academic philosopher) that can accept without surprise or complaint the mud on the road he travels, and at the same time appreciate the unexpected beauty of baked bread`\u001b[0m\n",
      "chunks:  65%|██████▍   | 252/389 [3:31:13<1:47:38, 47.14s/it]\u001b[32m2023-10-08 14:50:38.166\u001b[0m | \u001b[34m\u001b[1mDEBUG   \u001b[0m | \u001b[36m__main__\u001b[0m:\u001b[36m<module>\u001b[0m:\u001b[36m12\u001b[0m - \u001b[34m\u001b[1mSkipping text without words or numbers `.`\u001b[0m\n",
      "\u001b[32m2023-10-08 14:50:38.166\u001b[0m | \u001b[34m\u001b[1mDEBUG   \u001b[0m | \u001b[36m__main__\u001b[0m:\u001b[36m<module>\u001b[0m:\u001b[36m14\u001b[0m - \u001b[34m\u001b[1mcurrent sentence `And there is another thing Marcus is training himself to do: to look at everything as impermanent, in the Heraclitean tradition that has informed Stoicism since its inception. For instance:`\u001b[0m\n",
      "chunks:  65%|██████▌   | 254/389 [3:31:58<1:20:29, 35.77s/it]\u001b[32m2023-10-08 14:51:23.162\u001b[0m | \u001b[34m\u001b[1mDEBUG   \u001b[0m | \u001b[36m__main__\u001b[0m:\u001b[36m<module>\u001b[0m:\u001b[36m14\u001b[0m - \u001b[34m\u001b[1mcurrent sentence `“Acquire a method for contemplating how all things are transformed into each other: concentrate your attention on this ceaselessly and exercise yourself on this point.” (Meditations, X.11)`\u001b[0m\n",
      "chunks:  66%|██████▌   | 255/389 [3:32:40<1:23:13, 37.27s/it]\u001b[32m2023-10-08 14:52:04.969\u001b[0m | \u001b[34m\u001b[1mDEBUG   \u001b[0m | \u001b[36m__main__\u001b[0m:\u001b[36m<module>\u001b[0m:\u001b[36m14\u001b[0m - \u001b[34m\u001b[1mcurrent sentence `Why? Because that way we become less resistant to the very notion of change, and we accept change — including the ultimate change, as far as we are concerned, our own death — for what it is: a natural, inevitable process. Another thing we should train ourselves not to have aversion to!`\u001b[0m\n",
      "chunks:  66%|██████▌   | 256/389 [3:33:41<1:36:24, 43.50s/it]\u001b[32m2023-10-08 14:53:06.052\u001b[0m | \u001b[34m\u001b[1mDEBUG   \u001b[0m | \u001b[36m__main__\u001b[0m:\u001b[36m<module>\u001b[0m:\u001b[36m14\u001b[0m - \u001b[34m\u001b[1mcurrent sentence `That is also why so many things people so strongly desire are not what they are cracked up to be. For instance fame, especially worth thinking about in our increasingly narcissistic modern society:`\u001b[0m\n",
      "chunks:  66%|██████▌   | 257/389 [3:34:27<1:36:57, 44.07s/it]\u001b[32m2023-10-08 14:53:51.656\u001b[0m | \u001b[34m\u001b[1mDEBUG   \u001b[0m | \u001b[36m__main__\u001b[0m:\u001b[36m<module>\u001b[0m:\u001b[36m14\u001b[0m - \u001b[34m\u001b[1mcurrent sentence `“Short is the time which each of us lives; puny the little corner of earth on which we live; how puny, finally, is even the lengthiest posthumous glory. Even this glory, moreover, is transmitted by little men who’ll soon be dead, without even having known themselves, much less him who has long since been dead`\u001b[0m\n",
      "chunks:  66%|██████▋   | 258/389 [3:35:36<1:51:42, 51.16s/it]\u001b[32m2023-10-08 14:55:01.077\u001b[0m | \u001b[34m\u001b[1mDEBUG   \u001b[0m | \u001b[36m__main__\u001b[0m:\u001b[36m<module>\u001b[0m:\u001b[36m14\u001b[0m - \u001b[34m\u001b[1mcurrent sentence `.” (Meditations, III.10.2)`\u001b[0m\n",
      "chunks:  67%|██████▋   | 259/389 [3:35:50<1:27:47, 40.52s/it]\u001b[32m2023-10-08 14:55:14.969\u001b[0m | \u001b[34m\u001b[1mDEBUG   \u001b[0m | \u001b[36m__main__\u001b[0m:\u001b[36m<module>\u001b[0m:\u001b[36m14\u001b[0m - \u001b[34m\u001b[1mcurrent sentence `Yes, I know what you are thinking: isn’t it ironic that Marcus wrote this, given that his personal philosophical diary has survived a whopping 19 centuries and is still admired to this day? If your mind is tempted to go there, though, you may still have too limited a sense of what counts as a long time.`\u001b[0m\n",
      "\u001b[32m2023-10-08 14:56:17.153\u001b[0m | \u001b[33m\u001b[1mWARNING \u001b[0m | \u001b[36m__main__\u001b[0m:\u001b[36m<module>\u001b[0m:\u001b[36m24\u001b[0m - \u001b[33m\u001b[1mwrote chapter /media/wassname/SGIronWolf/projects5/tts-ai/use-tts-mjc/out/a_short_guide_to_the_inner_citadel_-_massimo_pigliucci20231008_03-19-11/31.ogg\u001b[0m\n",
      "chunks:  67%|██████▋   | 260/389 [3:36:52<1:40:36, 46.80s/it]\u001b[32m2023-10-08 14:56:17.155\u001b[0m | \u001b[34m\u001b[1mDEBUG   \u001b[0m | \u001b[36m__main__\u001b[0m:\u001b[36m<module>\u001b[0m:\u001b[36m14\u001b[0m - \u001b[34m\u001b[1mcurrent sentence `But where does meaning in life come from, then, if not fame, money, and all the other externals that the Stoics famously classed as “preferred indifferents”? From doing the only thing that really ought to matter to human beings, qua rational social animals:`\u001b[0m\n",
      "chunks:  67%|██████▋   | 261/389 [3:37:47<1:44:47, 49.12s/it]\u001b[32m2023-10-08 14:57:11.881\u001b[0m | \u001b[34m\u001b[1mDEBUG   \u001b[0m | \u001b[36m__main__\u001b[0m:\u001b[36m<module>\u001b[0m:\u001b[36m14\u001b[0m - \u001b[34m\u001b[1mcurrent sentence `“Your only joy, and your only rest: let it be to pass from one action performed in the service of the community to another action performed for the service of the community.” (Meditations, VI.7)`\u001b[0m\n",
      "chunks:  67%|██████▋   | 262/389 [3:38:31<1:40:47, 47.62s/it]\u001b[32m2023-10-08 14:57:55.911\u001b[0m | \u001b[34m\u001b[1mDEBUG   \u001b[0m | \u001b[36m__main__\u001b[0m:\u001b[36m<module>\u001b[0m:\u001b[36m14\u001b[0m - \u001b[34m\u001b[1mcurrent sentence `8-The discipline of action, in the service of humanity`\u001b[0m\n",
      "chunks:  68%|██████▊   | 263/389 [3:38:45<1:19:03, 37.64s/it]\u001b[32m2023-10-08 14:58:09.881\u001b[0m | \u001b[34m\u001b[1mDEBUG   \u001b[0m | \u001b[36m__main__\u001b[0m:\u001b[36m<module>\u001b[0m:\u001b[36m14\u001b[0m - \u001b[34m\u001b[1mcurrent sentence `Let us now take a look at one of the longest and most complex chapters, n. 8, on the discipline of action`\u001b[0m\n",
      "chunks:  68%|██████▊   | 264/389 [3:39:05<1:07:48, 32.55s/it]\u001b[32m2023-10-08 14:58:30.388\u001b[0m | \u001b[34m\u001b[1mDEBUG   \u001b[0m | \u001b[36m__main__\u001b[0m:\u001b[36m<module>\u001b[0m:\u001b[36m14\u001b[0m - \u001b[34m\u001b[1mcurrent sentence `. This is the last of the three disciplines around which Epictetus organized his approach to Stoicism, the other two being the discipline of assent (concerned with learning to question our judgments and connected to the study of Stoic logic), and the discipline of desire and aversion`\u001b[0m\n",
      "chunks:  68%|██████▊   | 265/389 [3:40:09<1:26:43, 41.96s/it]\u001b[32m2023-10-08 14:59:34.500\u001b[0m | \u001b[34m\u001b[1mDEBUG   \u001b[0m | \u001b[36m__main__\u001b[0m:\u001b[36m<module>\u001b[0m:\u001b[36m14\u001b[0m - \u001b[34m\u001b[1mcurrent sentence `(concerned with learning to re-prioritize our desires and connected to the study of Stoic physics)`\u001b[0m\n",
      "chunks:  68%|██████▊   | 266/389 [3:40:30<1:12:53, 35.56s/it]\u001b[32m2023-10-08 14:59:55.034\u001b[0m | \u001b[34m\u001b[1mDEBUG   \u001b[0m | \u001b[36m__main__\u001b[0m:\u001b[36m<module>\u001b[0m:\u001b[36m14\u001b[0m - \u001b[34m\u001b[1mcurrent sentence `. The discipline of action deals with how to interact with other people, and it is therefore connected with the study of Stoic ethics.`\u001b[0m\n",
      "chunks:  69%|██████▊   | 267/389 [3:41:00<1:08:46, 33.83s/it]\u001b[32m2023-10-08 15:00:24.801\u001b[0m | \u001b[34m\u001b[1mDEBUG   \u001b[0m | \u001b[36m__main__\u001b[0m:\u001b[36m<module>\u001b[0m:\u001b[36m14\u001b[0m - \u001b[34m\u001b[1mcurrent sentence `Hadot presents us with the bottom line right at the beginning of the chapter, where he says that the discipline of action provides us with a series of obligations, and particularly: (i) we have to act in the service of the whole human race;`\u001b[0m\n",
      "chunks:  69%|██████▉   | 268/389 [3:41:49<1:17:33, 38.46s/it]\u001b[32m2023-10-08 15:01:14.105\u001b[0m | \u001b[34m\u001b[1mDEBUG   \u001b[0m | \u001b[36m__main__\u001b[0m:\u001b[36m<module>\u001b[0m:\u001b[36m14\u001b[0m - \u001b[34m\u001b[1mcurrent sentence `(ii) in performing our actions, we need to keep in mind that some have more import of, and therefore precedence over, others; and (iii) we should love all human beings, because we are members of the same cosmopolis, sharing in the Logos`\u001b[0m\n",
      "chunks:  69%|██████▉   | 269/389 [3:42:47<1:28:27, 44.23s/it]\u001b[32m2023-10-08 15:02:11.818\u001b[0m | \u001b[34m\u001b[1mDEBUG   \u001b[0m | \u001b[36m__main__\u001b[0m:\u001b[36m<module>\u001b[0m:\u001b[36m14\u001b[0m - \u001b[34m\u001b[1mcurrent sentence `. As Marcus puts it:`\u001b[0m\n",
      "chunks:  69%|██████▉   | 270/389 [3:42:55<1:06:36, 33.58s/it]\u001b[32m2023-10-08 15:02:20.517\u001b[0m | \u001b[34m\u001b[1mDEBUG   \u001b[0m | \u001b[36m__main__\u001b[0m:\u001b[36m<module>\u001b[0m:\u001b[36m14\u001b[0m - \u001b[34m\u001b[1mcurrent sentence `“Let your impulse to act and your action have as their goal the service of the human community, because that, for you, is in conformity with your nature.” (Meditations, IX.31)`\u001b[0m\n",
      "\u001b[32m2023-10-08 15:03:06.922\u001b[0m | \u001b[33m\u001b[1mWARNING \u001b[0m | \u001b[36m__main__\u001b[0m:\u001b[36m<module>\u001b[0m:\u001b[36m24\u001b[0m - \u001b[33m\u001b[1mwrote chapter /media/wassname/SGIronWolf/projects5/tts-ai/use-tts-mjc/out/a_short_guide_to_the_inner_citadel_-_massimo_pigliucci20231008_03-19-11/32.ogg\u001b[0m\n",
      "chunks:  70%|██████▉   | 271/389 [3:43:42<1:13:36, 37.43s/it]\u001b[32m2023-10-08 15:03:06.924\u001b[0m | \u001b[34m\u001b[1mDEBUG   \u001b[0m | \u001b[36m__main__\u001b[0m:\u001b[36m<module>\u001b[0m:\u001b[36m14\u001b[0m - \u001b[34m\u001b[1mcurrent sentence `In other words, it is our ability to reason that allows us to realize that to live “according to nature,” as the Stoics say, means to use reason itself in order to be helpful to society at large. Because we are eminently social creatures capable of rationality.`\u001b[0m\n",
      "chunks:  70%|██████▉   | 272/389 [3:44:44<1:27:30, 44.87s/it]\u001b[32m2023-10-08 15:04:09.191\u001b[0m | \u001b[34m\u001b[1mDEBUG   \u001b[0m | \u001b[36m__main__\u001b[0m:\u001b[36m<module>\u001b[0m:\u001b[36m14\u001b[0m - \u001b[34m\u001b[1mcurrent sentence `Interestingly, Hadot suggests that the vice that is antithetical to the discipline of action is frivolity, i.e., acting for no good reason, pursuing no positive aim. Again Marcus:`\u001b[0m\n",
      "chunks:  70%|███████   | 273/389 [3:45:34<1:29:44, 46.42s/it]\u001b[32m2023-10-08 15:04:59.219\u001b[0m | \u001b[34m\u001b[1mDEBUG   \u001b[0m | \u001b[36m__main__\u001b[0m:\u001b[36m<module>\u001b[0m:\u001b[36m14\u001b[0m - \u001b[34m\u001b[1mcurrent sentence `“Stop spinning around like a top; instead, on the occasion of every impulse to act, accomplish what is just, and whether an impression presents itself, confine yourself to what corresponds exactly to reality.” (IV.22)   Or:`\u001b[0m\n",
      "chunks:  70%|███████   | 274/389 [3:46:24<1:30:46, 47.36s/it]\u001b[32m2023-10-08 15:05:48.769\u001b[0m | \u001b[34m\u001b[1mDEBUG   \u001b[0m | \u001b[36m__main__\u001b[0m:\u001b[36m<module>\u001b[0m:\u001b[36m14\u001b[0m - \u001b[34m\u001b[1mcurrent sentence `“Carry out each action of your life as if it were the last, and keep yourself far from all frivolity.” (II.5.2)`\u001b[0m\n",
      "chunks:  71%|███████   | 275/389 [3:46:53<1:19:54, 42.06s/it]\u001b[32m2023-10-08 15:06:18.457\u001b[0m | \u001b[34m\u001b[1mDEBUG   \u001b[0m | \u001b[36m__main__\u001b[0m:\u001b[36m<module>\u001b[0m:\u001b[36m14\u001b[0m - \u001b[34m\u001b[1mcurrent sentence `This leads naturally to a discussion of what the Stoics call “kathēkonta,” or “appropriate” actions, also sometimes translated as “duties.” Animals (and human children) instinctively know what actions are appropriate for them: those that protect and preserve themselves`\u001b[0m\n",
      "chunks:  71%|███████   | 276/389 [3:47:59<1:32:31, 49.13s/it]\u001b[32m2023-10-08 15:07:24.095\u001b[0m | \u001b[34m\u001b[1mDEBUG   \u001b[0m | \u001b[36m__main__\u001b[0m:\u001b[36m<module>\u001b[0m:\u001b[36m14\u001b[0m - \u001b[34m\u001b[1mcurrent sentence `. We would say, those favored by natural selection in order to further survival and reproduction. But with the onset of reason, adult human beings can go beyond their own preservation and realize that their fellow human beings are just like them, and that they themselves will do well in a thriving social whole`\u001b[0m\n",
      "chunks:  71%|███████   | 277/389 [3:49:18<1:48:23, 58.07s/it]\u001b[32m2023-10-08 15:08:43.016\u001b[0m | \u001b[34m\u001b[1mDEBUG   \u001b[0m | \u001b[36m__main__\u001b[0m:\u001b[36m<module>\u001b[0m:\u001b[36m14\u001b[0m - \u001b[34m\u001b[1mcurrent sentence `. That’s why — for social beings capable of reason — kathēkonta include actions aimed at improving general welfare. Moreover, these intentions to act are, of course, under our control, and are therefore either good or bad, not “indifferent,” like wealth, or health, or education.`\u001b[0m\n"
     ]
    },
    {
     "name": "stdout",
     "output_type": "stream",
     "text": [
      "No stop tokens found in one of the generated voice clips. This typically means the spoken audio is too long. In some cases, the output will still be good, though. Listen to it and if it is missing words, try breaking up your input text.\n",
      "No stop tokens found in one of the generated voice clips. This typically means the spoken audio is too long. In some cases, the output will still be good, though. Listen to it and if it is missing words, try breaking up your input text.\n"
     ]
    },
    {
     "name": "stderr",
     "output_type": "stream",
     "text": [
      "\u001b[32m2023-10-08 15:09:59.422\u001b[0m | \u001b[33m\u001b[1mWARNING \u001b[0m | \u001b[36m__main__\u001b[0m:\u001b[36m<module>\u001b[0m:\u001b[36m24\u001b[0m - \u001b[33m\u001b[1mwrote chapter /media/wassname/SGIronWolf/projects5/tts-ai/use-tts-mjc/out/a_short_guide_to_the_inner_citadel_-_massimo_pigliucci20231008_03-19-11/33.ogg\u001b[0m\n",
      "chunks:  71%|███████▏  | 278/389 [3:50:34<1:57:36, 63.57s/it]\u001b[32m2023-10-08 15:09:59.423\u001b[0m | \u001b[34m\u001b[1mDEBUG   \u001b[0m | \u001b[36m__main__\u001b[0m:\u001b[36m<module>\u001b[0m:\u001b[36m14\u001b[0m - \u001b[34m\u001b[1mcurrent sentence `Following a pretty tight line of reasoning, discussion of the fact that intentions to act are under our control leads Hadot to focus on the complementary fact that the outcomes of such actions, by contrast, are not under our (complete) control. Which is why Stoics are supposed to begin anything they do with a “reserve clause`\u001b[0m\n",
      "chunks:  72%|███████▏  | 279/389 [3:51:47<2:01:38, 66.35s/it]\u001b[32m2023-10-08 15:11:12.263\u001b[0m | \u001b[34m\u001b[1mDEBUG   \u001b[0m | \u001b[36m__main__\u001b[0m:\u001b[36m<module>\u001b[0m:\u001b[36m14\u001b[0m - \u001b[34m\u001b[1mcurrent sentence `.” As Seneca says:`\u001b[0m\n",
      "chunks:  72%|███████▏  | 280/389 [3:51:56<1:29:21, 49.18s/it]\u001b[32m2023-10-08 15:11:21.392\u001b[0m | \u001b[34m\u001b[1mDEBUG   \u001b[0m | \u001b[36m__main__\u001b[0m:\u001b[36m<module>\u001b[0m:\u001b[36m14\u001b[0m - \u001b[34m\u001b[1mcurrent sentence `“I want to do thus and so, as long as nothing happens which may present an obstacle to my action. … I will sail across the ocean, if nothing prevents me.” (On Peace of Mind, XIII.2-3)`\u001b[0m\n",
      "chunks:  72%|███████▏  | 281/389 [3:53:00<1:36:35, 53.67s/it]\u001b[32m2023-10-08 15:12:25.513\u001b[0m | \u001b[34m\u001b[1mDEBUG   \u001b[0m | \u001b[36m__main__\u001b[0m:\u001b[36m<module>\u001b[0m:\u001b[36m14\u001b[0m - \u001b[34m\u001b[1mcurrent sentence `The use of a reserve clause is often misinterpreted by critics of Stoicism to imply a weak intention in the first place. But Hadot writes that Stoic intentions are not just “good intentions,” but rather ”intentions that are good,” and they are to be pursued with vigor and firmness`\u001b[0m\n",
      "chunks:  72%|███████▏  | 282/389 [3:54:03<1:40:40, 56.46s/it]\u001b[32m2023-10-08 15:13:28.479\u001b[0m | \u001b[34m\u001b[1mDEBUG   \u001b[0m | \u001b[36m__main__\u001b[0m:\u001b[36m<module>\u001b[0m:\u001b[36m14\u001b[0m - \u001b[34m\u001b[1mcurrent sentence `. The reserve clause isn’t there to provide us with an excuse for inaction (or weak action), but rather as an acknowledgment that the universe may have other plans, and that there is only so much we can do in our little corner of the cosmic web of cause-effect`\u001b[0m\n",
      "chunks:  73%|███████▎  | 283/389 [3:55:03<1:41:17, 57.34s/it]\u001b[32m2023-10-08 15:14:27.877\u001b[0m | \u001b[34m\u001b[1mDEBUG   \u001b[0m | \u001b[36m__main__\u001b[0m:\u001b[36m<module>\u001b[0m:\u001b[36m14\u001b[0m - \u001b[34m\u001b[1mcurrent sentence `. But — crucially — if the intention truly is good, paradoxically, the sage succeeds even if he fails. This whole approach to ethics could not possibly be further from the most common one employed by people today, consequentialism. Marcus articulates the concept in an interesting way:`\u001b[0m\n",
      "chunks:  73%|███████▎  | 284/389 [3:56:22<1:51:45, 63.86s/it]\u001b[32m2023-10-08 15:15:46.954\u001b[0m | \u001b[34m\u001b[1mDEBUG   \u001b[0m | \u001b[36m__main__\u001b[0m:\u001b[36m<module>\u001b[0m:\u001b[36m14\u001b[0m - \u001b[34m\u001b[1mcurrent sentence `“Thanks to action ‘with a reserve clause,’ … there can be no obstacle to my intention, nor to my disposition. For my thought can ‘turn upside down’ everything that presents an obstacle, and transform the obstacle into an object toward which my impulse to act ought to tend`\u001b[0m\n"
     ]
    },
    {
     "name": "stdout",
     "output_type": "stream",
     "text": [
      "No stop tokens found in one of the generated voice clips. This typically means the spoken audio is too long. In some cases, the output will still be good, though. Listen to it and if it is missing words, try breaking up your input text.\n"
     ]
    },
    {
     "name": "stderr",
     "output_type": "stream",
     "text": [
      "\u001b[32m2023-10-08 15:16:46.605\u001b[0m | \u001b[33m\u001b[1mWARNING \u001b[0m | \u001b[36m__main__\u001b[0m:\u001b[36m<module>\u001b[0m:\u001b[36m24\u001b[0m - \u001b[33m\u001b[1mwrote chapter /media/wassname/SGIronWolf/projects5/tts-ai/use-tts-mjc/out/a_short_guide_to_the_inner_citadel_-_massimo_pigliucci20231008_03-19-11/34.ogg\u001b[0m\n",
      "chunks:  73%|███████▎  | 285/389 [3:57:22<1:48:30, 62.60s/it]\u001b[32m2023-10-08 15:16:46.606\u001b[0m | \u001b[34m\u001b[1mDEBUG   \u001b[0m | \u001b[36m__main__\u001b[0m:\u001b[36m<module>\u001b[0m:\u001b[36m14\u001b[0m - \u001b[34m\u001b[1mcurrent sentence `. That which impeded action thus becomes profitable to action, and that which blocked the road allows me to advance along the road.” (V.20.2)`\u001b[0m\n",
      "chunks:  74%|███████▎  | 286/389 [3:57:57<1:33:37, 54.53s/it]\u001b[32m2023-10-08 15:17:22.328\u001b[0m | \u001b[34m\u001b[1mDEBUG   \u001b[0m | \u001b[36m__main__\u001b[0m:\u001b[36m<module>\u001b[0m:\u001b[36m14\u001b[0m - \u001b[34m\u001b[1mcurrent sentence `One of the fundamental attitudes that is “appropriate” to a human being, and therefore falls into our duties, is benevolence. Seneca wrote a whole book entitled On Benefits, where he says that the benefactor should not consider the person that he is helping as somehow in debt to him. Marcus agrees:`\u001b[0m\n",
      "chunks:  74%|███████▍  | 287/389 [3:59:03<1:38:10, 57.75s/it]\u001b[32m2023-10-08 15:18:27.572\u001b[0m | \u001b[34m\u001b[1mDEBUG   \u001b[0m | \u001b[36m__main__\u001b[0m:\u001b[36m<module>\u001b[0m:\u001b[36m14\u001b[0m - \u001b[34m\u001b[1mcurrent sentence `“I did something in the service of the human community; therefore, I have been beneficial to myself.” (VII.73-74)`\u001b[0m\n",
      "chunks:  74%|███████▍  | 288/389 [3:59:35<1:24:31, 50.21s/it]\u001b[32m2023-10-08 15:19:00.195\u001b[0m | \u001b[34m\u001b[1mDEBUG   \u001b[0m | \u001b[36m__main__\u001b[0m:\u001b[36m<module>\u001b[0m:\u001b[36m14\u001b[0m - \u001b[34m\u001b[1mcurrent sentence `As Hadot points out, this Stoic principle that virtue is its own reward will be taken up many centuries later by Spinoza in his Ethics. To wish to be compensated for having done something good is, to use Marcus’ analogy, like an eye seeking compensation for the fact that he sees things (IX.42.12).`\u001b[0m\n",
      "chunks:  74%|███████▍  | 289/389 [4:00:49<1:35:40, 57.40s/it]\u001b[32m2023-10-08 15:20:14.372\u001b[0m | \u001b[34m\u001b[1mDEBUG   \u001b[0m | \u001b[36m__main__\u001b[0m:\u001b[36m<module>\u001b[0m:\u001b[36m14\u001b[0m - \u001b[34m\u001b[1mcurrent sentence `The Stoics insisted that we can affect the web of cause-effect only locally, here and now. Which is why there is no sense in regretting the past or worrying about the future, both of which are not under our control. Hadot here discusses what may appear to be a contradiction, though`\u001b[0m\n",
      "chunks:  75%|███████▍  | 290/389 [4:01:56<1:39:11, 60.11s/it]\u001b[32m2023-10-08 15:21:20.818\u001b[0m | \u001b[34m\u001b[1mDEBUG   \u001b[0m | \u001b[36m__main__\u001b[0m:\u001b[36m<module>\u001b[0m:\u001b[36m14\u001b[0m - \u001b[34m\u001b[1mcurrent sentence `. Marcus continuously exhorts himself to focus on the present, but he also directs his thoughts to the future, trying to imagine (and preempt) forthcoming difficulties. The apparent contradiction dissipates when one understands that Marcus reminds himself not to dwell emotionally on the future, i.e`\u001b[0m\n",
      "chunks:  75%|███████▍  | 291/389 [4:02:57<1:38:42, 60.43s/it]\u001b[32m2023-10-08 15:22:21.992\u001b[0m | \u001b[34m\u001b[1mDEBUG   \u001b[0m | \u001b[36m__main__\u001b[0m:\u001b[36m<module>\u001b[0m:\u001b[36m14\u001b[0m - \u001b[34m\u001b[1mcurrent sentence `., not to worry about things that are still to come. That doesn’t mean that he should not contemplate the future rationally`\u001b[0m\n",
      "chunks:  75%|███████▌  | 292/389 [4:03:17<1:18:14, 48.40s/it]\u001b[32m2023-10-08 15:22:42.314\u001b[0m | \u001b[34m\u001b[1mDEBUG   \u001b[0m | \u001b[36m__main__\u001b[0m:\u001b[36m<module>\u001b[0m:\u001b[36m14\u001b[0m - \u001b[34m\u001b[1mcurrent sentence `. Indeed, that’s the only way to properly prepare for it! The same, incidentally, can be said about the past: a Stoic does not want to engage with it at the emotional level (regret), but does want to reflect on what has happened (in order to learn).`\u001b[0m\n",
      "\u001b[32m2023-10-08 15:23:33.984\u001b[0m | \u001b[33m\u001b[1mWARNING \u001b[0m | \u001b[36m__main__\u001b[0m:\u001b[36m<module>\u001b[0m:\u001b[36m24\u001b[0m - \u001b[33m\u001b[1mwrote chapter /media/wassname/SGIronWolf/projects5/tts-ai/use-tts-mjc/out/a_short_guide_to_the_inner_citadel_-_massimo_pigliucci20231008_03-19-11/35.ogg\u001b[0m\n",
      "chunks:  75%|███████▌  | 293/389 [4:04:09<1:19:00, 49.38s/it]\u001b[32m2023-10-08 15:23:33.986\u001b[0m | \u001b[34m\u001b[1mDEBUG   \u001b[0m | \u001b[36m__main__\u001b[0m:\u001b[36m<module>\u001b[0m:\u001b[36m14\u001b[0m - \u001b[34m\u001b[1mcurrent sentence `Hadot makes a strong case that the discipline of action implies an altruistic bent for the Stoic practitioner. As he puts it, “logikon” (i.e., rational) and “koinonikon” (caring about the common welfare) are inseparable in the Stoic system`\u001b[0m\n"
     ]
    },
    {
     "name": "stdout",
     "output_type": "stream",
     "text": [
      "No stop tokens found in one of the generated voice clips. This typically means the spoken audio is too long. In some cases, the output will still be good, though. Listen to it and if it is missing words, try breaking up your input text.\n"
     ]
    },
    {
     "name": "stderr",
     "output_type": "stream",
     "text": [
      "chunks:  76%|███████▌  | 294/389 [4:05:14<1:25:29, 54.00s/it]\u001b[32m2023-10-08 15:24:38.749\u001b[0m | \u001b[34m\u001b[1mDEBUG   \u001b[0m | \u001b[36m__main__\u001b[0m:\u001b[36m<module>\u001b[0m:\u001b[36m14\u001b[0m - \u001b[34m\u001b[1mcurrent sentence `. (Interestingly, the Greek koinonikon is the same word used by early Christians to refer to the chanting during the sacrament of communion.)`\u001b[0m\n",
      "chunks:  76%|███████▌  | 295/389 [4:05:47<1:14:45, 47.72s/it]\u001b[32m2023-10-08 15:25:11.822\u001b[0m | \u001b[34m\u001b[1mDEBUG   \u001b[0m | \u001b[36m__main__\u001b[0m:\u001b[36m<module>\u001b[0m:\u001b[36m14\u001b[0m - \u001b[34m\u001b[1mcurrent sentence `“For rational animals, action in conformity with nature is at the same time in conformity with reason.” (VII.11)   And:`\u001b[0m\n",
      "chunks:  76%|███████▌  | 296/389 [4:06:20<1:07:04, 43.28s/it]\u001b[32m2023-10-08 15:25:44.730\u001b[0m | \u001b[34m\u001b[1mDEBUG   \u001b[0m | \u001b[36m__main__\u001b[0m:\u001b[36m<module>\u001b[0m:\u001b[36m14\u001b[0m - \u001b[34m\u001b[1mcurrent sentence `“My City and my Fatherland, insofar as I am an Antonine, is Rome. My City and my Fatherland, insofar as I am a man, is the world. Everything that is useful to the two Cities is, for me, the only good.” (VI.44.6)`\u001b[0m\n",
      "chunks:  76%|███████▋  | 297/389 [4:07:26<1:16:49, 50.10s/it]\u001b[32m2023-10-08 15:26:50.749\u001b[0m | \u001b[34m\u001b[1mDEBUG   \u001b[0m | \u001b[36m__main__\u001b[0m:\u001b[36m<module>\u001b[0m:\u001b[36m14\u001b[0m - \u001b[34m\u001b[1mcurrent sentence `Stoicism, then, turns out to be both a philosophy of self-love (the natural tendency of human beings, just like that of other animals, is for self-preservation) and of other-love (insofar as reason allows us to grasp that we are member of a larger cosmopolis)`\u001b[0m\n",
      "chunks:  77%|███████▋  | 298/389 [4:08:34<1:24:13, 55.53s/it]\u001b[32m2023-10-08 15:27:58.947\u001b[0m | \u001b[34m\u001b[1mDEBUG   \u001b[0m | \u001b[36m__main__\u001b[0m:\u001b[36m<module>\u001b[0m:\u001b[36m14\u001b[0m - \u001b[34m\u001b[1mcurrent sentence `. Indeed, the sharp modern opposition between selfishness and altruism simply does not exist for the Stoics, because what is good for the cosmopolis is good for me, and vice versa.`\u001b[0m\n",
      "chunks:  77%|███████▋  | 299/389 [4:09:16<1:17:26, 51.63s/it]\u001b[32m2023-10-08 15:28:41.471\u001b[0m | \u001b[34m\u001b[1mDEBUG   \u001b[0m | \u001b[36m__main__\u001b[0m:\u001b[36m<module>\u001b[0m:\u001b[36m14\u001b[0m - \u001b[34m\u001b[1mcurrent sentence `“Universal nature has made rational beings for the sake of one another.” (IX.1)`\u001b[0m\n",
      "chunks:  77%|███████▋  | 300/389 [4:09:33<1:01:11, 41.26s/it]\u001b[32m2023-10-08 15:28:58.533\u001b[0m | \u001b[34m\u001b[1mDEBUG   \u001b[0m | \u001b[36m__main__\u001b[0m:\u001b[36m<module>\u001b[0m:\u001b[36m14\u001b[0m - \u001b[34m\u001b[1mcurrent sentence `Hadot says that Epictetus (from whom Marcus got his inspiration, as we know) describes three characteristics of proper actions: (i) they have to be accompanied by a reserve clause; (ii) they have to be in the service of the common welfare; and (iii) they must be in accordance with a scale of value (axia)`\u001b[0m\n"
     ]
    },
    {
     "name": "stdout",
     "output_type": "stream",
     "text": [
      "No stop tokens found in one of the generated voice clips. This typically means the spoken audio is too long. In some cases, the output will still be good, though. Listen to it and if it is missing words, try breaking up your input text.\n",
      "No stop tokens found in one of the generated voice clips. This typically means the spoken audio is too long. In some cases, the output will still be good, though. Listen to it and if it is missing words, try breaking up your input text.\n",
      "No stop tokens found in one of the generated voice clips. This typically means the spoken audio is too long. In some cases, the output will still be good, though. Listen to it and if it is missing words, try breaking up your input text.\n",
      "No stop tokens found in one of the generated voice clips. This typically means the spoken audio is too long. In some cases, the output will still be good, though. Listen to it and if it is missing words, try breaking up your input text.\n",
      "No stop tokens found in one of the generated voice clips. This typically means the spoken audio is too long. In some cases, the output will still be good, though. Listen to it and if it is missing words, try breaking up your input text.\n",
      "No stop tokens found in one of the generated voice clips. This typically means the spoken audio is too long. In some cases, the output will still be good, though. Listen to it and if it is missing words, try breaking up your input text.\n",
      "No stop tokens found in one of the generated voice clips. This typically means the spoken audio is too long. In some cases, the output will still be good, though. Listen to it and if it is missing words, try breaking up your input text.\n",
      "No stop tokens found in one of the generated voice clips. This typically means the spoken audio is too long. In some cases, the output will still be good, though. Listen to it and if it is missing words, try breaking up your input text.\n",
      "No stop tokens found in one of the generated voice clips. This typically means the spoken audio is too long. In some cases, the output will still be good, though. Listen to it and if it is missing words, try breaking up your input text.\n"
     ]
    },
    {
     "name": "stderr",
     "output_type": "stream",
     "text": [
      "\u001b[32m2023-10-08 15:30:19.169\u001b[0m | \u001b[33m\u001b[1mWARNING \u001b[0m | \u001b[36m__main__\u001b[0m:\u001b[36m<module>\u001b[0m:\u001b[36m24\u001b[0m - \u001b[33m\u001b[1mwrote chapter /media/wassname/SGIronWolf/projects5/tts-ai/use-tts-mjc/out/a_short_guide_to_the_inner_citadel_-_massimo_pigliucci20231008_03-19-11/36.ogg\u001b[0m\n",
      "chunks:  77%|███████▋  | 301/389 [4:10:54<1:17:50, 53.07s/it]\u001b[32m2023-10-08 15:30:19.170\u001b[0m | \u001b[34m\u001b[1mDEBUG   \u001b[0m | \u001b[36m__main__\u001b[0m:\u001b[36m<module>\u001b[0m:\u001b[36m14\u001b[0m - \u001b[34m\u001b[1mcurrent sentence `. We have already discussed the first two points, but what things have value, according to the Stoics?`\u001b[0m\n",
      "chunks:  78%|███████▊  | 302/389 [4:11:15<1:02:44, 43.27s/it]\u001b[32m2023-10-08 15:30:39.579\u001b[0m | \u001b[34m\u001b[1mDEBUG   \u001b[0m | \u001b[36m__main__\u001b[0m:\u001b[36m<module>\u001b[0m:\u001b[36m14\u001b[0m - \u001b[34m\u001b[1mcurrent sentence `Broadly speaking, there are three categories of things that have the sort of value that makes a given action “appropriate” (or, to put it otherwise, a duty):`\u001b[0m\n",
      "chunks:  78%|███████▊  | 303/389 [4:11:45<56:37, 39.51s/it]  \u001b[32m2023-10-08 15:31:10.309\u001b[0m | \u001b[34m\u001b[1mDEBUG   \u001b[0m | \u001b[36m__main__\u001b[0m:\u001b[36m<module>\u001b[0m:\u001b[36m14\u001b[0m - \u001b[34m\u001b[1mcurrent sentence `(a) Things that are an integral part of living according to nature, and are therefore inherently virtuous. These include exercises of self-examination, and any practice that directly help us to live a moral life. The value of these things is absolute, they are at the very top of the list.`\u001b[0m\n",
      "chunks:  78%|███████▊  | 304/389 [4:12:50<1:06:38, 47.05s/it]\u001b[32m2023-10-08 15:32:14.939\u001b[0m | \u001b[34m\u001b[1mDEBUG   \u001b[0m | \u001b[36m__main__\u001b[0m:\u001b[36m<module>\u001b[0m:\u001b[36m14\u001b[0m - \u001b[34m\u001b[1mcurrent sentence `(b) Things that in themselves are morally neutral, neither good nor bad, but that — if possessed — allow us to better practice virtue. They include health and wealth, both of which facilitate our goal of helping other human beings`\u001b[0m\n",
      "chunks:  78%|███████▊  | 305/389 [4:13:48<1:10:30, 50.36s/it]\u001b[32m2023-10-08 15:33:13.025\u001b[0m | \u001b[34m\u001b[1mDEBUG   \u001b[0m | \u001b[36m__main__\u001b[0m:\u001b[36m<module>\u001b[0m:\u001b[36m14\u001b[0m - \u001b[34m\u001b[1mcurrent sentence `. These things do not have an absolute value, as their value is ranked according to how much they facilitate moral living.`\u001b[0m\n",
      "chunks:  79%|███████▊  | 306/389 [4:14:12<58:45, 42.48s/it]  \u001b[32m2023-10-08 15:33:37.110\u001b[0m | \u001b[34m\u001b[1mDEBUG   \u001b[0m | \u001b[36m__main__\u001b[0m:\u001b[36m<module>\u001b[0m:\u001b[36m14\u001b[0m - \u001b[34m\u001b[1mcurrent sentence `(c) Things that have no value in themselves, but can be exchanged for some good, and are therefore indirectly useful to virtue. Unfortunately, Hadot does not provide any example within this last category. Any suggestion from my readers?`\u001b[0m\n",
      "chunks:  79%|███████▉  | 307/389 [4:15:05<1:02:22, 45.64s/it]\u001b[32m2023-10-08 15:34:30.142\u001b[0m | \u001b[34m\u001b[1mDEBUG   \u001b[0m | \u001b[36m__main__\u001b[0m:\u001b[36m<module>\u001b[0m:\u001b[36m14\u001b[0m - \u001b[34m\u001b[1mcurrent sentence `The point is that it requires good judgment to sort these various levels of value, which means that the disciplines of action and assent are tightly connected (just like the discipline of desire and aversion is, in turn, tightly connected to that of assent — good reasoning underlies everything).`\u001b[0m\n",
      "chunks:  79%|███████▉  | 308/389 [4:16:19<1:13:05, 54.15s/it]\u001b[32m2023-10-08 15:35:44.131\u001b[0m | \u001b[34m\u001b[1mDEBUG   \u001b[0m | \u001b[36m__main__\u001b[0m:\u001b[36m<module>\u001b[0m:\u001b[36m14\u001b[0m - \u001b[34m\u001b[1mcurrent sentence `Of course, the above means that Stoics have a different system of values from most people, and yet we are supposed to help others, which may involve also helping them secure some of the preferred indifferents that are so important to them`\u001b[0m\n",
      "\u001b[32m2023-10-08 15:36:34.848\u001b[0m | \u001b[33m\u001b[1mWARNING \u001b[0m | \u001b[36m__main__\u001b[0m:\u001b[36m<module>\u001b[0m:\u001b[36m24\u001b[0m - \u001b[33m\u001b[1mwrote chapter /media/wassname/SGIronWolf/projects5/tts-ai/use-tts-mjc/out/a_short_guide_to_the_inner_citadel_-_massimo_pigliucci20231008_03-19-11/37.ogg\u001b[0m\n",
      "chunks:  79%|███████▉  | 309/389 [4:17:10<1:10:49, 53.12s/it]\u001b[32m2023-10-08 15:36:34.849\u001b[0m | \u001b[34m\u001b[1mDEBUG   \u001b[0m | \u001b[36m__main__\u001b[0m:\u001b[36m<module>\u001b[0m:\u001b[36m14\u001b[0m - \u001b[34m\u001b[1mcurrent sentence `. We can do so without contradiction, so long as we keep in mind that the only thing that truly has value is virtue itself. As Hadot puts it: “This is the problem that Marcus faced as Emperor: he had to seek the happiness of his subjects in the domain of indifferent things, which had no value in his eyes” (p`\u001b[0m\n",
      "chunks:  80%|███████▉  | 310/389 [4:18:23<1:17:48, 59.10s/it]\u001b[32m2023-10-08 15:37:47.904\u001b[0m | \u001b[34m\u001b[1mDEBUG   \u001b[0m | \u001b[36m__main__\u001b[0m:\u001b[36m<module>\u001b[0m:\u001b[36m14\u001b[0m - \u001b[34m\u001b[1mcurrent sentence `. 217).`\u001b[0m\n",
      "chunks:  80%|███████▉  | 311/389 [4:18:32<57:25, 44.17s/it]  \u001b[32m2023-10-08 15:37:57.243\u001b[0m | \u001b[34m\u001b[1mDEBUG   \u001b[0m | \u001b[36m__main__\u001b[0m:\u001b[36m<module>\u001b[0m:\u001b[36m14\u001b[0m - \u001b[34m\u001b[1mcurrent sentence `We do have historical testimony that Marcus acted in accordance to his principles`\u001b[0m\n",
      "chunks:  80%|████████  | 312/389 [4:18:49<46:09, 35.97s/it]\u001b[32m2023-10-08 15:38:14.084\u001b[0m | \u001b[34m\u001b[1mDEBUG   \u001b[0m | \u001b[36m__main__\u001b[0m:\u001b[36m<module>\u001b[0m:\u001b[36m14\u001b[0m - \u001b[34m\u001b[1mcurrent sentence `. The historian Cassius Dio reports that the emperor praised people who excelled at a given task, and made a point to employ them for that task, saying that it is not possible to create men the way we would like them to be, so it is appropriate to employ men at what they are good`\u001b[0m\n",
      "chunks:  80%|████████  | 313/389 [4:20:01<59:19, 46.84s/it]\u001b[32m2023-10-08 15:39:26.285\u001b[0m | \u001b[34m\u001b[1mDEBUG   \u001b[0m | \u001b[36m__main__\u001b[0m:\u001b[36m<module>\u001b[0m:\u001b[36m14\u001b[0m - \u001b[34m\u001b[1mcurrent sentence `. Another historian, Herodian, tells us that Marcus married his daughters not to men who were rich or in positions of political advantage, but according to the apparent virtue of the perspective husbands.`\u001b[0m\n",
      "chunks:  81%|████████  | 314/389 [4:20:36<53:58, 43.17s/it]\u001b[32m2023-10-08 15:40:00.903\u001b[0m | \u001b[34m\u001b[1mDEBUG   \u001b[0m | \u001b[36m__main__\u001b[0m:\u001b[36m<module>\u001b[0m:\u001b[36m14\u001b[0m - \u001b[34m\u001b[1mcurrent sentence `Hadot next explains that the Stoic take, derived from Socrates, that nobody does evil on purpose (but always out of bad judgment) naturally leads toward an attitude of tolerance, whereby those who err are to be pitied, not hated. As Epictetus puts it:`\u001b[0m\n",
      "chunks:  81%|████████  | 315/389 [4:21:30<57:16, 46.43s/it]\u001b[32m2023-10-08 15:40:54.941\u001b[0m | \u001b[34m\u001b[1mDEBUG   \u001b[0m | \u001b[36m__main__\u001b[0m:\u001b[36m<module>\u001b[0m:\u001b[36m14\u001b[0m - \u001b[34m\u001b[1mcurrent sentence `“Shouldn’t you rather have pity for those who are blind and mutilated with regard to what is most important, as we have pity for the blind and the lame?” (Discourses, I.28.9)`\u001b[0m\n",
      "chunks:  81%|████████  | 316/389 [4:22:18<57:16, 47.07s/it]\u001b[32m2023-10-08 15:41:43.513\u001b[0m | \u001b[34m\u001b[1mDEBUG   \u001b[0m | \u001b[36m__main__\u001b[0m:\u001b[36m<module>\u001b[0m:\u001b[36m14\u001b[0m - \u001b[34m\u001b[1mcurrent sentence `Interestingly, Hadot points out that “pity” here is not to be understood as a distressing emotion, which would be contrary to Stoic philosophy, but rather as lack of anger or hatred toward those who make mistakes. Hence Marcus:`\u001b[0m\n",
      "chunks:  81%|████████▏ | 317/389 [4:23:11<58:19, 48.61s/it]\u001b[32m2023-10-08 15:42:35.705\u001b[0m | \u001b[34m\u001b[1mDEBUG   \u001b[0m | \u001b[36m__main__\u001b[0m:\u001b[36m<module>\u001b[0m:\u001b[36m14\u001b[0m - \u001b[34m\u001b[1mcurrent sentence `“If he is wrong, instruct him to that effect with benevolence, and show him what he has overlooked. If you do not succeed, then be mad at yourself; or rather not even at yourself.” (Meditations, X.4)`\u001b[0m\n",
      "\u001b[32m2023-10-08 15:43:25.402\u001b[0m | \u001b[33m\u001b[1mWARNING \u001b[0m | \u001b[36m__main__\u001b[0m:\u001b[36m<module>\u001b[0m:\u001b[36m24\u001b[0m - \u001b[33m\u001b[1mwrote chapter /media/wassname/SGIronWolf/projects5/tts-ai/use-tts-mjc/out/a_short_guide_to_the_inner_citadel_-_massimo_pigliucci20231008_03-19-11/38.ogg\u001b[0m\n",
      "chunks:  82%|████████▏ | 318/389 [4:24:00<57:54, 48.94s/it]\u001b[32m2023-10-08 15:43:25.404\u001b[0m | \u001b[34m\u001b[1mDEBUG   \u001b[0m | \u001b[36m__main__\u001b[0m:\u001b[36m<module>\u001b[0m:\u001b[36m14\u001b[0m - \u001b[34m\u001b[1mcurrent sentence `And in a prescient dig at today’s “broics” Marcus argues that goodness is not a weakness, but the ultimate “manly” virtue (nowadays, of course, we would simply say human virtue):`\u001b[0m\n",
      "chunks:  82%|████████▏ | 319/389 [4:24:45<55:42, 47.75s/it]\u001b[32m2023-10-08 15:44:10.376\u001b[0m | \u001b[34m\u001b[1mDEBUG   \u001b[0m | \u001b[36m__main__\u001b[0m:\u001b[36m<module>\u001b[0m:\u001b[36m14\u001b[0m - \u001b[34m\u001b[1mcurrent sentence `“It is not anger that is manly, but gentleness and delicacy. It is because they are more human that they are more manly; they possess more strength, more nerve, and more virility, and this is precisely what is lacking in the person who gets angry and loses his temper.” (XI.18.21)`\u001b[0m\n",
      "chunks:  82%|████████▏ | 320/389 [4:26:02<1:04:49, 56.37s/it]\u001b[32m2023-10-08 15:45:26.851\u001b[0m | \u001b[34m\u001b[1mDEBUG   \u001b[0m | \u001b[36m__main__\u001b[0m:\u001b[36m<module>\u001b[0m:\u001b[36m14\u001b[0m - \u001b[34m\u001b[1mcurrent sentence `In an interesting twist near the end of this long but fascinating chapter Hadot makes the argument that the Stoics arrived at the concept of “love thy neighbor,” just like the Christians did, though from a different perspective. Marcus pretty much says it explicitly:`\u001b[0m\n",
      "chunks:  83%|████████▎ | 321/389 [4:27:01<1:04:42, 57.10s/it]\u001b[32m2023-10-08 15:46:25.659\u001b[0m | \u001b[34m\u001b[1mDEBUG   \u001b[0m | \u001b[36m__main__\u001b[0m:\u001b[36m<module>\u001b[0m:\u001b[36m14\u001b[0m - \u001b[34m\u001b[1mcurrent sentence `“A proprium of humankind is to love even those who make mistakes. This will happen if you realize that they are akin to you and that they sin out of ignorance and against their will.” (VII.22.1-2)`\u001b[0m\n",
      "chunks:  83%|████████▎ | 322/389 [4:27:49<1:00:49, 54.47s/it]\u001b[32m2023-10-08 15:47:13.987\u001b[0m | \u001b[34m\u001b[1mDEBUG   \u001b[0m | \u001b[36m__main__\u001b[0m:\u001b[36m<module>\u001b[0m:\u001b[36m14\u001b[0m - \u001b[34m\u001b[1mcurrent sentence `Hadot goes so far as to say that the discipline of action “attains its culminating point in the love of one’s neighbor” (p. 229). The common root of the notion to love one’s neighbor is the recognition, both in Stoicism and in Christianity, that we share the Logos with all human beings`\u001b[0m\n",
      "chunks:  83%|████████▎ | 323/389 [4:29:08<1:08:01, 61.84s/it]\u001b[32m2023-10-08 15:48:33.045\u001b[0m | \u001b[34m\u001b[1mDEBUG   \u001b[0m | \u001b[36m__main__\u001b[0m:\u001b[36m<module>\u001b[0m:\u001b[36m14\u001b[0m - \u001b[34m\u001b[1mcurrent sentence `. Stoics even love their enemy, just like the Christians do:`\u001b[0m\n",
      "chunks:  83%|████████▎ | 324/389 [4:29:22<51:19, 47.37s/it]  \u001b[32m2023-10-08 15:48:46.643\u001b[0m | \u001b[34m\u001b[1mDEBUG   \u001b[0m | \u001b[36m__main__\u001b[0m:\u001b[36m<module>\u001b[0m:\u001b[36m14\u001b[0m - \u001b[34m\u001b[1mcurrent sentence `“When he is beaten, the Cynic [i.e., the heroic Stoic] must love those who beat him.” (Epictetus, Discourses, III.22.54)`\u001b[0m\n",
      "chunks:  84%|████████▎ | 325/389 [4:30:11<51:13, 48.03s/it]\u001b[32m2023-10-08 15:49:36.212\u001b[0m | \u001b[34m\u001b[1mDEBUG   \u001b[0m | \u001b[36m__main__\u001b[0m:\u001b[36m<module>\u001b[0m:\u001b[36m14\u001b[0m - \u001b[34m\u001b[1mcurrent sentence `The difference is that for Christians the Logos is incarnate in Jesus, and so it is, in a sense, personalized (albeit in the person of a divine being). But Stoicism turns out to be no less a doctrine of love:`\u001b[0m\n",
      "\u001b[32m2023-10-08 15:50:27.435\u001b[0m | \u001b[33m\u001b[1mWARNING \u001b[0m | \u001b[36m__main__\u001b[0m:\u001b[36m<module>\u001b[0m:\u001b[36m24\u001b[0m - \u001b[33m\u001b[1mwrote chapter /media/wassname/SGIronWolf/projects5/tts-ai/use-tts-mjc/out/a_short_guide_to_the_inner_citadel_-_massimo_pigliucci20231008_03-19-11/39.ogg\u001b[0m\n",
      "chunks:  84%|████████▍ | 326/389 [4:31:02<51:26, 48.99s/it]\u001b[32m2023-10-08 15:50:27.436\u001b[0m | \u001b[34m\u001b[1mDEBUG   \u001b[0m | \u001b[36m__main__\u001b[0m:\u001b[36m<module>\u001b[0m:\u001b[36m14\u001b[0m - \u001b[34m\u001b[1mcurrent sentence `“No school has more goodness and gentleness; none has more love for human beings, nor more attention to the common good. The goal which it assigns to us is to be useful, to help others, and to take care, not only of ourselves, but of everyone in general and of each one in particular.” (Seneca, On Clemency, III.3)`\u001b[0m\n"
     ]
    },
    {
     "name": "stdout",
     "output_type": "stream",
     "text": [
      "No stop tokens found in one of the generated voice clips. This typically means the spoken audio is too long. In some cases, the output will still be good, though. Listen to it and if it is missing words, try breaking up your input text.\n",
      "No stop tokens found in one of the generated voice clips. This typically means the spoken audio is too long. In some cases, the output will still be good, though. Listen to it and if it is missing words, try breaking up your input text.\n",
      "No stop tokens found in one of the generated voice clips. This typically means the spoken audio is too long. In some cases, the output will still be good, though. Listen to it and if it is missing words, try breaking up your input text.\n",
      "No stop tokens found in one of the generated voice clips. This typically means the spoken audio is too long. In some cases, the output will still be good, though. Listen to it and if it is missing words, try breaking up your input text.\n",
      "No stop tokens found in one of the generated voice clips. This typically means the spoken audio is too long. In some cases, the output will still be good, though. Listen to it and if it is missing words, try breaking up your input text.\n",
      "No stop tokens found in one of the generated voice clips. This typically means the spoken audio is too long. In some cases, the output will still be good, though. Listen to it and if it is missing words, try breaking up your input text.\n",
      "No stop tokens found in one of the generated voice clips. This typically means the spoken audio is too long. In some cases, the output will still be good, though. Listen to it and if it is missing words, try breaking up your input text.\n",
      "No stop tokens found in one of the generated voice clips. This typically means the spoken audio is too long. In some cases, the output will still be good, though. Listen to it and if it is missing words, try breaking up your input text.\n",
      "No stop tokens found in one of the generated voice clips. This typically means the spoken audio is too long. In some cases, the output will still be good, though. Listen to it and if it is missing words, try breaking up your input text.\n",
      "No stop tokens found in one of the generated voice clips. This typically means the spoken audio is too long. In some cases, the output will still be good, though. Listen to it and if it is missing words, try breaking up your input text.\n",
      "No stop tokens found in one of the generated voice clips. This typically means the spoken audio is too long. In some cases, the output will still be good, though. Listen to it and if it is missing words, try breaking up your input text.\n",
      "No stop tokens found in one of the generated voice clips. This typically means the spoken audio is too long. In some cases, the output will still be good, though. Listen to it and if it is missing words, try breaking up your input text.\n",
      "No stop tokens found in one of the generated voice clips. This typically means the spoken audio is too long. In some cases, the output will still be good, though. Listen to it and if it is missing words, try breaking up your input text.\n",
      "No stop tokens found in one of the generated voice clips. This typically means the spoken audio is too long. In some cases, the output will still be good, though. Listen to it and if it is missing words, try breaking up your input text.\n",
      "No stop tokens found in one of the generated voice clips. This typically means the spoken audio is too long. In some cases, the output will still be good, though. Listen to it and if it is missing words, try breaking up your input text.\n",
      "No stop tokens found in one of the generated voice clips. This typically means the spoken audio is too long. In some cases, the output will still be good, though. Listen to it and if it is missing words, try breaking up your input text.\n",
      "No stop tokens found in one of the generated voice clips. This typically means the spoken audio is too long. In some cases, the output will still be good, though. Listen to it and if it is missing words, try breaking up your input text.\n",
      "No stop tokens found in one of the generated voice clips. This typically means the spoken audio is too long. In some cases, the output will still be good, though. Listen to it and if it is missing words, try breaking up your input text.\n",
      "No stop tokens found in one of the generated voice clips. This typically means the spoken audio is too long. In some cases, the output will still be good, though. Listen to it and if it is missing words, try breaking up your input text.\n",
      "No stop tokens found in one of the generated voice clips. This typically means the spoken audio is too long. In some cases, the output will still be good, though. Listen to it and if it is missing words, try breaking up your input text.\n",
      "No stop tokens found in one of the generated voice clips. This typically means the spoken audio is too long. In some cases, the output will still be good, though. Listen to it and if it is missing words, try breaking up your input text.\n",
      "No stop tokens found in one of the generated voice clips. This typically means the spoken audio is too long. In some cases, the output will still be good, though. Listen to it and if it is missing words, try breaking up your input text.\n",
      "No stop tokens found in one of the generated voice clips. This typically means the spoken audio is too long. In some cases, the output will still be good, though. Listen to it and if it is missing words, try breaking up your input text.\n",
      "No stop tokens found in one of the generated voice clips. This typically means the spoken audio is too long. In some cases, the output will still be good, though. Listen to it and if it is missing words, try breaking up your input text.\n",
      "No stop tokens found in one of the generated voice clips. This typically means the spoken audio is too long. In some cases, the output will still be good, though. Listen to it and if it is missing words, try breaking up your input text.\n",
      "No stop tokens found in one of the generated voice clips. This typically means the spoken audio is too long. In some cases, the output will still be good, though. Listen to it and if it is missing words, try breaking up your input text.\n"
     ]
    },
    {
     "name": "stderr",
     "output_type": "stream",
     "text": [
      "chunks:  84%|████████▍ | 327/389 [4:32:32<1:03:14, 61.21s/it]\u001b[32m2023-10-08 15:51:57.162\u001b[0m | \u001b[34m\u001b[1mDEBUG   \u001b[0m | \u001b[36m__main__\u001b[0m:\u001b[36m<module>\u001b[0m:\u001b[36m14\u001b[0m - \u001b[34m\u001b[1mcurrent sentence `9-Marcus Aurelius — the man himself`\u001b[0m\n",
      "chunks:  84%|████████▍ | 328/389 [4:32:47<48:11, 47.40s/it]  \u001b[32m2023-10-08 15:52:12.353\u001b[0m | \u001b[34m\u001b[1mDEBUG   \u001b[0m | \u001b[36m__main__\u001b[0m:\u001b[36m<module>\u001b[0m:\u001b[36m14\u001b[0m - \u001b[34m\u001b[1mcurrent sentence `We are now at the end of Pierre Hadot’s The Inner Citadel: The Meditations of Marcus Aurelius. It’s a long and difficult book, but it’s a crucial entry in the modern Stoic literature, which is why I spent so much time — and really put to the test my readers’ patience, I'm afraid — with this series`\u001b[0m\n"
     ]
    },
    {
     "name": "stdout",
     "output_type": "stream",
     "text": [
      "No stop tokens found in one of the generated voice clips. This typically means the spoken audio is too long. In some cases, the output will still be good, though. Listen to it and if it is missing words, try breaking up your input text.\n",
      "No stop tokens found in one of the generated voice clips. This typically means the spoken audio is too long. In some cases, the output will still be good, though. Listen to it and if it is missing words, try breaking up your input text.\n",
      "No stop tokens found in one of the generated voice clips. This typically means the spoken audio is too long. In some cases, the output will still be good, though. Listen to it and if it is missing words, try breaking up your input text.\n",
      "No stop tokens found in one of the generated voice clips. This typically means the spoken audio is too long. In some cases, the output will still be good, though. Listen to it and if it is missing words, try breaking up your input text.\n"
     ]
    },
    {
     "name": "stderr",
     "output_type": "stream",
     "text": [
      "chunks:  85%|████████▍ | 329/389 [4:34:13<58:59, 58.99s/it]\u001b[32m2023-10-08 15:53:38.365\u001b[0m | \u001b[34m\u001b[1mDEBUG   \u001b[0m | \u001b[36m__main__\u001b[0m:\u001b[36m<module>\u001b[0m:\u001b[36m14\u001b[0m - \u001b[34m\u001b[1mcurrent sentence `. In this last post I will skip the short chapter 9, on “Virtue and Joy,” and focus on selected passages of the very long chapter 10, “Marcus Aurelius in his Meditations,” where Hadot does his best to glean the character of the man behind the philosophy`\u001b[0m\n",
      "chunks:  85%|████████▍ | 330/389 [4:35:09<56:58, 57.94s/it]\u001b[32m2023-10-08 15:54:33.873\u001b[0m | \u001b[34m\u001b[1mDEBUG   \u001b[0m | \u001b[36m__main__\u001b[0m:\u001b[36m<module>\u001b[0m:\u001b[36m14\u001b[0m - \u001b[34m\u001b[1mcurrent sentence `. However, this isn’t just a biographical chapter, as Marcus’ character, life, and philosophy are deeply intertwined. Which means we are just as likely to learn about the man from his philosophy and life as we are about the philosophy by looking at how this extraordinary man attempted to put it into practice throughout his life.`\u001b[0m\n",
      "chunks:  85%|████████▌ | 331/389 [4:36:20<59:58, 62.05s/it]\u001b[32m2023-10-08 15:55:45.512\u001b[0m | \u001b[34m\u001b[1mDEBUG   \u001b[0m | \u001b[36m__main__\u001b[0m:\u001b[36m<module>\u001b[0m:\u001b[36m14\u001b[0m - \u001b[34m\u001b[1mcurrent sentence `Hadot is keenly aware of the perils of attempting this kind of analysis, and devotes an entire section of chapter 10 to a discussion of the limits of what he calls psychological history. In particular, he writes:`\u001b[0m\n",
      "chunks:  85%|████████▌ | 332/389 [4:37:02<53:14, 56.05s/it]\u001b[32m2023-10-08 15:56:27.542\u001b[0m | \u001b[34m\u001b[1mDEBUG   \u001b[0m | \u001b[36m__main__\u001b[0m:\u001b[36m<module>\u001b[0m:\u001b[36m14\u001b[0m - \u001b[34m\u001b[1mcurrent sentence `“The mistake made by some kind of psychological history is to project back onto the past our modern-day representations.” (p. 247)    Indeed, Marcus needs to be understood and appreciated (or criticized, as the case may be) within his own historical, social, and political contexts, not ours.`\u001b[0m\n"
     ]
    },
    {
     "name": "stdout",
     "output_type": "stream",
     "text": [
      "No stop tokens found in one of the generated voice clips. This typically means the spoken audio is too long. In some cases, the output will still be good, though. Listen to it and if it is missing words, try breaking up your input text.\n",
      "No stop tokens found in one of the generated voice clips. This typically means the spoken audio is too long. In some cases, the output will still be good, though. Listen to it and if it is missing words, try breaking up your input text.\n",
      "No stop tokens found in one of the generated voice clips. This typically means the spoken audio is too long. In some cases, the output will still be good, though. Listen to it and if it is missing words, try breaking up your input text.\n",
      "No stop tokens found in one of the generated voice clips. This typically means the spoken audio is too long. In some cases, the output will still be good, though. Listen to it and if it is missing words, try breaking up your input text.\n",
      "No stop tokens found in one of the generated voice clips. This typically means the spoken audio is too long. In some cases, the output will still be good, though. Listen to it and if it is missing words, try breaking up your input text.\n",
      "No stop tokens found in one of the generated voice clips. This typically means the spoken audio is too long. In some cases, the output will still be good, though. Listen to it and if it is missing words, try breaking up your input text.\n",
      "No stop tokens found in one of the generated voice clips. This typically means the spoken audio is too long. In some cases, the output will still be good, though. Listen to it and if it is missing words, try breaking up your input text.\n",
      "No stop tokens found in one of the generated voice clips. This typically means the spoken audio is too long. In some cases, the output will still be good, though. Listen to it and if it is missing words, try breaking up your input text.\n",
      "No stop tokens found in one of the generated voice clips. This typically means the spoken audio is too long. In some cases, the output will still be good, though. Listen to it and if it is missing words, try breaking up your input text.\n"
     ]
    },
    {
     "name": "stderr",
     "output_type": "stream",
     "text": [
      "\u001b[32m2023-10-08 15:58:01.962\u001b[0m | \u001b[33m\u001b[1mWARNING \u001b[0m | \u001b[36m__main__\u001b[0m:\u001b[36m<module>\u001b[0m:\u001b[36m24\u001b[0m - \u001b[33m\u001b[1mwrote chapter /media/wassname/SGIronWolf/projects5/tts-ai/use-tts-mjc/out/a_short_guide_to_the_inner_citadel_-_massimo_pigliucci20231008_03-19-11/40.ogg\u001b[0m\n",
      "chunks:  86%|████████▌ | 333/389 [4:38:37<1:03:03, 67.56s/it]\u001b[32m2023-10-08 15:58:01.963\u001b[0m | \u001b[34m\u001b[1mDEBUG   \u001b[0m | \u001b[36m__main__\u001b[0m:\u001b[36m<module>\u001b[0m:\u001b[36m14\u001b[0m - \u001b[34m\u001b[1mcurrent sentence `After a detour on the question of whether Marcus was an opium addict (not likely), and another one on Marcus stylistic elegance (he was a very good writer), Hadot attempts to derive some chronological signposts from the Meditations, a book that comes across as rather atemporal`\u001b[0m\n",
      "chunks:  86%|████████▌ | 334/389 [4:39:33<58:46, 64.12s/it]  \u001b[32m2023-10-08 15:58:58.075\u001b[0m | \u001b[34m\u001b[1mDEBUG   \u001b[0m | \u001b[36m__main__\u001b[0m:\u001b[36m<module>\u001b[0m:\u001b[36m14\u001b[0m - \u001b[34m\u001b[1mcurrent sentence `(which is probably one of the reasons it keeps being fascinating almost two millennia after it was written)`\u001b[0m\n",
      "chunks:  86%|████████▌ | 335/389 [4:39:52<45:39, 50.73s/it]\u001b[32m2023-10-08 15:59:17.543\u001b[0m | \u001b[34m\u001b[1mDEBUG   \u001b[0m | \u001b[36m__main__\u001b[0m:\u001b[36m<module>\u001b[0m:\u001b[36m14\u001b[0m - \u001b[34m\u001b[1mcurrent sentence `. We know that between books I and II an inscription says “Written in the land of the Quadi, on the banks of the Gran,” and between books II and III we read “Written in Carnutum`\u001b[0m\n",
      "chunks:  86%|████████▋ | 336/389 [4:40:44<45:08, 51.10s/it]\u001b[32m2023-10-08 16:00:09.501\u001b[0m | \u001b[34m\u001b[1mDEBUG   \u001b[0m | \u001b[36m__main__\u001b[0m:\u001b[36m<module>\u001b[0m:\u001b[36m14\u001b[0m - \u001b[34m\u001b[1mcurrent sentence `.” Carnutum was a Roman military base on the Danube, near Vienna, and Marcus fought against the Quadi and the Marcomanni from 170 to 173 CE. The river Gran is now called Hron, in Slovakia, and it joins the Danube in modern Hungary`\u001b[0m\n",
      "chunks:  87%|████████▋ | 337/389 [4:41:35<44:06, 50.90s/it]\u001b[32m2023-10-08 16:00:59.953\u001b[0m | \u001b[34m\u001b[1mDEBUG   \u001b[0m | \u001b[36m__main__\u001b[0m:\u001b[36m<module>\u001b[0m:\u001b[36m14\u001b[0m - \u001b[34m\u001b[1mcurrent sentence `. Assuming these two inscriptions are original, they tell us that Marcus wrote the Meditations in the midst of a military campaign, which Hadot suggests may explain the recurrence of the theme of death in books II and III`\u001b[0m\n",
      "chunks:  87%|████████▋ | 338/389 [4:42:22<42:21, 49.83s/it]\u001b[32m2023-10-08 16:01:47.269\u001b[0m | \u001b[34m\u001b[1mDEBUG   \u001b[0m | \u001b[36m__main__\u001b[0m:\u001b[36m<module>\u001b[0m:\u001b[36m14\u001b[0m - \u001b[34m\u001b[1mcurrent sentence `. We can speculate about when the other books were written, based on occasional internal references to Marcus’ court and his speeches to the Senate. Books IV through XII were likely written between 173 and 180 CE, the latter year being when Marcus died.`\u001b[0m\n",
      "chunks:  87%|████████▋ | 339/389 [4:43:27<45:15, 54.31s/it]\u001b[32m2023-10-08 16:02:52.054\u001b[0m | \u001b[34m\u001b[1mDEBUG   \u001b[0m | \u001b[36m__main__\u001b[0m:\u001b[36m<module>\u001b[0m:\u001b[36m14\u001b[0m - \u001b[34m\u001b[1mcurrent sentence `More interesting is Hadot’s analysis of the obvious difference between book I and the rest. Book I is highly structured, essentially being a long exercise in gratitude, where Marcus thanks all the people that have influenced him for the better, detailing what he learned from each one`\u001b[0m\n",
      "chunks:  87%|████████▋ | 340/389 [4:44:26<45:30, 55.73s/it]\u001b[32m2023-10-08 16:03:51.089\u001b[0m | \u001b[34m\u001b[1mDEBUG   \u001b[0m | \u001b[36m__main__\u001b[0m:\u001b[36m<module>\u001b[0m:\u001b[36m14\u001b[0m - \u001b[34m\u001b[1mcurrent sentence `. No such structure is evident in books II-XII. Hadot does attempt an analysis of recurring themes in those books, and the interested reader is referred directly to the chapter, or to my previous summaries of The Inner Citadel.`\u001b[0m\n",
      "\u001b[32m2023-10-08 16:04:57.253\u001b[0m | \u001b[33m\u001b[1mWARNING \u001b[0m | \u001b[36m__main__\u001b[0m:\u001b[36m<module>\u001b[0m:\u001b[36m24\u001b[0m - \u001b[33m\u001b[1mwrote chapter /media/wassname/SGIronWolf/projects5/tts-ai/use-tts-mjc/out/a_short_guide_to_the_inner_citadel_-_massimo_pigliucci20231008_03-19-11/41.ogg\u001b[0m\n",
      "chunks:  88%|████████▊ | 341/389 [4:45:32<47:05, 58.86s/it]\u001b[32m2023-10-08 16:04:57.254\u001b[0m | \u001b[34m\u001b[1mDEBUG   \u001b[0m | \u001b[36m__main__\u001b[0m:\u001b[36m<module>\u001b[0m:\u001b[36m14\u001b[0m - \u001b[34m\u001b[1mcurrent sentence `That said, the Meditations’ main theme is death. As Hadot puts it:`\u001b[0m\n",
      "chunks:  88%|████████▊ | 342/389 [4:45:48<35:55, 45.87s/it]\u001b[32m2023-10-08 16:05:12.810\u001b[0m | \u001b[34m\u001b[1mDEBUG   \u001b[0m | \u001b[36m__main__\u001b[0m:\u001b[36m<module>\u001b[0m:\u001b[36m14\u001b[0m - \u001b[34m\u001b[1mcurrent sentence `“From beginning to end, the Meditations are also an exercise of preparation for death, which involves, among other things, evoking famous figures of bygone times, who, in spite of their power, knowledge, and renown, died like everybody else.” (p. 275)`\u001b[0m\n",
      "chunks:  88%|████████▊ | 343/389 [4:47:00<41:11, 53.72s/it]\u001b[32m2023-10-08 16:06:24.861\u001b[0m | \u001b[34m\u001b[1mDEBUG   \u001b[0m | \u001b[36m__main__\u001b[0m:\u001b[36m<module>\u001b[0m:\u001b[36m14\u001b[0m - \u001b[34m\u001b[1mcurrent sentence `Hadot also suggests that in a sense the Meditations are Marcus’ “confessions,” analogous to some extent to the famous book by the same title written by Augustine of Hippo`\u001b[0m\n",
      "chunks:  88%|████████▊ | 344/389 [4:47:38<36:45, 49.01s/it]\u001b[32m2023-10-08 16:07:02.862\u001b[0m | \u001b[34m\u001b[1mDEBUG   \u001b[0m | \u001b[36m__main__\u001b[0m:\u001b[36m<module>\u001b[0m:\u001b[36m14\u001b[0m - \u001b[34m\u001b[1mcurrent sentence `. The first chapters in particular can be read as a personal spiritual itinerary, from childhood to the discovery of philosophy, and especially its practice:`\u001b[0m\n",
      "chunks:  89%|████████▊ | 345/389 [4:48:16<33:33, 45.76s/it]\u001b[32m2023-10-08 16:07:41.032\u001b[0m | \u001b[34m\u001b[1mDEBUG   \u001b[0m | \u001b[36m__main__\u001b[0m:\u001b[36m<module>\u001b[0m:\u001b[36m14\u001b[0m - \u001b[34m\u001b[1mcurrent sentence `“To have known Apollonius, Rusticus, Maximus`\u001b[0m\n",
      "chunks:  89%|████████▉ | 346/389 [4:48:31<26:09, 36.49s/it]\u001b[32m2023-10-08 16:07:55.900\u001b[0m | \u001b[34m\u001b[1mDEBUG   \u001b[0m | \u001b[36m__main__\u001b[0m:\u001b[36m<module>\u001b[0m:\u001b[36m14\u001b[0m - \u001b[34m\u001b[1mcurrent sentence `. To have had clear and frequent representations of the ‘life according to nature,’ so that, insofar as it depends on the gods and on the communications, assistance, and inspirations which come from above, nothing now prevents me from living`\u001b[0m\n",
      "chunks:  89%|████████▉ | 347/389 [4:49:30<30:20, 43.33s/it]\u001b[32m2023-10-08 16:08:55.207\u001b[0m | \u001b[34m\u001b[1mDEBUG   \u001b[0m | \u001b[36m__main__\u001b[0m:\u001b[36m<module>\u001b[0m:\u001b[36m14\u001b[0m - \u001b[34m\u001b[1mcurrent sentence `‘according to nature’; but I am far from that point by own fault, because I pay no attention to the reminders, or rather to the teachings, which come from the gods`\u001b[0m\n",
      "chunks:  89%|████████▉ | 348/389 [4:50:03<27:29, 40.24s/it]\u001b[32m2023-10-08 16:09:28.230\u001b[0m | \u001b[34m\u001b[1mDEBUG   \u001b[0m | \u001b[36m__main__\u001b[0m:\u001b[36m<module>\u001b[0m:\u001b[36m14\u001b[0m - \u001b[34m\u001b[1mcurrent sentence `.” (I.17.10)`\u001b[0m\n",
      "chunks:  90%|████████▉ | 349/389 [4:50:15<21:09, 31.73s/it]\u001b[32m2023-10-08 16:09:40.096\u001b[0m | \u001b[34m\u001b[1mDEBUG   \u001b[0m | \u001b[36m__main__\u001b[0m:\u001b[36m<module>\u001b[0m:\u001b[36m14\u001b[0m - \u001b[34m\u001b[1mcurrent sentence `The humbleness that evident in the previous passage is seen elsewhere in the Meditations, for instance in this passage when Marcus freely admits that people have a point when they remark on the limits of his intelligence:`\u001b[0m\n",
      "chunks:  90%|████████▉ | 350/389 [4:51:00<23:10, 35.64s/it]\u001b[32m2023-10-08 16:10:24.878\u001b[0m | \u001b[34m\u001b[1mDEBUG   \u001b[0m | \u001b[36m__main__\u001b[0m:\u001b[36m<module>\u001b[0m:\u001b[36m14\u001b[0m - \u001b[34m\u001b[1mcurrent sentence `“They can hardly admire your quickness of mind. So be it! But there are many other things about which you cannot say ‘I am not gifted.’ Show us, then, all these things that depend entirely on you: being without duplicity, beings serious … being free.” (V.5.1)`\u001b[0m\n",
      "\u001b[32m2023-10-08 16:11:34.003\u001b[0m | \u001b[33m\u001b[1mWARNING \u001b[0m | \u001b[36m__main__\u001b[0m:\u001b[36m<module>\u001b[0m:\u001b[36m24\u001b[0m - \u001b[33m\u001b[1mwrote chapter /media/wassname/SGIronWolf/projects5/tts-ai/use-tts-mjc/out/a_short_guide_to_the_inner_citadel_-_massimo_pigliucci20231008_03-19-11/42.ogg\u001b[0m\n",
      "chunks:  90%|█████████ | 351/389 [4:52:09<28:56, 45.69s/it]\u001b[32m2023-10-08 16:11:34.004\u001b[0m | \u001b[34m\u001b[1mDEBUG   \u001b[0m | \u001b[36m__main__\u001b[0m:\u001b[36m<module>\u001b[0m:\u001b[36m14\u001b[0m - \u001b[34m\u001b[1mcurrent sentence `A related issue often arises about Marcus’ character: was he sincere or affected? The emperor Hadrian, who picked Marcus for the line of succession, to come after Antoninus Pious, nicknamed Marcus “verissimus,” that is, the very sincere`\u001b[0m\n",
      "chunks:  90%|█████████ | 352/389 [4:53:14<31:48, 51.58s/it]\u001b[32m2023-10-08 16:12:39.338\u001b[0m | \u001b[34m\u001b[1mDEBUG   \u001b[0m | \u001b[36m__main__\u001b[0m:\u001b[36m<module>\u001b[0m:\u001b[36m14\u001b[0m - \u001b[34m\u001b[1mcurrent sentence `. And here is historian Cassius Dio, who lived during the reign of Commodus, Marcus’ infamous son:`\u001b[0m\n",
      "chunks:  91%|█████████ | 353/389 [4:53:38<25:50, 43.08s/it]\u001b[32m2023-10-08 16:13:02.565\u001b[0m | \u001b[34m\u001b[1mDEBUG   \u001b[0m | \u001b[36m__main__\u001b[0m:\u001b[36m<module>\u001b[0m:\u001b[36m14\u001b[0m - \u001b[34m\u001b[1mcurrent sentence `“He obviously did nothing out of affectation, but everything out of virtue. … To such an extent was he truly a good man, and there was nothing affected about him.” (Roman History, LXXII, 34, 4-5)`\u001b[0m\n",
      "chunks:  91%|█████████ | 354/389 [4:54:27<26:17, 45.07s/it]\u001b[32m2023-10-08 16:13:52.294\u001b[0m | \u001b[34m\u001b[1mDEBUG   \u001b[0m | \u001b[36m__main__\u001b[0m:\u001b[36m<module>\u001b[0m:\u001b[36m14\u001b[0m - \u001b[34m\u001b[1mcurrent sentence `How did Marcus balance his duties as emperor and his vocation as a philosopher? This, of course, is a crucial question, because it speaks directly to the effect, if any, of Stoicism on someone’s actual life, and an emperor's life at that`\u001b[0m\n",
      "chunks:  91%|█████████▏| 355/389 [4:55:15<26:01, 45.92s/it]\u001b[32m2023-10-08 16:14:40.199\u001b[0m | \u001b[34m\u001b[1mDEBUG   \u001b[0m | \u001b[36m__main__\u001b[0m:\u001b[36m<module>\u001b[0m:\u001b[36m14\u001b[0m - \u001b[34m\u001b[1mcurrent sentence `! Marcus often reminds himself that he is, in a sense, prisoner of the halls of power, and that he will always be surrounded by people who will attempt to take advantage of his favors`\u001b[0m\n",
      "chunks:  92%|█████████▏| 356/389 [4:55:58<24:43, 44.95s/it]\u001b[32m2023-10-08 16:15:22.868\u001b[0m | \u001b[34m\u001b[1mDEBUG   \u001b[0m | \u001b[36m__main__\u001b[0m:\u001b[36m<module>\u001b[0m:\u001b[36m14\u001b[0m - \u001b[34m\u001b[1mcurrent sentence `. He compares life to court to a stepmother, while his true mother is philosophy.`\u001b[0m\n",
      "chunks:  92%|█████████▏| 357/389 [4:56:15<19:31, 36.61s/it]\u001b[32m2023-10-08 16:15:40.018\u001b[0m | \u001b[34m\u001b[1mDEBUG   \u001b[0m | \u001b[36m__main__\u001b[0m:\u001b[36m<module>\u001b[0m:\u001b[36m14\u001b[0m - \u001b[34m\u001b[1mcurrent sentence `A fascinating point made by Hadot concerns the inevitable conflicts between Marcus’ duties as an emperor and as a practicing Stoic:`\u001b[0m\n",
      "chunks:  92%|█████████▏| 358/389 [4:56:42<17:24, 33.69s/it]\u001b[32m2023-10-08 16:16:06.910\u001b[0m | \u001b[34m\u001b[1mDEBUG   \u001b[0m | \u001b[36m__main__\u001b[0m:\u001b[36m<module>\u001b[0m:\u001b[36m14\u001b[0m - \u001b[34m\u001b[1mcurrent sentence `“These two duties are hard to reconcile: on the one hand, our duty [as Stoics] to love other human beings, with whom we form one single body, tree, or city [various metaphors used by Marcus]; on the other, our duty not to let ourselves be cajoled into adopting their false values and maxims of life.” (p`\u001b[0m\n",
      "chunks:  92%|█████████▏| 359/389 [4:57:55<22:48, 45.62s/it]\u001b[32m2023-10-08 16:17:20.355\u001b[0m | \u001b[34m\u001b[1mDEBUG   \u001b[0m | \u001b[36m__main__\u001b[0m:\u001b[36m<module>\u001b[0m:\u001b[36m14\u001b[0m - \u001b[34m\u001b[1mcurrent sentence `. 292)`\u001b[0m\n",
      "chunks:  93%|█████████▎| 360/389 [4:58:06<17:03, 35.28s/it]\u001b[32m2023-10-08 16:17:31.519\u001b[0m | \u001b[34m\u001b[1mDEBUG   \u001b[0m | \u001b[36m__main__\u001b[0m:\u001b[36m<module>\u001b[0m:\u001b[36m14\u001b[0m - \u001b[34m\u001b[1mcurrent sentence `This is a reminder that as Stoics we need to be coherent with our own values, which include the hard to explain and accept (for others) notion that the only truly good thing for us is our own sound judgments, and the only evil our own bad judgments`\u001b[0m\n",
      "\u001b[32m2023-10-08 16:18:30.676\u001b[0m | \u001b[33m\u001b[1mWARNING \u001b[0m | \u001b[36m__main__\u001b[0m:\u001b[36m<module>\u001b[0m:\u001b[36m24\u001b[0m - \u001b[33m\u001b[1mwrote chapter /media/wassname/SGIronWolf/projects5/tts-ai/use-tts-mjc/out/a_short_guide_to_the_inner_citadel_-_massimo_pigliucci20231008_03-19-11/43.ogg\u001b[0m\n",
      "chunks:  93%|█████████▎| 361/389 [4:59:06<19:48, 42.45s/it]\u001b[32m2023-10-08 16:18:30.678\u001b[0m | \u001b[34m\u001b[1mDEBUG   \u001b[0m | \u001b[36m__main__\u001b[0m:\u001b[36m<module>\u001b[0m:\u001b[36m14\u001b[0m - \u001b[34m\u001b[1mcurrent sentence `. At the same time, we cannot impose our philosophical framework on other people, and we should not use our Stoicism as a stick to beat others with. That is a major reason why questions along the lines of “is X Stoic?” don’t make much sense, or are at the very least misconceived.`\u001b[0m\n",
      "chunks:  93%|█████████▎| 362/389 [5:00:23<23:47, 52.87s/it]\u001b[32m2023-10-08 16:19:47.887\u001b[0m | \u001b[34m\u001b[1mDEBUG   \u001b[0m | \u001b[36m__main__\u001b[0m:\u001b[36m<module>\u001b[0m:\u001b[36m14\u001b[0m - \u001b[34m\u001b[1mcurrent sentence `Another very interesting question tackled by Hadot concerns the relationship between Stoicism and political programs. Nowadays, Stoics are accused of being de facto defenders of the status quo, pursuing virtue while at the same time ignoring structural societal problems`\u001b[0m\n",
      "chunks:  93%|█████████▎| 363/389 [5:01:43<26:30, 61.17s/it]\u001b[32m2023-10-08 16:21:08.409\u001b[0m | \u001b[34m\u001b[1mDEBUG   \u001b[0m | \u001b[36m__main__\u001b[0m:\u001b[36m<module>\u001b[0m:\u001b[36m14\u001b[0m - \u001b[34m\u001b[1mcurrent sentence `. This is more than a bit unfair (given that Stoicism is a personal, not political, philosophy) as well as historically inaccurate (consider, for instance, the famous “Stoic opposition” to three tyrannical emperors). Nevertheless, how did Marcus — as emperor — approach the issue?`\u001b[0m\n",
      "chunks:  94%|█████████▎| 364/389 [5:03:19<29:46, 71.47s/it]\u001b[32m2023-10-08 16:22:43.914\u001b[0m | \u001b[34m\u001b[1mDEBUG   \u001b[0m | \u001b[36m__main__\u001b[0m:\u001b[36m<module>\u001b[0m:\u001b[36m14\u001b[0m - \u001b[34m\u001b[1mcurrent sentence `One clue is found in his own explicit list of political role models, which included Paetus Thrasea, Helvidius Priscus, Cato the Younger, Marcus Junius Brutus, and Dio of Syracuse. The first two are mentioned by Epictetus, and were members of the Stoic opposition against Vespasian`\u001b[0m\n",
      "chunks:  94%|█████████▍| 365/389 [5:04:45<30:23, 75.98s/it]\u001b[32m2023-10-08 16:24:10.426\u001b[0m | \u001b[34m\u001b[1mDEBUG   \u001b[0m | \u001b[36m__main__\u001b[0m:\u001b[36m<module>\u001b[0m:\u001b[36m14\u001b[0m - \u001b[34m\u001b[1mcurrent sentence `. Cato was the archenemy of Julius Caesar, who died at Utica in north Africa in order not to allow his opponent to use his capture to score political points. Brutus was, of course, the chief conspirator against Caesar. And Dio deposed the infamous tyrant of Syracuse, Dionysius II, who almost got Plato killed`\u001b[0m\n"
     ]
    },
    {
     "name": "stdout",
     "output_type": "stream",
     "text": [
      "No stop tokens found in one of the generated voice clips. This typically means the spoken audio is too long. In some cases, the output will still be good, though. Listen to it and if it is missing words, try breaking up your input text.\n",
      "No stop tokens found in one of the generated voice clips. This typically means the spoken audio is too long. In some cases, the output will still be good, though. Listen to it and if it is missing words, try breaking up your input text.\n",
      "No stop tokens found in one of the generated voice clips. This typically means the spoken audio is too long. In some cases, the output will still be good, though. Listen to it and if it is missing words, try breaking up your input text.\n"
     ]
    },
    {
     "name": "stderr",
     "output_type": "stream",
     "text": [
      "\u001b[32m2023-10-08 16:25:56.570\u001b[0m | \u001b[33m\u001b[1mWARNING \u001b[0m | \u001b[36m__main__\u001b[0m:\u001b[36m<module>\u001b[0m:\u001b[36m24\u001b[0m - \u001b[33m\u001b[1mwrote chapter /media/wassname/SGIronWolf/projects5/tts-ai/use-tts-mjc/out/a_short_guide_to_the_inner_citadel_-_massimo_pigliucci20231008_03-19-11/44.ogg\u001b[0m\n",
      "chunks:  94%|█████████▍| 366/389 [5:06:32<32:35, 85.03s/it]\u001b[32m2023-10-08 16:25:56.571\u001b[0m | \u001b[34m\u001b[1mDEBUG   \u001b[0m | \u001b[36m__main__\u001b[0m:\u001b[36m<module>\u001b[0m:\u001b[36m14\u001b[0m - \u001b[34m\u001b[1mcurrent sentence `. All these men have in common the fact that they put their lives on the line to fight against tyranny and for what they regarded as liberty (albeit usually limited to the male dominant class). It is highly indicative that Marcus mentions them with admiration. Accordingly, Marcus articulates his own ideal for how to run the Roman state:`\u001b[0m\n",
      "chunks:  94%|█████████▍| 367/389 [5:07:51<30:34, 83.37s/it]\u001b[32m2023-10-08 16:27:16.057\u001b[0m | \u001b[34m\u001b[1mDEBUG   \u001b[0m | \u001b[36m__main__\u001b[0m:\u001b[36m<module>\u001b[0m:\u001b[36m14\u001b[0m - \u001b[34m\u001b[1mcurrent sentence `“A State in which the laws are equal for all, administered on the basis of equality and freedom of speech, and of a monarchy that respects the freedom of its subjects above all else.” (I.14.2)`\u001b[0m\n",
      "chunks:  95%|█████████▍| 368/389 [5:08:49<26:30, 75.75s/it]\u001b[32m2023-10-08 16:28:14.022\u001b[0m | \u001b[34m\u001b[1mDEBUG   \u001b[0m | \u001b[36m__main__\u001b[0m:\u001b[36m<module>\u001b[0m:\u001b[36m14\u001b[0m - \u001b[34m\u001b[1mcurrent sentence `This is absolutely remarkable, given the times! Yes, Marcus is still a monarch, but he wants to reign by collaborating with the Senate and while respecting equality and freedom of speech, an ideal not yet realized even in modern democracies.`\u001b[0m\n",
      "chunks:  95%|█████████▍| 369/389 [5:09:42<22:59, 68.99s/it]\u001b[32m2023-10-08 16:29:07.259\u001b[0m | \u001b[34m\u001b[1mDEBUG   \u001b[0m | \u001b[36m__main__\u001b[0m:\u001b[36m<module>\u001b[0m:\u001b[36m14\u001b[0m - \u001b[34m\u001b[1mcurrent sentence `In fact, with regard to the Senate, he famously addressed that body in the following manner, according to Cassius Dio:   “We possess nothing of our own, and it is in your house that we live.” (Roman History, LXXII, 33, 2)`\u001b[0m\n",
      "chunks:  95%|█████████▌| 370/389 [5:10:35<20:17, 64.11s/it]\u001b[32m2023-10-08 16:29:59.957\u001b[0m | \u001b[34m\u001b[1mDEBUG   \u001b[0m | \u001b[36m__main__\u001b[0m:\u001b[36m<module>\u001b[0m:\u001b[36m14\u001b[0m - \u001b[34m\u001b[1mcurrent sentence `The occasion was the financing of the Danubian war. The funds were readily available to the emperor, who did not need to ask the permission of the Senate. But that was nonetheless the right thing to do, and Marcus did it.`\u001b[0m\n",
      "chunks:  95%|█████████▌| 371/389 [5:11:24<17:51, 59.55s/it]\u001b[32m2023-10-08 16:30:48.862\u001b[0m | \u001b[34m\u001b[1mDEBUG   \u001b[0m | \u001b[36m__main__\u001b[0m:\u001b[36m<module>\u001b[0m:\u001b[36m14\u001b[0m - \u001b[34m\u001b[1mcurrent sentence `Also germane to the issue of politics is Marcus’ famous reminder to himself not to wait for Plato’s Republic:`\u001b[0m\n",
      "chunks:  96%|█████████▌| 372/389 [5:11:50<14:00, 49.45s/it]\u001b[32m2023-10-08 16:31:14.765\u001b[0m | \u001b[34m\u001b[1mDEBUG   \u001b[0m | \u001b[36m__main__\u001b[0m:\u001b[36m<module>\u001b[0m:\u001b[36m14\u001b[0m - \u001b[34m\u001b[1mcurrent sentence `“Do what Nature [i.e., reason] asks you to do in this very moment. Direct your will in this direction, if it is granted you to do so, and don’t look around to see whether anyone will know about it`\u001b[0m\n",
      "chunks:  96%|█████████▌| 373/389 [5:12:32<12:34, 47.17s/it]\u001b[32m2023-10-08 16:31:56.593\u001b[0m | \u001b[34m\u001b[1mDEBUG   \u001b[0m | \u001b[36m__main__\u001b[0m:\u001b[36m<module>\u001b[0m:\u001b[36m14\u001b[0m - \u001b[34m\u001b[1mcurrent sentence `. Don’t wait for Plato’s Republic! Rather, be content if one tiny thing makes some progress, and reflect on the fact that what results from this tiny progress is no tiny thing at all!” (IX.29)`\u001b[0m\n",
      "\u001b[32m2023-10-08 16:32:46.123\u001b[0m | \u001b[33m\u001b[1mWARNING \u001b[0m | \u001b[36m__main__\u001b[0m:\u001b[36m<module>\u001b[0m:\u001b[36m24\u001b[0m - \u001b[33m\u001b[1mwrote chapter /media/wassname/SGIronWolf/projects5/tts-ai/use-tts-mjc/out/a_short_guide_to_the_inner_citadel_-_massimo_pigliucci20231008_03-19-11/45.ogg\u001b[0m\n",
      "chunks:  96%|█████████▌| 374/389 [5:13:21<11:58, 47.87s/it]\u001b[32m2023-10-08 16:32:46.124\u001b[0m | \u001b[34m\u001b[1mDEBUG   \u001b[0m | \u001b[36m__main__\u001b[0m:\u001b[36m<module>\u001b[0m:\u001b[36m14\u001b[0m - \u001b[34m\u001b[1mcurrent sentence `As Hadot observes, the phrase “Plato’s Republic” did not literally indicate the specific system of government outlined by Plato in that book, but referred more generally to a state in which all citizens have become philosophers, thus bringing about a society in perfect harmony`\u001b[0m\n",
      "chunks:  96%|█████████▋| 375/389 [5:14:20<11:57, 51.23s/it]\u001b[32m2023-10-08 16:33:45.198\u001b[0m | \u001b[34m\u001b[1mDEBUG   \u001b[0m | \u001b[36m__main__\u001b[0m:\u001b[36m<module>\u001b[0m:\u001b[36m14\u001b[0m - \u001b[34m\u001b[1mcurrent sentence `. So Marcus, a real life politician whose conduct was guided by Stoic philosophy, was reminding himself that it is dangerous to await for the realization of what we would today call a utopia. Instead, we must work to make progress, regardless of how apparently small, because all progress matters, morally speaking.`\u001b[0m\n",
      "chunks:  97%|█████████▋| 376/389 [5:15:46<13:21, 61.64s/it]\u001b[32m2023-10-08 16:35:11.112\u001b[0m | \u001b[34m\u001b[1mDEBUG   \u001b[0m | \u001b[36m__main__\u001b[0m:\u001b[36m<module>\u001b[0m:\u001b[36m14\u001b[0m - \u001b[34m\u001b[1mcurrent sentence `Hadot makes the point — supported by a recent biography — that the problem with Cato the Younger was precisely that, although he was a men of high integrity, he did in fact act as if utopia were around the corner:`\u001b[0m\n",
      "chunks:  97%|█████████▋| 377/389 [5:16:27<11:06, 55.52s/it]\u001b[32m2023-10-08 16:35:52.367\u001b[0m | \u001b[34m\u001b[1mDEBUG   \u001b[0m | \u001b[36m__main__\u001b[0m:\u001b[36m<module>\u001b[0m:\u001b[36m14\u001b[0m - \u001b[34m\u001b[1mcurrent sentence `“Cicero says [in Letters to Atticus, 2, 1, 8] of Cato of Utica that he used to act as if he were living in Plato’s Republic, and not in the mud of Romulus. … This is the eternal drama of humanity in general and of politics in particular`\u001b[0m\n",
      "chunks:  97%|█████████▋| 378/389 [5:17:40<11:07, 60.65s/it]\u001b[32m2023-10-08 16:37:04.984\u001b[0m | \u001b[34m\u001b[1mDEBUG   \u001b[0m | \u001b[36m__main__\u001b[0m:\u001b[36m<module>\u001b[0m:\u001b[36m14\u001b[0m - \u001b[34m\u001b[1mcurrent sentence `. Unless it transforms people completely, politics can never be anything other than a compromise with evil.” (p. 304)`\u001b[0m\n",
      "chunks:  97%|█████████▋| 379/389 [5:18:06<08:21, 50.19s/it]\u001b[32m2023-10-08 16:37:30.775\u001b[0m | \u001b[34m\u001b[1mDEBUG   \u001b[0m | \u001b[36m__main__\u001b[0m:\u001b[36m<module>\u001b[0m:\u001b[36m14\u001b[0m - \u001b[34m\u001b[1mcurrent sentence `And this, unfortunately, was true during the Roman Republic and Empire just as it is true pretty much everywhere on the globe in the 21st century. That’s why it isn’t the job of politics to transform people, but rather that of philosophy`\u001b[0m\n",
      "chunks:  98%|█████████▊| 380/389 [5:19:01<07:46, 51.82s/it]\u001b[32m2023-10-08 16:38:26.406\u001b[0m | \u001b[34m\u001b[1mDEBUG   \u001b[0m | \u001b[36m__main__\u001b[0m:\u001b[36m<module>\u001b[0m:\u001b[36m14\u001b[0m - \u001b[34m\u001b[1mcurrent sentence `. Politics is needed to compromise with evil, until, perhaps, we can ban evil by changing people.`\u001b[0m\n",
      "chunks:  98%|█████████▊| 381/389 [5:19:22<05:40, 42.57s/it]\u001b[32m2023-10-08 16:38:47.394\u001b[0m | \u001b[34m\u001b[1mDEBUG   \u001b[0m | \u001b[36m__main__\u001b[0m:\u001b[36m<module>\u001b[0m:\u001b[36m14\u001b[0m - \u001b[34m\u001b[1mcurrent sentence `About the Author   ￼`\u001b[0m\n",
      "chunks:  98%|█████████▊| 382/389 [5:19:31<03:46, 32.33s/it]\u001b[32m2023-10-08 16:38:55.813\u001b[0m | \u001b[34m\u001b[1mDEBUG   \u001b[0m | \u001b[36m__main__\u001b[0m:\u001b[36m<module>\u001b[0m:\u001b[36m14\u001b[0m - \u001b[34m\u001b[1mcurrent sentence `Massimo Pigliucci is the K.D. Irani Professor of Philosophy at the City College of New York. His academic work is in evolutionary biology, philosophy of science, the nature of pseudoscience, and the practical philosophy of Stoicism`\u001b[0m\n",
      "\u001b[32m2023-10-08 16:40:12.047\u001b[0m | \u001b[33m\u001b[1mWARNING \u001b[0m | \u001b[36m__main__\u001b[0m:\u001b[36m<module>\u001b[0m:\u001b[36m24\u001b[0m - \u001b[33m\u001b[1mwrote chapter /media/wassname/SGIronWolf/projects5/tts-ai/use-tts-mjc/out/a_short_guide_to_the_inner_citadel_-_massimo_pigliucci20231008_03-19-11/46.ogg\u001b[0m\n",
      "chunks:  98%|█████████▊| 383/389 [5:20:47<04:32, 45.50s/it]\u001b[32m2023-10-08 16:40:12.049\u001b[0m | \u001b[34m\u001b[1mDEBUG   \u001b[0m | \u001b[36m__main__\u001b[0m:\u001b[36m<module>\u001b[0m:\u001b[36m14\u001b[0m - \u001b[34m\u001b[1mcurrent sentence `. His books include How to Be a Stoic: Using Ancient Philosophy to Live a Modern Life (Basic Books) and Nonsense on Stilts: How to Tell Science from Bunk (University of Chicago Press). His most recent book is A Field Guide to a Happy Life: 53 Brief Lessons for Living (Basic Books)`\u001b[0m\n",
      "chunks:  99%|█████████▊| 384/389 [5:22:00<04:28, 53.67s/it]\u001b[32m2023-10-08 16:41:24.771\u001b[0m | \u001b[34m\u001b[1mDEBUG   \u001b[0m | \u001b[36m__main__\u001b[0m:\u001b[36m<module>\u001b[0m:\u001b[36m14\u001b[0m - \u001b[34m\u001b[1mcurrent sentence `. More by Massimo at figsinwinter.blog.`\u001b[0m\n",
      "chunks:  99%|█████████▉| 385/389 [5:22:16<02:49, 42.42s/it]\u001b[32m2023-10-08 16:41:40.945\u001b[0m | \u001b[34m\u001b[1mDEBUG   \u001b[0m | \u001b[36m__main__\u001b[0m:\u001b[36m<module>\u001b[0m:\u001b[36m14\u001b[0m - \u001b[34m\u001b[1mcurrent sentence `Table Of Contents`\u001b[0m\n",
      "chunks:  99%|█████████▉| 386/389 [5:22:25<01:37, 32.43s/it]\u001b[32m2023-10-08 16:41:50.072\u001b[0m | \u001b[34m\u001b[1mDEBUG   \u001b[0m | \u001b[36m__main__\u001b[0m:\u001b[36m<module>\u001b[0m:\u001b[36m14\u001b[0m - \u001b[34m\u001b[1mcurrent sentence `Introduction \t1-Marcus Aurelius’ teachers \t2-A first glimpse of the Meditations \t3-The Meditations as spiritual exercises \t4-The philosopher-slave and the emperor-philosopher \t5-The beautifully coherent Stoicism of Epictetus \t6-The discipline of assent \t7-The discipline of desire, or amor fati`\u001b[0m\n"
     ]
    },
    {
     "name": "stdout",
     "output_type": "stream",
     "text": [
      "No stop tokens found in one of the generated voice clips. This typically means the spoken audio is too long. In some cases, the output will still be good, though. Listen to it and if it is missing words, try breaking up your input text.\n",
      "No stop tokens found in one of the generated voice clips. This typically means the spoken audio is too long. In some cases, the output will still be good, though. Listen to it and if it is missing words, try breaking up your input text.\n",
      "No stop tokens found in one of the generated voice clips. This typically means the spoken audio is too long. In some cases, the output will still be good, though. Listen to it and if it is missing words, try breaking up your input text.\n",
      "No stop tokens found in one of the generated voice clips. This typically means the spoken audio is too long. In some cases, the output will still be good, though. Listen to it and if it is missing words, try breaking up your input text.\n",
      "No stop tokens found in one of the generated voice clips. This typically means the spoken audio is too long. In some cases, the output will still be good, though. Listen to it and if it is missing words, try breaking up your input text.\n",
      "No stop tokens found in one of the generated voice clips. This typically means the spoken audio is too long. In some cases, the output will still be good, though. Listen to it and if it is missing words, try breaking up your input text.\n",
      "No stop tokens found in one of the generated voice clips. This typically means the spoken audio is too long. In some cases, the output will still be good, though. Listen to it and if it is missing words, try breaking up your input text.\n",
      "No stop tokens found in one of the generated voice clips. This typically means the spoken audio is too long. In some cases, the output will still be good, though. Listen to it and if it is missing words, try breaking up your input text.\n",
      "No stop tokens found in one of the generated voice clips. This typically means the spoken audio is too long. In some cases, the output will still be good, though. Listen to it and if it is missing words, try breaking up your input text.\n",
      "No stop tokens found in one of the generated voice clips. This typically means the spoken audio is too long. In some cases, the output will still be good, though. Listen to it and if it is missing words, try breaking up your input text.\n",
      "No stop tokens found in one of the generated voice clips. This typically means the spoken audio is too long. In some cases, the output will still be good, though. Listen to it and if it is missing words, try breaking up your input text.\n",
      "No stop tokens found in one of the generated voice clips. This typically means the spoken audio is too long. In some cases, the output will still be good, though. Listen to it and if it is missing words, try breaking up your input text.\n",
      "No stop tokens found in one of the generated voice clips. This typically means the spoken audio is too long. In some cases, the output will still be good, though. Listen to it and if it is missing words, try breaking up your input text.\n",
      "No stop tokens found in one of the generated voice clips. This typically means the spoken audio is too long. In some cases, the output will still be good, though. Listen to it and if it is missing words, try breaking up your input text.\n",
      "No stop tokens found in one of the generated voice clips. This typically means the spoken audio is too long. In some cases, the output will still be good, though. Listen to it and if it is missing words, try breaking up your input text.\n",
      "No stop tokens found in one of the generated voice clips. This typically means the spoken audio is too long. In some cases, the output will still be good, though. Listen to it and if it is missing words, try breaking up your input text.\n",
      "No stop tokens found in one of the generated voice clips. This typically means the spoken audio is too long. In some cases, the output will still be good, though. Listen to it and if it is missing words, try breaking up your input text.\n",
      "No stop tokens found in one of the generated voice clips. This typically means the spoken audio is too long. In some cases, the output will still be good, though. Listen to it and if it is missing words, try breaking up your input text.\n",
      "No stop tokens found in one of the generated voice clips. This typically means the spoken audio is too long. In some cases, the output will still be good, though. Listen to it and if it is missing words, try breaking up your input text.\n",
      "No stop tokens found in one of the generated voice clips. This typically means the spoken audio is too long. In some cases, the output will still be good, though. Listen to it and if it is missing words, try breaking up your input text.\n",
      "No stop tokens found in one of the generated voice clips. This typically means the spoken audio is too long. In some cases, the output will still be good, though. Listen to it and if it is missing words, try breaking up your input text.\n",
      "No stop tokens found in one of the generated voice clips. This typically means the spoken audio is too long. In some cases, the output will still be good, though. Listen to it and if it is missing words, try breaking up your input text.\n",
      "No stop tokens found in one of the generated voice clips. This typically means the spoken audio is too long. In some cases, the output will still be good, though. Listen to it and if it is missing words, try breaking up your input text.\n",
      "No stop tokens found in one of the generated voice clips. This typically means the spoken audio is too long. In some cases, the output will still be good, though. Listen to it and if it is missing words, try breaking up your input text.\n",
      "No stop tokens found in one of the generated voice clips. This typically means the spoken audio is too long. In some cases, the output will still be good, though. Listen to it and if it is missing words, try breaking up your input text.\n",
      "No stop tokens found in one of the generated voice clips. This typically means the spoken audio is too long. In some cases, the output will still be good, though. Listen to it and if it is missing words, try breaking up your input text.\n",
      "No stop tokens found in one of the generated voice clips. This typically means the spoken audio is too long. In some cases, the output will still be good, though. Listen to it and if it is missing words, try breaking up your input text.\n",
      "No stop tokens found in one of the generated voice clips. This typically means the spoken audio is too long. In some cases, the output will still be good, though. Listen to it and if it is missing words, try breaking up your input text.\n",
      "No stop tokens found in one of the generated voice clips. This typically means the spoken audio is too long. In some cases, the output will still be good, though. Listen to it and if it is missing words, try breaking up your input text.\n",
      "No stop tokens found in one of the generated voice clips. This typically means the spoken audio is too long. In some cases, the output will still be good, though. Listen to it and if it is missing words, try breaking up your input text.\n",
      "No stop tokens found in one of the generated voice clips. This typically means the spoken audio is too long. In some cases, the output will still be good, though. Listen to it and if it is missing words, try breaking up your input text.\n",
      "No stop tokens found in one of the generated voice clips. This typically means the spoken audio is too long. In some cases, the output will still be good, though. Listen to it and if it is missing words, try breaking up your input text.\n",
      "No stop tokens found in one of the generated voice clips. This typically means the spoken audio is too long. In some cases, the output will still be good, though. Listen to it and if it is missing words, try breaking up your input text.\n",
      "No stop tokens found in one of the generated voice clips. This typically means the spoken audio is too long. In some cases, the output will still be good, though. Listen to it and if it is missing words, try breaking up your input text.\n",
      "No stop tokens found in one of the generated voice clips. This typically means the spoken audio is too long. In some cases, the output will still be good, though. Listen to it and if it is missing words, try breaking up your input text.\n"
     ]
    },
    {
     "name": "stderr",
     "output_type": "stream",
     "text": [
      "chunks:  99%|█████████▉| 387/389 [5:24:02<01:43, 51.68s/it]\u001b[32m2023-10-08 16:43:26.672\u001b[0m | \u001b[34m\u001b[1mDEBUG   \u001b[0m | \u001b[36m__main__\u001b[0m:\u001b[36m<module>\u001b[0m:\u001b[36m14\u001b[0m - \u001b[34m\u001b[1mcurrent sentence `8-The discipline of action, in the service of humanity \t9-Marcus Aurelius — the man himself \tAbout the Author`\u001b[0m\n",
      "chunks: 100%|█████████▉| 388/389 [5:24:27<00:43, 43.75s/it]\u001b[32m2023-10-08 16:43:51.929\u001b[0m | \u001b[34m\u001b[1mDEBUG   \u001b[0m | \u001b[36m__main__\u001b[0m:\u001b[36m<module>\u001b[0m:\u001b[36m14\u001b[0m - \u001b[34m\u001b[1mcurrent sentence `function Body_onLoad() { }`\u001b[0m\n",
      "chunks: 100%|██████████| 389/389 [5:24:37<00:00, 50.07s/it]\n"
     ]
    },
    {
     "ename": "AttributeError",
     "evalue": "'list' object has no attribute 'cpu'",
     "output_type": "error",
     "traceback": [
      "\u001b[0;31m---------------------------------------------------------------------------\u001b[0m",
      "\u001b[0;31mAttributeError\u001b[0m                            Traceback (most recent call last)",
      "\u001b[1;32m/media/wassname/SGIronWolf/projects5/tts-ai/use-tts-mjc/notebooks/01_epub_tortise.ipynb Cell 9\u001b[0m line \u001b[0;36m2\n\u001b[1;32m     <a href='vscode-notebook-cell:/media/wassname/SGIronWolf/projects5/tts-ai/use-tts-mjc/notebooks/01_epub_tortise.ipynb#X14sZmlsZQ%3D%3D?line=24'>25</a>\u001b[0m         waveforms \u001b[39m=\u001b[39m []\n\u001b[1;32m     <a href='vscode-notebook-cell:/media/wassname/SGIronWolf/projects5/tts-ai/use-tts-mjc/notebooks/01_epub_tortise.ipynb#X14sZmlsZQ%3D%3D?line=26'>27</a>\u001b[0m \u001b[39mif\u001b[39;00m \u001b[39mlen\u001b[39m(waveforms):  \n\u001b[0;32m---> <a href='vscode-notebook-cell:/media/wassname/SGIronWolf/projects5/tts-ai/use-tts-mjc/notebooks/01_epub_tortise.ipynb#X14sZmlsZQ%3D%3D?line=27'>28</a>\u001b[0m     writer\u001b[39m.\u001b[39;49mwrite_chapter(waveforms)\n\u001b[1;32m     <a href='vscode-notebook-cell:/media/wassname/SGIronWolf/projects5/tts-ai/use-tts-mjc/notebooks/01_epub_tortise.ipynb#X14sZmlsZQ%3D%3D?line=28'>29</a>\u001b[0m writer\u001b[39m.\u001b[39mclose()\n",
      "\u001b[1;32m/media/wassname/SGIronWolf/projects5/tts-ai/use-tts-mjc/notebooks/01_epub_tortise.ipynb Cell 9\u001b[0m line \u001b[0;36m1\n\u001b[1;32m     <a href='vscode-notebook-cell:/media/wassname/SGIronWolf/projects5/tts-ai/use-tts-mjc/notebooks/01_epub_tortise.ipynb#X14sZmlsZQ%3D%3D?line=10'>11</a>\u001b[0m \u001b[39mdef\u001b[39;00m \u001b[39mwrite_chapter\u001b[39m(\u001b[39mself\u001b[39m, waveforms: torch\u001b[39m.\u001b[39mtensor, SAMPLE_RATE\u001b[39m=\u001b[39m\u001b[39m24000\u001b[39m):\n\u001b[1;32m     <a href='vscode-notebook-cell:/media/wassname/SGIronWolf/projects5/tts-ai/use-tts-mjc/notebooks/01_epub_tortise.ipynb#X14sZmlsZQ%3D%3D?line=11'>12</a>\u001b[0m     wav_f \u001b[39m=\u001b[39m \u001b[39mself\u001b[39m\u001b[39m.\u001b[39mout_dir \u001b[39m/\u001b[39m \u001b[39mf\u001b[39m\u001b[39m'\u001b[39m\u001b[39m{\u001b[39;00m\u001b[39mself\u001b[39m\u001b[39m.\u001b[39mchapter\u001b[39m}\u001b[39;00m\u001b[39m.ogg\u001b[39m\u001b[39m'\u001b[39m\n\u001b[0;32m---> <a href='vscode-notebook-cell:/media/wassname/SGIronWolf/projects5/tts-ai/use-tts-mjc/notebooks/01_epub_tortise.ipynb#X14sZmlsZQ%3D%3D?line=12'>13</a>\u001b[0m     torchaudio\u001b[39m.\u001b[39msave(wav_f, waveforms\u001b[39m.\u001b[39;49mcpu(), SAMPLE_RATE)\n\u001b[1;32m     <a href='vscode-notebook-cell:/media/wassname/SGIronWolf/projects5/tts-ai/use-tts-mjc/notebooks/01_epub_tortise.ipynb#X14sZmlsZQ%3D%3D?line=13'>14</a>\u001b[0m     \u001b[39mself\u001b[39m\u001b[39m.\u001b[39mm3u\u001b[39m.\u001b[39mwrite(\u001b[39mf\u001b[39m\u001b[39m'\u001b[39m\u001b[39m{\u001b[39;00mwav_f\u001b[39m}\u001b[39;00m\u001b[39m\\n\u001b[39;00m\u001b[39m'\u001b[39m)\n\u001b[1;32m     <a href='vscode-notebook-cell:/media/wassname/SGIronWolf/projects5/tts-ai/use-tts-mjc/notebooks/01_epub_tortise.ipynb#X14sZmlsZQ%3D%3D?line=14'>15</a>\u001b[0m     \u001b[39mself\u001b[39m\u001b[39m.\u001b[39mchapter \u001b[39m+\u001b[39m\u001b[39m=\u001b[39m \u001b[39m1\u001b[39m\n",
      "\u001b[0;31mAttributeError\u001b[0m: 'list' object has no attribute 'cpu'"
     ]
    }
   ],
   "source": [
    "tokenizer = tts.tokenizer\n",
    "segs = split_into_sentences(text, tokenizer)\n",
    "waveforms = []\n",
    "writer = Writer(out_dir)\n",
    "for i, t in enumerate(tqdm(segs, desc='chunks')):\n",
    "    t = t.replace('\\n', ' ').strip()\n",
    "    # Skip empty text\n",
    "    if t == None or t == '':\n",
    "        continue\n",
    "    # check if contains words or numbers\n",
    "    if not re.search('[a-zA-Z0-9]', t):\n",
    "        logger.debug(f'Skipping text without words or numbers `{t}`')\n",
    "        continue\n",
    "    logger.debug(f'current sentence `{t}`')\n",
    "    \n",
    "    wav_t = tts.tts_with_preset(t, voice_samples=reference_clips, preset='fast', verbose=i==0) # ultra_fast, fast, standard\n",
    "    wav = wav_t.cpu()\n",
    "    waveforms.append(wav)\n",
    "    \n",
    "    len_wav = sum([w.shape[-1] for w in waveforms])\n",
    "    if len_wav > 10000000//4:  # ~20G of RAM, ~2 minutes of audio output, ~7 minutes to generate\n",
    "        wavs = torch.concat(waveforms, dim=-1).cpu().squeeze(0)\n",
    "        wav_f = writer.write_chapter(wavs, OUTPUT_SAMPLE_RATE)\n",
    "        logger.warning(f\"wrote chapter {wav_f}\")\n",
    "        waveforms = []\n",
    "        \n",
    "if len(waveforms):  \n",
    "    wavs = torch.concat(waveforms, dim=-1).cpu().squeeze(0)\n",
    "    wav_f = writer.write_chapter(wavs)\n",
    "    logger.warning(f\"wrote chapter {wav_f}\")\n",
    "writer.close()\n"
   ]
  },
  {
   "cell_type": "code",
   "execution_count": 9,
   "metadata": {},
   "outputs": [],
   "source": []
  },
  {
   "cell_type": "code",
   "execution_count": null,
   "metadata": {},
   "outputs": [],
   "source": [
    "# # Test\n",
    "\n",
    "# len_wav = sum([w.shape[-1] for w in waveforms])\n",
    "# print(len_wav)\n",
    "\n",
    "# wavs = torch.concat(waveforms, dim=-1).cpu().squeeze(0)\n",
    "# writer.write_chapter(wavs)\n"
   ]
  },
  {
   "cell_type": "code",
   "execution_count": 22,
   "metadata": {},
   "outputs": [
    {
     "data": {
      "text/plain": [
       "'/media/wassname/SGIronWolf/projects5/tts-ai/use-tts-mjc/out/a_short_guide_to_the_inner_citadel_-_massimo_pigliucci20231008_03-19-11.ogg'"
      ]
     },
     "execution_count": 22,
     "metadata": {},
     "output_type": "execute_result"
    }
   ],
   "source": [
    "def join_folder(folder: Path):\n",
    "    files = sorted(folder.glob('*.ogg'))\n",
    "    tensors = [torchaudio.load(f)[0] for f in files]\n",
    "    tensor = torch.concat(tensors, 1)\n",
    "    f = str(folder) + '.ogg'\n",
    "    torchaudio.save(f, tensor, 24000)\n",
    "    return f\n",
    "    \n",
    "f = join_folder(out_dir)\n",
    "print(f\"saved final file to {f}\")\n"
   ]
  }
 ],
 "metadata": {
  "kernelspec": {
   "display_name": "tts",
   "language": "python",
   "name": "python3"
  },
  "language_info": {
   "codemirror_mode": {
    "name": "ipython",
    "version": 3
   },
   "file_extension": ".py",
   "mimetype": "text/x-python",
   "name": "python",
   "nbconvert_exporter": "python",
   "pygments_lexer": "ipython3",
   "version": "3.10.12"
  }
 },
 "nbformat": 4,
 "nbformat_minor": 2
}
